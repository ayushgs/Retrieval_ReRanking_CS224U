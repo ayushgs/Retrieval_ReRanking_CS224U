{
 "cells": [
  {
   "cell_type": "code",
   "execution_count": 82,
   "metadata": {},
   "outputs": [],
   "source": [
    "#importing dependencies\n",
    "import numpy as np\n",
    "import os\n",
    "import pickle as pkl\n",
    "import math\n",
    "from math import log2\n",
    "import utils\n",
    "from collections import Counter, defaultdict\n",
    "import copy\n",
    "from sklearn.linear_model import LinearRegression\n",
    "from sklearn.neural_network import MLPRegressor"
   ]
  },
  {
   "cell_type": "code",
   "execution_count": 2,
   "metadata": {},
   "outputs": [],
   "source": [
    "base_dir_name = os.getcwd()\n",
    "data_dir_name = \"project_data\"\n",
    "data_dir = os.path.join(base_dir_name, data_dir_name)"
   ]
  },
  {
   "cell_type": "markdown",
   "metadata": {},
   "source": [
    "### Analyzing data"
   ]
  },
  {
   "cell_type": "code",
   "execution_count": 3,
   "metadata": {},
   "outputs": [],
   "source": [
    "def load_data(signal_filename, relevance_filename, vocab_dict, vocab_id_list, vocab_frequency):\n",
    "    \n",
    "    # We will return these 7 things!\n",
    "    query_dict = {} #maps queries to query id (Assuming distinct queries)\n",
    "    doc_dict = {}  #maps docs to doc id\n",
    "    query_doc_dict = {} #maps query ids to list of doc ids\n",
    "    query_id_list = [] #list\n",
    "    doc_id_list = []\n",
    "    query_doc_relevance = {}\n",
    "    docId_to_content = {} #dict maps from doc id to the contents in the doc. The content is saved as a list of vocab_ids\n",
    "    results_dict = {\n",
    "        'query_dict': query_dict,\n",
    "        'doc_dict': doc_dict,\n",
    "        'query_doc_dict': query_doc_dict,\n",
    "        'query_id_list': query_id_list,\n",
    "        'doc_id_list': doc_id_list,\n",
    "        'query_doc_relevance': query_doc_relevance,\n",
    "        'docId_to_content': docId_to_content,\n",
    "    }\n",
    "    \n",
    "    doc_list_for_query = []\n",
    "    query_repetitions = {} #dict mapping queries to number of repetitions\n",
    "    query_counter = 0\n",
    "    doc_repetitions = 0\n",
    "\n",
    "    with open(os.path.join(data_dir, signal_filename), \"r\", encoding='utf8') as f:\n",
    "        last_query_id = 0 \n",
    "        for line in f:\n",
    "            line_list = line.split()\n",
    "            if line_list[0] == 'query:':\n",
    "                query_counter += 1\n",
    "                if query_counter >= 2:\n",
    "                    query_doc_dict[last_query_id] = doc_list_for_query\n",
    "\n",
    "                query = \" \".join(line_list[1:])\n",
    "\n",
    "                if query_dict.get(query, None) != None:\n",
    "                    query_repetitions[query] = query_repetitions.get(query, 0) + 1\n",
    "                    query = query + \"_\" + str(query_repetitions[query])\n",
    "\n",
    "                query_id_list.append(query)\n",
    "                query_dict[query] = len(query_id_list) - 1\n",
    "\n",
    "                last_query_id = len(query_id_list) - 1 #update the last query whenever a new query starts\n",
    "                doc_list_for_query = [] #reinitialize the doc list whenever a new query starts\n",
    "\n",
    "            elif line_list[0] == 'url:':\n",
    "                assert len(line_list) == 2, \"line_list for url has more than 2 entries. Please check!\"\n",
    "                doc = line_list[1]\n",
    "                if doc_dict.get(doc, None) == None:\n",
    "                    doc_id_list.append(doc)\n",
    "                    doc_id = len(doc_id_list) -1\n",
    "                    doc_dict[doc] = doc_id\n",
    "                else:\n",
    "                    doc_id = doc_dict[doc]\n",
    "                if doc_id not in doc_list_for_query: \n",
    "                    doc_list_for_query.append(doc_id)\n",
    "\n",
    "            else:\n",
    "                continue\n",
    "\n",
    "        query_doc_dict[last_query_id] = doc_list_for_query\n",
    "\n",
    "\n",
    "    query_total_repetitions = copy.deepcopy(query_repetitions)\n",
    "    doc_relevance_dict = {}\n",
    "    query_counter = 0\n",
    "    with open(os.path.join(data_dir, relevance_filename), \"r\", encoding='utf8') as f:\n",
    "        for line in f:\n",
    "            line_list = line.split()\n",
    "            if line_list[0] == 'query:':\n",
    "                query_counter += 1\n",
    "                query = \" \".join(line_list[1:])\n",
    "                if query_repetitions.get(query, None) != None:\n",
    "                    query_repetition_number = query_total_repetitions[query] - query_repetitions[query]\n",
    "                    query_repetitions[query] -= 1\n",
    "                    if query_repetition_number != 0:\n",
    "                        query = query + \"_\" + str(query_repetition_number)\n",
    "\n",
    "                if query_counter >= 2:\n",
    "                    assert query_doc_relevance.get(last_query_id, None) == None, \"Query already existed in the relevance dict\"\n",
    "                    query_doc_relevance[last_query_id] = doc_relevance_dict\n",
    "\n",
    "                last_query_id = query_dict[query]\n",
    "                doc_relevance_dict = {}\n",
    "\n",
    "            elif line_list[0] == \"url:\":\n",
    "                doc = line_list[1]\n",
    "                docID = doc_dict[doc]\n",
    "\n",
    "                doc_relevance_dict[docID] = float(line_list[-1].strip())\n",
    "\n",
    "        query_doc_relevance[last_query_id] = doc_relevance_dict\n",
    "        \n",
    "    #building word corpus for each document\n",
    "    doc_counter = 0\n",
    "    last_doc_content = defaultdict(list)\n",
    "\n",
    "    with open(os.path.join(data_dir, signal_filename), \"r\", encoding='utf8') as f:\n",
    "        for line in f:\n",
    "            line_list = line.split()\n",
    "\n",
    "            if line_list[0] == 'query:':\n",
    "                query = \" \".join(line_list[1:])\n",
    "                queryID = query_dict[query]\n",
    "                for word in line_list[1:]:\n",
    "                    word = word.strip().lower()\n",
    "                    vocab_frequency[word] = vocab_frequency.get(word, 0) + 1\n",
    "\n",
    "                    if vocab_dict.get(word, None) == None:\n",
    "                        vocab_id_list.append(word)\n",
    "                        vocab_dict[word] = len(vocab_id_list) - 1\n",
    "\n",
    "            elif line_list[0] == 'url:':\n",
    "                doc_counter += 1\n",
    "\n",
    "                doc = line_list[1]\n",
    "                docID = doc_dict[doc]\n",
    "\n",
    "                if doc_counter >= 2:\n",
    "                    docId_to_content[last_docID] = last_doc_content\n",
    "\n",
    "                last_doc_content = defaultdict(list)\n",
    "                last_docID = docID\n",
    "\n",
    "            elif line_list[0] == 'title:':\n",
    "                for word in line_list[1:]:\n",
    "                    word = word.strip().lower()\n",
    "                    vocab_frequency[word] = vocab_frequency.get(word, 0) + 1\n",
    "\n",
    "                    if vocab_dict.get(word, None) == None:\n",
    "                        vocab_id_list.append(word)\n",
    "                        vocab_dict[word] = len(vocab_id_list) - 1\n",
    "\n",
    "                    word_id = vocab_dict[word]\n",
    "                    last_doc_content['title'].append(word_id)\n",
    "\n",
    "            elif line_list[0] == 'header:':\n",
    "                for word in line_list[1:]:\n",
    "                    word = word.strip().lower()\n",
    "                    vocab_frequency[word] = vocab_frequency.get(word, 0) + 1\n",
    "\n",
    "                    if vocab_dict.get(word, None) == None:\n",
    "                        vocab_id_list.append(word)\n",
    "                        vocab_dict[word] = len(vocab_id_list) - 1\n",
    "\n",
    "                    word_id = vocab_dict[word]\n",
    "                    last_doc_content['header'].append(word_id)\n",
    "\n",
    "            else:\n",
    "                continue\n",
    "\n",
    "        docId_to_content[last_docID] = last_doc_content\n",
    "    return results_dict"
   ]
  },
  {
   "cell_type": "code",
   "execution_count": 4,
   "metadata": {},
   "outputs": [],
   "source": [
    "#vocab includes words from both, query and docs\n",
    "vocab_dict = {} #mapping from vocab term to id \n",
    "vocab_id_list = [] #list where id maps to the vocab term (0 indexed)\n",
    "vocab_frequency = {} #number of times each vocab term appears in the vocab of documents (included query words)\n",
    "\n",
    "train_dict = load_data(\"pa3.signal.train\", \"pa3.rel.train\", vocab_dict, vocab_id_list, vocab_frequency)\n",
    "dev_dict = load_data(\"pa3.signal.dev\", \"pa3.rel.dev\", vocab_dict, vocab_id_list, vocab_frequency)\n",
    "pkl.dump(dev_dict['doc_id_list'], open('dev_doc_id_list.p', 'wb'))\n",
    "pkl.dump(dev_dict['doc_dict'], open('dev_doc_dict.p', 'wb'))\n"
   ]
  },
  {
   "cell_type": "markdown",
   "metadata": {},
   "source": [
    "## Comparing query and document embeddings\n",
    "\n",
    "Document embeddings are obtained from the given title or header information without any weight normalization. Loop through the files and collect doc words by looking in the title and header (one idea can be to give more weight to title than to header). Lookup for each word in the glove embedding. Choose and fix a random combination of word if a word in query does not exist (maybe a combination from the words university and around because the corpus relates to stanford). Ignore otherwise. Finally, find cosine similarity and rank and compute NDCG score. \n",
    "\n",
    "#### Other ideas:\n",
    "1. Treat upper case and start of line word different than end of line word, etc\n",
    "2. Can add word correction, etc\n",
    "3. How scraping documents and adding more words to document effect performance\n",
    "4. Modeling item-item dependency by seq2slate architecture\n",
    "5. Creating embedding for words in the query but not in the embedding vocab as a distinct combination for \n",
    "6. Training word2vec on this and then trying different ideas with the center and context matrices obtained\n",
    "7. DESM type ideas with the embeddings of words in the document weighted by the similarity of words (W_out * q_emb)\n",
    "8. Treating re-ranking task as an NLI task where document entails query\n",
    "9. regressing score for each query-doc pair using nlp inspired regression by predicting score through RNN for instance\n",
    "10. experimenting with listwise and pairwise approaches"
   ]
  },
  {
   "cell_type": "markdown",
   "metadata": {},
   "source": [
    "## Abstracting away data structures\n"
   ]
  },
  {
   "cell_type": "code",
   "execution_count": 5,
   "metadata": {
    "scrolled": false
   },
   "outputs": [],
   "source": [
    "\"\"\"\n",
    "data structures we need:\n",
    "    query_dict = {} #maps queries to query id (Assuming distinct queries)\n",
    "    query_id_list = [] #list of queries\n",
    "\n",
    "    doc_dict = {}  #maps urls to doc id\n",
    "    doc_id_list = [] # list of urls\n",
    "\n",
    "    query_doc_dict = {} #maps query ids to list of doc ids\n",
    "    \n",
    "    docId_to_content = {} #dict maps from doc id to the contents in the doc. The content is saved as a list of vocab_ids\n",
    "\n",
    "    #vocab includes words from both, query and docs\n",
    "    vocab_dict = {} #mapping from vocab term to id \n",
    "    vocab_id_list = [] #list where id maps to the vocab term (0 indexed)\n",
    "    vocab_frequency = {} \n",
    "\"\"\"   \n",
    "# dataset_dict is an argument to most of these, \n",
    "# as we need to know if we are dealing with train set, dev set\n",
    "def get_query_string(dataset_dict, query):\n",
    "    if type(query) == int:\n",
    "        query = dataset_dict['query_id_list'][query]\n",
    "    assert type(query) == str, query\n",
    "    return query\n",
    "\n",
    "def get_query_id(dataset_dict, query):\n",
    "    if type(query) == str:\n",
    "        query = dataset_dict['query_dict'][query]\n",
    "    assert type(query) == int, query\n",
    "    return query\n",
    " \n",
    "def get_doc_url(dataset_dict, doc):\n",
    "    if type(doc) == int:\n",
    "        doc = dataset_dict['doc_id_list'][doc]\n",
    "    assert type(doc) == str, doc\n",
    "    return doc\n",
    "\n",
    "def get_doc_id(dataset_dict, doc):\n",
    "    if type(doc) == str:\n",
    "        doc = dataset_dict['doc_dict'][doc]\n",
    "    assert type(doc) == int, doc\n",
    "    return doc\n",
    "\n",
    "# this should be common to everything across train/dev\n",
    "def ids_to_words(content):\n",
    "    # convert ids to words\n",
    "    return [vocab_id_list[i] if type(i) == int else i for i in content]\n",
    "    #return [vocab_id_list[i] for i in content]\n",
    "\n",
    "# this should be common to everything across train/dev\n",
    "def words_to_ids(words):\n",
    "    return [vocab_dict[w] if type(w) == str else w for w in words]\n",
    "    #return [vocab_dict[w] for w in words]\n",
    "\n",
    "# this should be common to everything across train/dev\n",
    "def register_words(words):\n",
    "    for word in words:\n",
    "        if word not in vocab_dict:\n",
    "            vocab_dict[word] = len(vocab_id_list)\n",
    "            vocab_id_list.append(word)\n",
    "\n",
    "def get_query_words(dataset_dict, query):\n",
    "    # return a list of words corresponding to the query (either string query or query_id)\n",
    "    query = get_query_string(dataset_dict, query)\n",
    "    return query.split('_')[0].split(' ')\n",
    "    \n",
    "def get_doc_words(dataset_dict, document, content_type):\n",
    "    # given either url or doc_id\n",
    "    document = get_doc_id(dataset_dict, document)\n",
    "    # all documents have a title at least\n",
    "    doc_to_content = dataset_dict['docId_to_content']\n",
    "    title_content = doc_to_content[document]['title']\n",
    "    \n",
    "    if content_type == 'title':\n",
    "        content = title_content\n",
    "    \n",
    "    elif content_type == 'header':\n",
    "        if doc_to_content[document]['header']:\n",
    "            content = doc_to_content[document]['header']\n",
    "        else:\n",
    "            content = title_content\n",
    "    \n",
    "    elif content_type == '2th':\n",
    "        content = 2*title_content\n",
    "        content += doc_to_content[document]['header']\n",
    "    \n",
    "    elif content_type == 'body':\n",
    "        if doc_to_content[document]['body']:\n",
    "            content = doc_to_content[document]['body']\n",
    "        else:\n",
    "            content = title_content\n",
    "        \n",
    "    else:\n",
    "        raise ValueError(\"Invalid content type: {}\".format(content_type))\n",
    "\n",
    "    return ids_to_words(content)\n",
    "\n",
    "def get_all_doc_words(dataset_dict, query, content_type):\n",
    "    # return tuples of (url, content) corresponding \n",
    "    query = get_query_id(dataset_dict, query)\n",
    "    query_doc_dict = dataset_dict['query_doc_dict']\n",
    "    documents = [get_doc_url(dataset_dict, doc) for doc in query_doc_dict[query]]\n",
    "    return [(doc, get_doc_words(dataset_dict, doc, content_type)) for doc in documents]\n",
    "\n",
    "def get_relevance_dict(dataset_dict, query):\n",
    "    query = get_query_id(dataset_dict, query)\n",
    "    query_doc_relevance = dataset_dict['query_doc_relevance']\n",
    "    return {get_doc_url(dataset_dict, k): v for k, v in query_doc_relevance[query].items()}\n",
    "\n",
    "def query_iter(dataset_dict):\n",
    "    query_dict = dataset_dict['query_dict']\n",
    "    for query in query_dict:\n",
    "        yield query\n",
    "\n",
    "def url_iter(dataset_dict, query):\n",
    "    query_doc_dict = dataset_dict['query_doc_dict']\n",
    "    query = get_query_id(dataset_dict, query)\n",
    "\n",
    "    for doc in query_doc_dict[query]:\n",
    "        yield get_doc_url(dataset_dict, doc)\n",
    "        \n",
    "# Note: from here on out, you NEVER have to touch a datastructure, just use the functions above"
   ]
  },
  {
   "cell_type": "markdown",
   "metadata": {},
   "source": [
    "## Inject the body content (by url) into docId_to_content when available"
   ]
  },
  {
   "cell_type": "code",
   "execution_count": 6,
   "metadata": {},
   "outputs": [
    {
     "name": "stdout",
     "output_type": "stream",
     "text": [
      "Loading dictionary\n",
      "Loading dictionary\n"
     ]
    }
   ],
   "source": [
    "def make_url_to_body(s=\"train\"):\n",
    "    name = \"{}_web_url_to_body.p\".format(s)\n",
    "    if not os.path.exists(name):\n",
    "        print(\"Making dictionary\")\n",
    "        web_vocab_id_list = pkl.load(open('{}_vocab_id_list.p'.format(s), 'rb'))\n",
    "        web_vocab_dict = pkl.load(open('{}_vocab_dict.p'.format(s), 'rb'))\n",
    "        web_docId_to_content = pkl.load(open('{}_doc_id_content.p'.format(s), 'rb'))\n",
    "        web_doc_id_list = pkl.load(open(\"{}_doc_id_list.p\".format(s), \"rb\"))\n",
    "        web_doc_dict = pkl.load(open(\"{}_doc_dict.p\".format(s), \"rb\"))\n",
    "        web_url_to_words = {}\n",
    "\n",
    "        for url, doc in web_doc_dict.items():\n",
    "            body_content = []\n",
    "            if doc in web_docId_to_content:\n",
    "                _, body_content = web_docId_to_content[doc]\n",
    "\n",
    "            body_content = [web_vocab_id_list[w] for w in body_content]\n",
    "            web_url_to_words[url] = body_content\n",
    "\n",
    "        pkl.dump(web_url_to_words, open(name, \"wb\"))\n",
    "\n",
    "    else:\n",
    "        print(\"Loading dictionary\")\n",
    "        web_url_to_words = pkl.load(open(name, \"rb\"))\n",
    "    return web_url_to_words\n",
    "\n",
    "train_web_url_to_words = make_url_to_body('train')\n",
    "dev_web_url_to_words = make_url_to_body('dev')"
   ]
  },
  {
   "cell_type": "code",
   "execution_count": 7,
   "metadata": {},
   "outputs": [
    {
     "name": "stdout",
     "output_type": "stream",
     "text": [
      "(7201, 0)\n",
      "(1187, 0)\n"
     ]
    }
   ],
   "source": [
    "def fill_in(dataset_dict, web_url_to_words):\n",
    "    present, missing = 0, 0\n",
    "    for query in query_iter(dataset_dict):\n",
    "        for url in url_iter(dataset_dict, query):\n",
    "            if url in web_url_to_words:\n",
    "                content = web_url_to_words[url]\n",
    "                doc_id = get_doc_id(dataset_dict, url)\n",
    "                register_words(content)\n",
    "                content = words_to_ids(content)\n",
    "                docId_to_content = dataset_dict['docId_to_content']\n",
    "                docId_to_content[doc_id]['body'] = content\n",
    "                present += 1\n",
    "            else:\n",
    "                missing += 1\n",
    "    return present, missing\n",
    "\n",
    "print(fill_in(train_dict, train_web_url_to_words))\n",
    "print(fill_in(dev_dict, dev_web_url_to_words))\n"
   ]
  },
  {
   "cell_type": "code",
   "execution_count": 8,
   "metadata": {},
   "outputs": [
    {
     "name": "stdout",
     "output_type": "stream",
     "text": [
      "['stanford', 'aoerc', 'pool', 'hours']\n",
      "\n",
      "[('http://events.stanford.edu/2014/February/18/', ['events', 'at', 'stanford', 'tuesday', 'february', '18', '2014']), ('http://events.stanford.edu/2014/February/6/', ['events', 'at', 'stanford', 'thursday', 'february', '6', '2014']), ('http://events.stanford.edu/2014/March/13/', ['events', 'at', 'stanford', 'thursday', 'march', '13', '2014']), ('http://events.stanford.edu/2014/March/3/', ['events', 'at', 'stanford', 'monday', 'march', '3', '2014']), ('http://med.stanford.edu/content/dam/sm/hip/documents/FreeFitnessWeek.pdf', ['ffw', 'spring', '2017', 'schedule']), ('http://web.stanford.edu/group/masters/pool.html', ['stanford', 'masters', 'swimming', 'pool', '&', 'parking', 'information']), ('https://alumni.stanford.edu/get/page/perks/PoolAndGyms', ['pool', '&', 'gyms']), ('https://cardinalrec.stanford.edu/facilities/aoerc/', []), ('https://explorecourses.stanford.edu/search?view=catalog&filter-coursestatus-Active=on&page=0&catalog=&q=PE+128%3A+Swimming%3A+Beginning+I&collapse=', ['stanford', 'university', 'explore', 'courses']), ('https://glo.stanford.edu/events/stanford-rec-open-house', ['stanford', 'rec', 'open', 'house', 'graduate', 'life', 'office'])]\n",
      "\n",
      "{'http://events.stanford.edu/2014/February/18/': 0.0, 'http://events.stanford.edu/2014/February/6/': 0.0, 'http://events.stanford.edu/2014/March/13/': 0.0, 'http://events.stanford.edu/2014/March/3/': 0.0, 'http://med.stanford.edu/content/dam/sm/hip/documents/FreeFitnessWeek.pdf': 0.0, 'http://web.stanford.edu/group/masters/pool.html': 1.0, 'https://alumni.stanford.edu/get/page/perks/PoolAndGyms': 1.5, 'https://cardinalrec.stanford.edu/facilities/aoerc/': 2.0, 'https://explorecourses.stanford.edu/search?view=catalog&filter-coursestatus-Active=on&page=0&catalog=&q=PE+128%3A+Swimming%3A+Beginning+I&collapse=': 0.5, 'https://glo.stanford.edu/events/stanford-rec-open-house': 0.5}\n",
      "\n",
      "http://events.stanford.edu/2014/February/18/\n",
      "http://events.stanford.edu/2014/February/6/\n",
      "http://events.stanford.edu/2014/March/13/\n",
      "http://events.stanford.edu/2014/March/3/\n",
      "http://med.stanford.edu/content/dam/sm/hip/documents/FreeFitnessWeek.pdf\n",
      "http://web.stanford.edu/group/masters/pool.html\n",
      "https://alumni.stanford.edu/get/page/perks/PoolAndGyms\n",
      "https://cardinalrec.stanford.edu/facilities/aoerc/\n",
      "https://explorecourses.stanford.edu/search?view=catalog&filter-coursestatus-Active=on&page=0&catalog=&q=PE+128%3A+Swimming%3A+Beginning+I&collapse=\n",
      "https://glo.stanford.edu/events/stanford-rec-open-house\n"
     ]
    }
   ],
   "source": [
    "# some sanity checks\n",
    "for query in query_iter(train_dict):\n",
    "    print(get_query_words(train_dict, query))\n",
    "    print()\n",
    "    print(get_all_doc_words(train_dict, query, 'title'))\n",
    "    print()\n",
    "    print(get_relevance_dict(train_dict, query))\n",
    "    print()\n",
    "    for url in url_iter(train_dict, query):\n",
    "        print(url)\n",
    "    break\n"
   ]
  },
  {
   "cell_type": "code",
   "execution_count": 9,
   "metadata": {},
   "outputs": [
    {
     "name": "stdout",
     "output_type": "stream",
     "text": [
      "['lost', 'axess', 'password', 'help']\n",
      "\n",
      "[('https://accounts.stanford.edu/', ['stanford', 'accounts']), ('https://accounts.stanford.edu/resetpw', ['stanford', 'accounts', 'reset', 'password', 'step', '1', 'of', '4']), ('https://uit.stanford.edu/announcements/security', ['announcements', 'university', 'it']), ('https://uit.stanford.edu/service/webauth/twostep', ['two', 'step', 'authentication', 'university', 'it']), ('https://uit.stanford.edu/service/webauth/twostep/bypass_code', ['how', 'to', 'generate', 'a', 'bypass', 'code', 'for', 'a', 'lost', 'or', 'forgotten', 'two', 'step', 'authentication', 'device', 'university', 'it']), ('https://uit.stanford.edu/service/webauth/twostep/printed_list', ['how', 'to', 'use', 'a', 'printed', 'list', 'for', 'two', 'step', 'authentication', 'university', 'it']), ('https://uit.stanford.edu/service/webauth/twostep/push', ['how', 'to', 'authenticate', 'with', 'a', 'duo', 'push', 'notification', 'for', 'two', 'step', 'authentication', 'university', 'it']), ('https://uit.stanford.edu/sites/default/files/2014/08/14/OnGuard%202013%20System%20Administration%20user%20guide.pdf', ['system', 'administration', 'user', 'guide']), ('https://web.stanford.edu/group/coursework/cgi-bin/drupal/?q=node/123', ['coursework', 'release', 'notes', 'coursework', 'help', 'resources'])]\n",
      "\n",
      "{'https://accounts.stanford.edu/': 3.0, 'https://accounts.stanford.edu/resetpw': 1.7, 'https://uit.stanford.edu/announcements/security': 0.3, 'https://uit.stanford.edu/service/webauth/twostep': 1.0, 'https://uit.stanford.edu/service/webauth/twostep/bypass_code': 1.7, 'https://uit.stanford.edu/service/webauth/twostep/printed_list': 1.0, 'https://uit.stanford.edu/service/webauth/twostep/push': 1.0, 'https://uit.stanford.edu/sites/default/files/2014/08/14/OnGuard%202013%20System%20Administration%20user%20guide.pdf': 0.0, 'https://web.stanford.edu/group/coursework/cgi-bin/drupal/?q=node/123': 0.0}\n",
      "\n",
      "https://accounts.stanford.edu/\n",
      "https://accounts.stanford.edu/resetpw\n",
      "https://uit.stanford.edu/announcements/security\n",
      "https://uit.stanford.edu/service/webauth/twostep\n",
      "https://uit.stanford.edu/service/webauth/twostep/bypass_code\n",
      "https://uit.stanford.edu/service/webauth/twostep/printed_list\n",
      "https://uit.stanford.edu/service/webauth/twostep/push\n",
      "https://uit.stanford.edu/sites/default/files/2014/08/14/OnGuard%202013%20System%20Administration%20user%20guide.pdf\n",
      "https://web.stanford.edu/group/coursework/cgi-bin/drupal/?q=node/123\n"
     ]
    }
   ],
   "source": [
    "for query in query_iter(dev_dict):\n",
    "    print(get_query_words(dev_dict, query))\n",
    "    print()\n",
    "    print(get_all_doc_words(dev_dict, query, 'title'))\n",
    "    print()\n",
    "    print(get_relevance_dict(dev_dict, query))\n",
    "    print()\n",
    "    for url in url_iter(dev_dict, query):\n",
    "        print(url)\n",
    "    break"
   ]
  },
  {
   "cell_type": "markdown",
   "metadata": {},
   "source": [
    "## Set up GloVe embedding"
   ]
  },
  {
   "cell_type": "code",
   "execution_count": 14,
   "metadata": {},
   "outputs": [
    {
     "ename": "FileNotFoundError",
     "evalue": "[Errno 2] No such file or directory: '/Users/ayushgupta/Desktop/CS224U/GitRepo/cs224u/data/glove.6B/glove.6B.100d.txt'",
     "output_type": "error",
     "traceback": [
      "\u001b[0;31m---------------------------------------------------------------------------\u001b[0m",
      "\u001b[0;31mFileNotFoundError\u001b[0m                         Traceback (most recent call last)",
      "\u001b[0;32m<ipython-input-14-66f2fe256efb>\u001b[0m in \u001b[0;36m<module>\u001b[0;34m\u001b[0m\n\u001b[1;32m      6\u001b[0m \u001b[0;31m#lookup function\u001b[0m\u001b[0;34m\u001b[0m\u001b[0;34m\u001b[0m\u001b[0;34m\u001b[0m\u001b[0m\n\u001b[1;32m      7\u001b[0m \u001b[0mGLOVE_HOME\u001b[0m \u001b[0;34m=\u001b[0m \u001b[0mos\u001b[0m\u001b[0;34m.\u001b[0m\u001b[0mpath\u001b[0m\u001b[0;34m.\u001b[0m\u001b[0mjoin\u001b[0m\u001b[0;34m(\u001b[0m\u001b[0mbase_dir_name\u001b[0m\u001b[0;34m,\u001b[0m \u001b[0mos\u001b[0m\u001b[0;34m.\u001b[0m\u001b[0mpath\u001b[0m\u001b[0;34m.\u001b[0m\u001b[0mjoin\u001b[0m\u001b[0;34m(\u001b[0m\u001b[0;34m'data'\u001b[0m\u001b[0;34m,\u001b[0m \u001b[0;34m'glove.6B'\u001b[0m\u001b[0;34m)\u001b[0m\u001b[0;34m)\u001b[0m\u001b[0;34m\u001b[0m\u001b[0;34m\u001b[0m\u001b[0m\n\u001b[0;32m----> 8\u001b[0;31m \u001b[0mglove_lookup\u001b[0m \u001b[0;34m=\u001b[0m \u001b[0mutils\u001b[0m\u001b[0;34m.\u001b[0m\u001b[0mglove2dict\u001b[0m\u001b[0;34m(\u001b[0m\u001b[0mos\u001b[0m\u001b[0;34m.\u001b[0m\u001b[0mpath\u001b[0m\u001b[0;34m.\u001b[0m\u001b[0mjoin\u001b[0m\u001b[0;34m(\u001b[0m\u001b[0mGLOVE_HOME\u001b[0m\u001b[0;34m,\u001b[0m \u001b[0;34m'glove.6B.100d.txt'\u001b[0m\u001b[0;34m)\u001b[0m\u001b[0;34m)\u001b[0m\u001b[0;34m\u001b[0m\u001b[0;34m\u001b[0m\u001b[0m\n\u001b[0m",
      "\u001b[0;32m~/Desktop/CS224U/GitRepo/cs224u/utils.py\u001b[0m in \u001b[0;36mglove2dict\u001b[0;34m(src_filename)\u001b[0m\n\u001b[1;32m     29\u001b[0m     \"\"\"\n\u001b[1;32m     30\u001b[0m     \u001b[0mdata\u001b[0m \u001b[0;34m=\u001b[0m \u001b[0;34m{\u001b[0m\u001b[0;34m}\u001b[0m\u001b[0;34m\u001b[0m\u001b[0;34m\u001b[0m\u001b[0m\n\u001b[0;32m---> 31\u001b[0;31m     \u001b[0;32mwith\u001b[0m \u001b[0mopen\u001b[0m\u001b[0;34m(\u001b[0m\u001b[0msrc_filename\u001b[0m\u001b[0;34m)\u001b[0m \u001b[0;32mas\u001b[0m \u001b[0mf\u001b[0m\u001b[0;34m:\u001b[0m\u001b[0;34m\u001b[0m\u001b[0;34m\u001b[0m\u001b[0m\n\u001b[0m\u001b[1;32m     32\u001b[0m         \u001b[0;32mwhile\u001b[0m \u001b[0;32mTrue\u001b[0m\u001b[0;34m:\u001b[0m\u001b[0;34m\u001b[0m\u001b[0;34m\u001b[0m\u001b[0m\n\u001b[1;32m     33\u001b[0m             \u001b[0;32mtry\u001b[0m\u001b[0;34m:\u001b[0m\u001b[0;34m\u001b[0m\u001b[0;34m\u001b[0m\u001b[0m\n",
      "\u001b[0;31mFileNotFoundError\u001b[0m: [Errno 2] No such file or directory: '/Users/ayushgupta/Desktop/CS224U/GitRepo/cs224u/data/glove.6B/glove.6B.100d.txt'"
     ]
    }
   ],
   "source": [
    "'''having generated query content and doc content, lets try ranking by cosine similarity between query and document \n",
    "embedding\n",
    "'''\n",
    "#iteration 1: ignore words not there in the embedding\n",
    "\n",
    "#lookup function\n",
    "GLOVE_HOME = os.path.join(base_dir_name, os.path.join('data', 'glove.6B'))\n",
    "glove_lookup = utils.glove2dict(os.path.join(GLOVE_HOME, 'glove.6B.100d.txt'))"
   ]
  },
  {
   "cell_type": "code",
   "execution_count": 36,
   "metadata": {},
   "outputs": [],
   "source": [
    "def make_glove_embedding(words, combine_func=None):\n",
    "    for word in words:\n",
    "        assert isinstance(word, str), (type(word), word)\n",
    "\n",
    "    all_vecs = np.array([glove_lookup[w] for w in words if w in glove_lookup]) \n",
    "\n",
    "    if len(all_vecs) == 0:\n",
    "        feats = np.zeros(glove_dim)    \n",
    "    else:       \n",
    "        if combine_func:\n",
    "            feats = combine_func(all_vecs)\n",
    "        else: # take the elemnetwise mean by default\n",
    "            feats = np.mean(all_vecs, axis=0) \n",
    "    return feats\n",
    "\n",
    "def query_and_document_embeddings(dataset_dict, query, query_combine_func=None, doc_combine_func=None, content_type='title'):\n",
    "    \"\"\"\n",
    "    query: Either query text, or id\n",
    "    query_combine_func: How to combine query GloVe embeddings (default is mean)\n",
    "    doc_combine_func: How to combine document GloVe embeddings (default is mean)\n",
    "    doc_content_type: How to select document content. TODO: make this do something\n",
    "    \"\"\"\n",
    "    query_words = get_query_words(dataset_dict, query)\n",
    "    query_embedding = make_glove_embedding(query_words, query_combine_func)\n",
    "        \n",
    "    document_embeddings = [(url, make_glove_embedding(words, doc_combine_func)) \n",
    "                               for url, words in get_all_doc_words(dataset_dict, query, content_type)]\n",
    "    return query_embedding, document_embeddings"
   ]
  },
  {
   "cell_type": "markdown",
   "metadata": {},
   "source": [
    "### Metric - NDCG, MAP\n",
    "\n",
    "can also incorporate Precision, MAP, etc. after binary conversion with decay rates"
   ]
  },
  {
   "cell_type": "code",
   "execution_count": 12,
   "metadata": {},
   "outputs": [],
   "source": [
    "def DCG(ranked_docs, relevance_dict):\n",
    "    '''This function takes an ordered/ranked document list with the ground truth relevance labels from the \n",
    "    relevance_dict and returns a DCG score for the retrieval/ranking.\n",
    "    Input -- \n",
    "        ranked_docs = list of doc IDs ordered by rank. First element in the list is the highest ranked\n",
    "        relevance_dict = dict with keys as the doc_IDs and relevance score as the element\n",
    "    Output -- \n",
    "        DCG [float]'''\n",
    "    return np.sum([(relevance_dict[doc]) / (math.log2(i+2)) \\\n",
    "                  for i, doc in enumerate(ranked_docs)])\n",
    "\n",
    "def DCG_alt(ranked_docs, relevance_dict):\n",
    "    return np.sum([(2**relevance_dict[doc] - 1) / (math.log2(i+2)) \\\n",
    "                   for i, doc in enumerate(ranked_docs)])\n",
    "\n",
    "def NDCG(ranked_docs, relevance_dict, use_alt=False):\n",
    "    '''This function takes an ordered/ranked document list with the ground truth relevance labels from the \n",
    "    relevance_dict and returns a NDCG score for the ranking. \n",
    "    Input -- \n",
    "        ranked_docs = list of doc IDs ordered by rank. First element in the list is the highest ranked\n",
    "        relevance_dict = dict with keys as the doc_IDs and relevance score as the element\n",
    "    Output -- \n",
    "        NDCG [float]'''\n",
    "    assert len(ranked_docs) == len(relevance_dict)\n",
    "    ideal_ordering, _ = zip(*sorted(relevance_dict.items(), key = lambda x: (-x[1])))\n",
    "    ideal_ordering = list(ideal_ordering)\n",
    "    \n",
    "    dcg_func = DCG_alt if use_alt else DCG\n",
    "    DCG_oracle = dcg_func(ideal_ordering, relevance_dict)\n",
    "    DCG_case = dcg_func(ranked_docs, relevance_dict)\n",
    "    assert DCG_oracle >= DCG_case\n",
    "    \n",
    "    #return 0 if DCG_ideal is 0 (happens when all the retrieved docs are rated 0)\n",
    "    if DCG_oracle == 0:\n",
    "        return 1.0\n",
    "\n",
    "    return DCG_case/DCG_oracle\n",
    "\n",
    "#sanity check\n",
    "ranked_docs = [0,1,2,3,4]\n",
    "relevance_dict = {0: 2, 1: 3, 2: 0, 3: 0, 4: 1}\n",
    "DCG_score = 2 + 3/log2(3) + 1/log2(6)\n",
    "Ideal_score = 3 + 2/log2(3) + 1/log2(4)\n",
    "NDCG_score = DCG_score/Ideal_score\n",
    "assert DCG(ranked_docs, relevance_dict) == DCG_score, \"DCG error\"\n",
    "assert NDCG(ranked_docs, relevance_dict) == NDCG_score, \"NDCG error\""
   ]
  },
  {
   "cell_type": "code",
   "execution_count": 13,
   "metadata": {},
   "outputs": [],
   "source": [
    "def average_precision_helper(relevance_list):\n",
    "    precision = 0.0\n",
    "    relevant_so_far = 0.0\n",
    "    for i, val in enumerate(relevance_list):\n",
    "        relevant_so_far += val\n",
    "        precision += relevant_so_far / (i+1)\n",
    "    return precision / len(relevance_list)\n",
    "\n",
    "def average_precision(ranked_doc_list, query_relevance_dict):\n",
    "    relevance_list = [1 if query_relevance_dict[doc] >= 1.0 else 0 for doc in ranked_doc_list]\n",
    "    return average_precision_helper(relevance_list)\n",
    "\n",
    "expected = (1 + 1 + 2/3 + 2/4 + 3/5 + 3/6 + 4/7)/ 7\n",
    "actual = average_precision_helper([1, 1, 0, 0, 1, 0, 1])\n",
    "assert expected == actual, actual\n"
   ]
  },
  {
   "cell_type": "code",
   "execution_count": 14,
   "metadata": {},
   "outputs": [],
   "source": [
    "def random_similarity(doc_embedding, query_embedding):\n",
    "    return np.random.uniform()\n",
    "\n",
    "def cosine_similarity(doc_embedding, query_embedding):\n",
    "    norm = np.linalg.norm(doc_embedding)\n",
    "    if norm > 0:\n",
    "        doc_embedding /= norm\n",
    "    return np.dot(doc_embedding, query_embedding)\n"
   ]
  },
  {
   "cell_type": "code",
   "execution_count": 15,
   "metadata": {},
   "outputs": [],
   "source": [
    "def run_metrics(dataset_dict, scoring_func=cosine_similarity, content_type='title'):\n",
    "    ndcg_sum = 0.0\n",
    "    alt_ndcg_sum = 0.0\n",
    "    precision_sum = 0.0\n",
    "    n = 0\n",
    "    for query in query_iter(dataset_dict):\n",
    "        n += 1\n",
    "        query_relevance_dict = get_relevance_dict(dataset_dict, query)\n",
    "        query_embedding, document_embeddings = query_and_document_embeddings(dataset_dict, query, content_type=content_type)\n",
    "        \n",
    "        scores = [(url, scoring_func(doc_emb, query_embedding)) for url, doc_emb in document_embeddings]\n",
    "        scores = sorted(scores, key = lambda x: x[1], reverse=True)\n",
    "        ranked_doc_list, _ = zip(*scores)\n",
    "        ranked_doc_list = list(ranked_doc_list)\n",
    "\n",
    "        ndcg_sum += NDCG(ranked_doc_list, query_relevance_dict)\n",
    "        alt_ndcg_sum += NDCG(ranked_doc_list, query_relevance_dict, use_alt=True)\n",
    "        precision_sum += average_precision(ranked_doc_list, query_relevance_dict)\n",
    "        \n",
    "    ndcg_sum /= n\n",
    "    alt_ndcg_sum  /= n\n",
    "    precision_sum /= n\n",
    "    return {'NDCG': ndcg_sum,\n",
    "            'Alt_NDCG': alt_ndcg_sum,\n",
    "            'MAP': precision_sum,}"
   ]
  },
  {
   "cell_type": "markdown",
   "metadata": {},
   "source": [
    "## Random ordering accuracy\n",
    "\n",
    "For every query, arrange the docs in random order and check the NDCG value"
   ]
  },
  {
   "cell_type": "code",
   "execution_count": 16,
   "metadata": {},
   "outputs": [
    {
     "name": "stdout",
     "output_type": "stream",
     "text": [
      "Random on train\n"
     ]
    },
    {
     "data": {
      "text/plain": [
       "{'NDCG': 0.8098059423920467,\n",
       " 'Alt_NDCG': 0.7415840332472398,\n",
       " 'MAP': 0.726820962089034}"
      ]
     },
     "execution_count": 16,
     "metadata": {},
     "output_type": "execute_result"
    }
   ],
   "source": [
    "n = 10\n",
    "sum_metric = {}\n",
    "for _ in range(n):\n",
    "    for m, v in run_metrics(train_dict, scoring_func=random_similarity).items():\n",
    "        sum_metric[m] = sum_metric.get(m, 0) + v / n\n",
    "print(\"Random on train\")\n",
    "sum_metric"
   ]
  },
  {
   "cell_type": "code",
   "execution_count": 17,
   "metadata": {},
   "outputs": [
    {
     "name": "stdout",
     "output_type": "stream",
     "text": [
      "Random on dev\n"
     ]
    },
    {
     "data": {
      "text/plain": [
       "{'NDCG': 0.8109561178018261,\n",
       " 'Alt_NDCG': 0.7390676338486832,\n",
       " 'MAP': 0.7204487311949871}"
      ]
     },
     "execution_count": 17,
     "metadata": {},
     "output_type": "execute_result"
    }
   ],
   "source": [
    "n = 10\n",
    "sum_metric = {}\n",
    "for _ in range(n):\n",
    "    for m, v in run_metrics(dev_dict, scoring_func=random_similarity).items():\n",
    "        sum_metric[m] = sum_metric.get(m, 0) + v / n\n",
    "print(\"Random on dev\")\n",
    "sum_metric"
   ]
  },
  {
   "cell_type": "markdown",
   "metadata": {},
   "source": [
    "# Some non-random methods\n"
   ]
  },
  {
   "cell_type": "code",
   "execution_count": 18,
   "metadata": {},
   "outputs": [
    {
     "name": "stdout",
     "output_type": "stream",
     "text": [
      "Title on train\n"
     ]
    },
    {
     "data": {
      "text/plain": [
       "{'NDCG': 0.8651824860113435,\n",
       " 'Alt_NDCG': 0.8161245513899243,\n",
       " 'MAP': 0.7771249238087184}"
      ]
     },
     "execution_count": 18,
     "metadata": {},
     "output_type": "execute_result"
    }
   ],
   "source": [
    "print(\"Title on train\")\n",
    "run_metrics(train_dict, scoring_func=cosine_similarity, content_type='title')"
   ]
  },
  {
   "cell_type": "code",
   "execution_count": 19,
   "metadata": {},
   "outputs": [
    {
     "name": "stdout",
     "output_type": "stream",
     "text": [
      "Title on dev\n"
     ]
    },
    {
     "data": {
      "text/plain": [
       "{'NDCG': 0.8610811796421569,\n",
       " 'Alt_NDCG': 0.8111389290875022,\n",
       " 'MAP': 0.7623313263477439}"
      ]
     },
     "execution_count": 19,
     "metadata": {},
     "output_type": "execute_result"
    }
   ],
   "source": [
    "print(\"Title on dev\")\n",
    "run_metrics(dev_dict, scoring_func=cosine_similarity, content_type='title')"
   ]
  },
  {
   "cell_type": "code",
   "execution_count": 20,
   "metadata": {},
   "outputs": [
    {
     "name": "stdout",
     "output_type": "stream",
     "text": [
      "Header on train\n"
     ]
    },
    {
     "data": {
      "text/plain": [
       "{'NDCG': 0.8568503022704564,\n",
       " 'Alt_NDCG': 0.8042551360163497,\n",
       " 'MAP': 0.7661671476556811}"
      ]
     },
     "execution_count": 20,
     "metadata": {},
     "output_type": "execute_result"
    }
   ],
   "source": [
    "print(\"Header on train\")\n",
    "run_metrics(train_dict, scoring_func=cosine_similarity, content_type='header')"
   ]
  },
  {
   "cell_type": "code",
   "execution_count": 21,
   "metadata": {},
   "outputs": [
    {
     "name": "stdout",
     "output_type": "stream",
     "text": [
      "Header on dev\n"
     ]
    },
    {
     "data": {
      "text/plain": [
       "{'NDCG': 0.8595995880298966,\n",
       " 'Alt_NDCG': 0.8048907651704151,\n",
       " 'MAP': 0.7704660869724235}"
      ]
     },
     "execution_count": 21,
     "metadata": {},
     "output_type": "execute_result"
    }
   ],
   "source": [
    "print(\"Header on dev\")\n",
    "run_metrics(dev_dict, scoring_func=cosine_similarity, content_type='header')"
   ]
  },
  {
   "cell_type": "code",
   "execution_count": 22,
   "metadata": {},
   "outputs": [
    {
     "name": "stdout",
     "output_type": "stream",
     "text": [
      "2*Title+header on train\n"
     ]
    },
    {
     "data": {
      "text/plain": [
       "{'NDCG': 0.8685425184105349,\n",
       " 'Alt_NDCG': 0.8196390620542968,\n",
       " 'MAP': 0.778713179048508}"
      ]
     },
     "execution_count": 22,
     "metadata": {},
     "output_type": "execute_result"
    }
   ],
   "source": [
    "print(\"2*Title+header on train\")\n",
    "run_metrics(train_dict, scoring_func=cosine_similarity, content_type='2th')"
   ]
  },
  {
   "cell_type": "code",
   "execution_count": 23,
   "metadata": {},
   "outputs": [
    {
     "name": "stdout",
     "output_type": "stream",
     "text": [
      "2*Title+header on dev\n"
     ]
    },
    {
     "data": {
      "text/plain": [
       "{'NDCG': 0.8702515039354958,\n",
       " 'Alt_NDCG': 0.8221430739588372,\n",
       " 'MAP': 0.776288219588911}"
      ]
     },
     "execution_count": 23,
     "metadata": {},
     "output_type": "execute_result"
    }
   ],
   "source": [
    "print(\"2*Title+header on dev\")\n",
    "run_metrics(dev_dict, scoring_func=cosine_similarity, content_type='2th')"
   ]
  },
  {
   "cell_type": "code",
   "execution_count": 24,
   "metadata": {},
   "outputs": [
    {
     "name": "stdout",
     "output_type": "stream",
     "text": [
      "Body on train\n"
     ]
    },
    {
     "data": {
      "text/plain": [
       "{'NDCG': 0.8538332875849136,\n",
       " 'Alt_NDCG': 0.7968008388330325,\n",
       " 'MAP': 0.7690100740266438}"
      ]
     },
     "execution_count": 24,
     "metadata": {},
     "output_type": "execute_result"
    }
   ],
   "source": [
    "print(\"Body on train\")\n",
    "run_metrics(train_dict, scoring_func=cosine_similarity, content_type='body')"
   ]
  },
  {
   "cell_type": "code",
   "execution_count": 25,
   "metadata": {},
   "outputs": [
    {
     "name": "stdout",
     "output_type": "stream",
     "text": [
      "Body on dev\n"
     ]
    },
    {
     "data": {
      "text/plain": [
       "{'NDCG': 0.8706960262890675,\n",
       " 'Alt_NDCG': 0.8121585630178958,\n",
       " 'MAP': 0.7961876798210322}"
      ]
     },
     "execution_count": 25,
     "metadata": {},
     "output_type": "execute_result"
    }
   ],
   "source": [
    "print(\"Body on dev\")\n",
    "run_metrics(dev_dict, scoring_func=cosine_similarity, content_type='body')"
   ]
  },
  {
   "cell_type": "markdown",
   "metadata": {},
   "source": [
    "# Let's do Machine Learning"
   ]
  },
  {
   "cell_type": "code",
   "execution_count": 89,
   "metadata": {},
   "outputs": [],
   "source": [
    "def glove_concat_featurizer_base(dataset_dict, query, url, content_type):\n",
    "    \"\"\"\n",
    "        make an embedding for the query and url by concatenating their average glove vectors\n",
    "    \"\"\"\n",
    "    combine_func = lambda docs: np.mean(docs, axis=0)\n",
    "\n",
    "    query_words = get_query_words(dataset_dict, query)\n",
    "    query_embedding = make_glove_embedding(query_words, combine_func)\n",
    "    \n",
    "    doc_words = get_doc_words(dataset_dict, url, content_type)\n",
    "    document_embedding = make_glove_embedding(doc_words, combine_func) \n",
    "\n",
    "    return np.concatenate([query_embedding, document_embedding])\n",
    "\n",
    "def glove_concat_featurizer_title(dataset_dict, query, url):\n",
    "    return glove_concat_featurizer_base(dataset_dict, query, url, 'title')\n",
    "\n",
    "def glove_concat_featurizer_header(dataset_dict, query, url):\n",
    "    return glove_concat_featurizer_base(dataset_dict, query, url, 'header')\n",
    "\n",
    "def glove_concat_featurizer_body(dataset_dict, query, url):\n",
    "    return glove_concat_featurizer_base(dataset_dict, query, url, 'body')"
   ]
  },
  {
   "cell_type": "code",
   "execution_count": 90,
   "metadata": {},
   "outputs": [],
   "source": [
    "def make_regression_dataset(dataset_dict, featurizer):\n",
    "    \"\"\"\n",
    "        dataset_dict: returned by load_data\n",
    "        featurizer: function that takes in (query, doc_content) pair and returns a featurization\n",
    "        \n",
    "        makes a dataset of (vector, relevance) pair where vector is made by the featurizer\n",
    "    \"\"\"\n",
    "    X, y = [], []\n",
    "    for query in query_iter(dataset_dict): \n",
    "        relevances = get_relevance_dict(dataset_dict, query)\n",
    "        for url in url_iter(dataset_dict, query):\n",
    "            embedding = featurizer(dataset_dict, query, url)\n",
    "            X.append(embedding)\n",
    "            y.append(relevances[url])\n",
    "    return np.array(X), np.array(y)"
   ]
  },
  {
   "cell_type": "code",
   "execution_count": 105,
   "metadata": {},
   "outputs": [],
   "source": [
    "def run_metrics_ml(dataset_dict, ml_model, featurizer):\n",
    "    \"\"\"\n",
    "        dataset_dict: the dictionary returned by load_data\n",
    "        ml_model: a model that takes in X and outputs y predictions\n",
    "        featurizer: the featurizer function that feeds (query, document) \n",
    "            pairs to a format the ml_model can accept\n",
    "    \"\"\"\n",
    "    # TODO: shouldnt have to use the featurizer here, need to improve this API\n",
    "    ndcg_sum = 0.0\n",
    "    alt_ndcg_sum = 0.0\n",
    "    precision_sum = 0.0\n",
    "    n = 0\n",
    "    for query in query_iter(dataset_dict):\n",
    "        n += 1\n",
    "        query_relevance_dict = get_relevance_dict(dataset_dict, query)\n",
    "        \n",
    "        to_rank = [(url, featurizer(dataset_dict, query, url)) for url in url_iter(dataset_dict, query)]\n",
    "        vectors = [vector for _, vector in to_rank]\n",
    "        predictions = ml_model.predict(vectors)\n",
    "        scores = [(url, predictions[i]) for i, (url, _) in enumerate(to_rank)]\n",
    "        \n",
    "        scores = sorted(scores, key = lambda x: x[1], reverse=True)\n",
    "        ranked_doc_list, _ = zip(*scores)\n",
    "        ranked_doc_list = list(ranked_doc_list)\n",
    "\n",
    "        ndcg_sum += NDCG(ranked_doc_list, query_relevance_dict)\n",
    "        alt_ndcg_sum += NDCG(ranked_doc_list, query_relevance_dict, use_alt=True)\n",
    "        precision_sum += average_precision(ranked_doc_list, query_relevance_dict)\n",
    "        \n",
    "    ndcg_sum /= n\n",
    "    alt_ndcg_sum  /= n\n",
    "    precision_sum /= n\n",
    "    return {'NDCG': ndcg_sum,\n",
    "            'Alt_NDCG': alt_ndcg_sum,\n",
    "            'MAP': precision_sum,}"
   ]
  },
  {
   "cell_type": "code",
   "execution_count": 92,
   "metadata": {},
   "outputs": [],
   "source": [
    "training_dataset_title = make_regression_dataset(train_dict, glove_concat_featurizer_title)\n",
    "training_dataset_header = make_regression_dataset(train_dict, glove_concat_featurizer_header)\n",
    "training_dataset_body = make_regression_dataset(train_dict, glove_concat_featurizer_body)"
   ]
  },
  {
   "cell_type": "code",
   "execution_count": 93,
   "metadata": {},
   "outputs": [],
   "source": [
    "class LinearReg:\n",
    "    def __init__(self):\n",
    "        self.model = LinearRegression()\n",
    "        \n",
    "    def train(self, dataset):\n",
    "        X, y = dataset\n",
    "        self.model = self.model.fit(X, y)\n",
    "        return self.model.score(X, y)\n",
    "    \n",
    "    def predict(self, X):\n",
    "        return self.model.predict(X)     "
   ]
  },
  {
   "cell_type": "code",
   "execution_count": 94,
   "metadata": {},
   "outputs": [
    {
     "name": "stdout",
     "output_type": "stream",
     "text": [
      "Linear Regression with title GloVe embeddings\n"
     ]
    },
    {
     "data": {
      "text/plain": [
       "{'NDCG': 0.8542825508514621,\n",
       " 'Alt_NDCG': 0.7973529372338085,\n",
       " 'MAP': 0.7603503995684292}"
      ]
     },
     "execution_count": 94,
     "metadata": {},
     "output_type": "execute_result"
    }
   ],
   "source": [
    "print(\"Linear Regression with title GloVe embeddings\")\n",
    "lin_reg = LinearReg()\n",
    "lin_reg.train(training_dataset_title)\n",
    "run_metrics_ml(dev_dict, lin_reg, glove_concat_featurizer_title)"
   ]
  },
  {
   "cell_type": "code",
   "execution_count": 95,
   "metadata": {},
   "outputs": [
    {
     "name": "stdout",
     "output_type": "stream",
     "text": [
      "Linear Regression with header GloVe embeddings\n"
     ]
    },
    {
     "data": {
      "text/plain": [
       "{'NDCG': 0.8417527545599219,\n",
       " 'Alt_NDCG': 0.7796069586768716,\n",
       " 'MAP': 0.7566035997732421}"
      ]
     },
     "execution_count": 95,
     "metadata": {},
     "output_type": "execute_result"
    }
   ],
   "source": [
    "print(\"Linear Regression with header GloVe embeddings\")\n",
    "lin_reg = LinearReg()\n",
    "lin_reg.train(training_dataset_header)\n",
    "run_metrics_ml(dev_dict, lin_reg, glove_concat_featurizer_header)"
   ]
  },
  {
   "cell_type": "code",
   "execution_count": 104,
   "metadata": {},
   "outputs": [
    {
     "name": "stdout",
     "output_type": "stream",
     "text": [
      "Linear Regression with body GloVe embeddings\n"
     ]
    },
    {
     "data": {
      "text/plain": [
       "{'NDCG': 0.8258499182816925,\n",
       " 'Alt_NDCG': 0.7567527560828344,\n",
       " 'MAP': 0.7363864125399265}"
      ]
     },
     "execution_count": 104,
     "metadata": {},
     "output_type": "execute_result"
    }
   ],
   "source": [
    "print(\"Linear Regression with body GloVe embeddings\")\n",
    "lin_reg = LinearReg()\n",
    "lin_reg.train(training_dataset_body)\n",
    "run_metrics_ml(dev_dict, lin_reg, glove_concat_featurizer_body)"
   ]
  },
  {
   "cell_type": "code",
   "execution_count": 97,
   "metadata": {},
   "outputs": [],
   "source": [
    "class NeuralNetReg:\n",
    "    def __init__(self, **kwargs):\n",
    "        self.model = MLPRegressor(**kwargs)\n",
    "        \n",
    "    def train(self, dataset):\n",
    "        X, y = dataset\n",
    "        self.model = self.model.fit(X, y)\n",
    "        return self.model.score(X, y)\n",
    "    \n",
    "    def predict(self, X):\n",
    "        return self.model.predict(X)     "
   ]
  },
  {
   "cell_type": "code",
   "execution_count": 99,
   "metadata": {},
   "outputs": [
    {
     "name": "stdout",
     "output_type": "stream",
     "text": [
      "Two layer NN with title GloVe embeddings\n"
     ]
    },
    {
     "data": {
      "text/plain": [
       "{'NDCG': 0.8616609708302518,\n",
       " 'Alt_NDCG': 0.8080275458279103,\n",
       " 'MAP': 0.7605624131372979}"
      ]
     },
     "execution_count": 99,
     "metadata": {},
     "output_type": "execute_result"
    }
   ],
   "source": [
    "print(\"Two layer NN with title GloVe embeddings\")\n",
    "nn_reg = NeuralNetReg(hidden_layer_sizes=(100,50), activation='relu', solver='adam')\n",
    "nn_reg.train(training_dataset_title)\n",
    "run_metrics_ml(dev_dict, nn_reg, glove_concat_featurizer_title)"
   ]
  },
  {
   "cell_type": "code",
   "execution_count": 100,
   "metadata": {},
   "outputs": [
    {
     "name": "stdout",
     "output_type": "stream",
     "text": [
      "Two layer NN with header GloVe embeddings\n"
     ]
    },
    {
     "data": {
      "text/plain": [
       "{'NDCG': 0.8497872195391367,\n",
       " 'Alt_NDCG': 0.7924080698498698,\n",
       " 'MAP': 0.7639138809645724}"
      ]
     },
     "execution_count": 100,
     "metadata": {},
     "output_type": "execute_result"
    }
   ],
   "source": [
    "print(\"Two layer NN with header GloVe embeddings\")\n",
    "nn_reg = NeuralNetReg(hidden_layer_sizes=(100,50), activation='relu', solver='adam')\n",
    "nn_reg.train(training_dataset_header)\n",
    "run_metrics_ml(dev_dict, nn_reg, glove_concat_featurizer_header)"
   ]
  },
  {
   "cell_type": "code",
   "execution_count": 103,
   "metadata": {},
   "outputs": [
    {
     "name": "stdout",
     "output_type": "stream",
     "text": [
      "Two layer NN with body GloVe embeddings\n"
     ]
    },
    {
     "data": {
      "text/plain": [
       "{'NDCG': 0.8536416604245739,\n",
       " 'Alt_NDCG': 0.7954594654851734,\n",
       " 'MAP': 0.7637178684197692}"
      ]
     },
     "execution_count": 103,
     "metadata": {},
     "output_type": "execute_result"
    }
   ],
   "source": [
    "print(\"Two layer NN with body GloVe embeddings\")\n",
    "nn_reg = NeuralNetReg(hidden_layer_sizes=(100,50), activation='relu', solver='adam')\n",
    "nn_reg.train(training_dataset_body)\n",
    "run_metrics_ml(dev_dict, nn_reg, glove_concat_featurizer_body)"
   ]
  },
  {
   "cell_type": "code",
   "execution_count": null,
   "metadata": {},
   "outputs": [],
   "source": []
  }
 ],
 "metadata": {
  "kernelspec": {
   "display_name": "Python 3",
   "language": "python",
   "name": "python3"
  },
  "language_info": {
   "codemirror_mode": {
    "name": "ipython",
    "version": 3
   },
   "file_extension": ".py",
   "mimetype": "text/x-python",
   "name": "python",
   "nbconvert_exporter": "python",
   "pygments_lexer": "ipython3",
   "version": "3.7.1"
  }
 },
 "nbformat": 4,
 "nbformat_minor": 2
}
