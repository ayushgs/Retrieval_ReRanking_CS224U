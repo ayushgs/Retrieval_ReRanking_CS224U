{
 "cells": [
  {
   "cell_type": "code",
   "execution_count": 1,
   "metadata": {},
   "outputs": [],
   "source": [
    "#importing dependencies\n",
    "import numpy as np\n",
    "import os\n",
    "import pickle as pkl\n",
    "import math\n",
    "from math import log2\n",
    "import utils\n",
    "from collections import Counter, defaultdict\n",
    "import copy\n",
    "from sklearn.linear_model import LinearRegression\n",
    "from sklearn.neural_network import MLPRegressor\n",
    "from sklearn.utils.random import sample_without_replacement\n",
    "\n",
    "import pandas as pd\n",
    "import unidecode\n",
    "from collections import defaultdict\n",
    "from vsm import *\n",
    "\n",
    "import unidecode"
   ]
  },
  {
   "cell_type": "code",
   "execution_count": 2,
   "metadata": {},
   "outputs": [
    {
     "name": "stdout",
     "output_type": "stream",
     "text": [
      "Requirement already satisfied: en_core_web_sm==2.1.0 from https://github.com/explosion/spacy-models/releases/download/en_core_web_sm-2.1.0/en_core_web_sm-2.1.0.tar.gz#egg=en_core_web_sm==2.1.0 in /Users/ssesha/anaconda3/envs/nlu/lib/python3.7/site-packages (2.1.0)\n",
      "\u001b[38;5;2m✔ Download and installation successful\u001b[0m\n",
      "You can now load the model via spacy.load('en_core_web_sm')\n"
     ]
    }
   ],
   "source": [
    "!python -m spacy download en_core_web_sm"
   ]
  },
  {
   "cell_type": "code",
   "execution_count": 45,
   "metadata": {},
   "outputs": [],
   "source": [
    "import en_core_web_sm\n",
    "nlp = en_core_web_sm.load()\n",
    "\n",
    "# some helper functions\n",
    "def remove_stop_words(words):\n",
    "    return [word for word in words if not nlp.vocab[word].is_stop]\n",
    "\n",
    "def remove_numeric(words):\n",
    "    return [word for word in words if word.isalpha()]\n",
    "\n",
    "def clean_words(words):\n",
    "    # standardize accents\n",
    "    return [unidecode.unidecode(word) for word in words]\n",
    "    # remove words that are not alpha\n",
    "    #return remove_numeric(words)\n",
    "\n",
    "def normalize(vector):\n",
    "    norm = np.linalg.norm(vector)\n",
    "    if norm == 0:\n",
    "        norm = 1 # avoid division by 0\n",
    "    return vector / norm"
   ]
  },
  {
   "cell_type": "code",
   "execution_count": 4,
   "metadata": {},
   "outputs": [],
   "source": [
    "base_dir_name = os.getcwd()\n",
    "data_dir_name = \"project_data\"\n",
    "data_dir = os.path.join(base_dir_name, data_dir_name)"
   ]
  },
  {
   "cell_type": "markdown",
   "metadata": {},
   "source": [
    "### Analyzing data"
   ]
  },
  {
   "cell_type": "code",
   "execution_count": 5,
   "metadata": {},
   "outputs": [],
   "source": [
    "def load_data(signal_filename, relevance_filename, vocab_dict, vocab_id_list, vocab_frequency):\n",
    "    \n",
    "    # We will return these 7 things!\n",
    "    query_dict = {} #maps queries to query id (Assuming distinct queries)\n",
    "    doc_dict = {}  #maps docs to doc id\n",
    "    query_doc_dict = {} #maps query ids to list of doc ids\n",
    "    query_id_list = [] #list\n",
    "    doc_id_list = []\n",
    "    query_doc_relevance = {}\n",
    "    docId_to_content = {} #dict maps from doc id to the contents in the doc. The content is saved as a list of vocab_ids\n",
    "    results_dict = {\n",
    "        'query_dict': query_dict,\n",
    "        'doc_dict': doc_dict,\n",
    "        'query_doc_dict': query_doc_dict,\n",
    "        'query_id_list': query_id_list,\n",
    "        'doc_id_list': doc_id_list,\n",
    "        'query_doc_relevance': query_doc_relevance,\n",
    "        'docId_to_content': docId_to_content,\n",
    "    }\n",
    "    \n",
    "    doc_list_for_query = []\n",
    "    query_repetitions = {} #dict mapping queries to number of repetitions\n",
    "    query_counter = 0\n",
    "    doc_repetitions = 0\n",
    "\n",
    "    with open(os.path.join(data_dir, signal_filename), \"r\", encoding='utf8') as f:\n",
    "        last_query_id = 0 \n",
    "        for line in f:\n",
    "            line_list = line.split()\n",
    "            if line_list[0] == 'query:':\n",
    "                query_counter += 1\n",
    "                if query_counter >= 2:\n",
    "                    query_doc_dict[last_query_id] = doc_list_for_query\n",
    "\n",
    "                query = \" \".join(line_list[1:])\n",
    "\n",
    "                if query_dict.get(query, None) != None:\n",
    "                    query_repetitions[query] = query_repetitions.get(query, 0) + 1\n",
    "                    query = query + \"_\" + str(query_repetitions[query])\n",
    "\n",
    "                query_id_list.append(query)\n",
    "                query_dict[query] = len(query_id_list) - 1\n",
    "\n",
    "                last_query_id = len(query_id_list) - 1 #update the last query whenever a new query starts\n",
    "                doc_list_for_query = [] #reinitialize the doc list whenever a new query starts\n",
    "\n",
    "            elif line_list[0] == 'url:':\n",
    "                assert len(line_list) == 2, \"line_list for url has more than 2 entries. Please check!\"\n",
    "                doc = line_list[1]\n",
    "                if doc_dict.get(doc, None) == None:\n",
    "                    doc_id_list.append(doc)\n",
    "                    doc_id = len(doc_id_list) -1\n",
    "                    doc_dict[doc] = doc_id\n",
    "                else:\n",
    "                    doc_id = doc_dict[doc]\n",
    "                if doc_id not in doc_list_for_query: \n",
    "                    doc_list_for_query.append(doc_id)\n",
    "\n",
    "            else:\n",
    "                continue\n",
    "\n",
    "        query_doc_dict[last_query_id] = doc_list_for_query\n",
    "\n",
    "\n",
    "    query_total_repetitions = copy.deepcopy(query_repetitions)\n",
    "    doc_relevance_dict = {}\n",
    "    query_counter = 0\n",
    "    with open(os.path.join(data_dir, relevance_filename), \"r\", encoding='utf8') as f:\n",
    "        for line in f:\n",
    "            line_list = line.split()\n",
    "            if line_list[0] == 'query:':\n",
    "                query_counter += 1\n",
    "                query = \" \".join(line_list[1:])\n",
    "                if query_repetitions.get(query, None) != None:\n",
    "                    query_repetition_number = query_total_repetitions[query] - query_repetitions[query]\n",
    "                    query_repetitions[query] -= 1\n",
    "                    if query_repetition_number != 0:\n",
    "                        query = query + \"_\" + str(query_repetition_number)\n",
    "\n",
    "                if query_counter >= 2:\n",
    "                    assert query_doc_relevance.get(last_query_id, None) == None, \"Query already existed in the relevance dict\"\n",
    "                    query_doc_relevance[last_query_id] = doc_relevance_dict\n",
    "\n",
    "                last_query_id = query_dict[query]\n",
    "                doc_relevance_dict = {}\n",
    "\n",
    "            elif line_list[0] == \"url:\":\n",
    "                doc = line_list[1]\n",
    "                docID = doc_dict[doc]\n",
    "\n",
    "                doc_relevance_dict[docID] = float(line_list[-1].strip())\n",
    "\n",
    "        query_doc_relevance[last_query_id] = doc_relevance_dict\n",
    "        \n",
    "    #building word corpus for each document\n",
    "    doc_counter = 0\n",
    "    last_doc_content = defaultdict(list)\n",
    "\n",
    "    with open(os.path.join(data_dir, signal_filename), \"r\", encoding='utf8') as f:\n",
    "        for line in f:\n",
    "            line_list = line.split()\n",
    "\n",
    "            if line_list[0] == 'query:':\n",
    "                query = \" \".join(line_list[1:])\n",
    "                queryID = query_dict[query]\n",
    "                for word in line_list[1:]:\n",
    "                    word = word.strip().lower()\n",
    "                    vocab_frequency[word] = vocab_frequency.get(word, 0) + 1\n",
    "\n",
    "                    if vocab_dict.get(word, None) == None:\n",
    "                        vocab_id_list.append(word)\n",
    "                        vocab_dict[word] = len(vocab_id_list) - 1\n",
    "\n",
    "            elif line_list[0] == 'url:':\n",
    "                doc_counter += 1\n",
    "\n",
    "                doc = line_list[1]\n",
    "                docID = doc_dict[doc]\n",
    "\n",
    "                if doc_counter >= 2:\n",
    "                    docId_to_content[last_docID] = last_doc_content\n",
    "\n",
    "                last_doc_content = defaultdict(list)\n",
    "                last_docID = docID\n",
    "\n",
    "            elif line_list[0] == 'title:':\n",
    "                for word in line_list[1:]:\n",
    "                    word = word.strip().lower()\n",
    "                    vocab_frequency[word] = vocab_frequency.get(word, 0) + 1\n",
    "\n",
    "                    if vocab_dict.get(word, None) == None:\n",
    "                        vocab_id_list.append(word)\n",
    "                        vocab_dict[word] = len(vocab_id_list) - 1\n",
    "\n",
    "                    word_id = vocab_dict[word]\n",
    "                    last_doc_content['title'].append(word_id)\n",
    "\n",
    "            elif line_list[0] == 'header:':\n",
    "                for word in line_list[1:]:\n",
    "                    word = word.strip().lower()\n",
    "                    vocab_frequency[word] = vocab_frequency.get(word, 0) + 1\n",
    "\n",
    "                    if vocab_dict.get(word, None) == None:\n",
    "                        vocab_id_list.append(word)\n",
    "                        vocab_dict[word] = len(vocab_id_list) - 1\n",
    "\n",
    "                    word_id = vocab_dict[word]\n",
    "                    last_doc_content['header'].append(word_id)\n",
    "\n",
    "            else:\n",
    "                continue\n",
    "\n",
    "        docId_to_content[last_docID] = last_doc_content\n",
    "    return results_dict"
   ]
  },
  {
   "cell_type": "code",
   "execution_count": 6,
   "metadata": {},
   "outputs": [],
   "source": [
    "#vocab includes words from both, query and docs\n",
    "vocab_dict = {} #mapping from vocab term to id \n",
    "vocab_id_list = [] #list where id maps to the vocab term (0 indexed)\n",
    "vocab_frequency = {} #number of times each vocab term appears in the vocab of documents (included query words)\n",
    "\n",
    "train_dict = load_data(\"pa3.signal.train\", \"pa3.rel.train\", vocab_dict, vocab_id_list, vocab_frequency)\n",
    "dev_dict = load_data(\"pa3.signal.dev\", \"pa3.rel.dev\", vocab_dict, vocab_id_list, vocab_frequency)\n",
    "pkl.dump(dev_dict['doc_id_list'], open('dev_doc_id_list.p', 'wb'))\n",
    "pkl.dump(dev_dict['doc_dict'], open('dev_doc_dict.p', 'wb'))\n"
   ]
  },
  {
   "cell_type": "markdown",
   "metadata": {},
   "source": [
    "## Comparing query and document embeddings\n",
    "\n",
    "Document embeddings are obtained from the given title or header information without any weight normalization. Loop through the files and collect doc words by looking in the title and header (one idea can be to give more weight to title than to header). Lookup for each word in the glove embedding. Choose and fix a random combination of word if a word in query does not exist (maybe a combination from the words university and around because the corpus relates to stanford). Ignore otherwise. Finally, find cosine similarity and rank and compute NDCG score. \n",
    "\n",
    "#### Other ideas:\n",
    "1. Treat upper case and start of line word different than end of line word, etc\n",
    "2. Can add word correction, etc\n",
    "3. How scraping documents and adding more words to document effect performance\n",
    "4. Modeling item-item dependency by seq2slate architecture\n",
    "5. Creating embedding for words in the query but not in the embedding vocab as a distinct combination for \n",
    "6. Training word2vec on this and then trying different ideas with the center and context matrices obtained\n",
    "7. DESM type ideas with the embeddings of words in the document weighted by the similarity of words (W_out * q_emb)\n",
    "8. Treating re-ranking task as an NLI task where document entails query\n",
    "9. regressing score for each query-doc pair using nlp inspired regression by predicting score through RNN for instance\n",
    "10. experimenting with listwise and pairwise approaches"
   ]
  },
  {
   "cell_type": "markdown",
   "metadata": {},
   "source": [
    "## Abstracting away data structures\n"
   ]
  },
  {
   "cell_type": "code",
   "execution_count": 7,
   "metadata": {
    "scrolled": false
   },
   "outputs": [],
   "source": [
    "\"\"\"\n",
    "data structures we need:\n",
    "    query_dict = {} #maps queries to query id (Assuming distinct queries)\n",
    "    query_id_list = [] #list of queries\n",
    "\n",
    "    doc_dict = {}  #maps urls to doc id\n",
    "    doc_id_list = [] # list of urls\n",
    "\n",
    "    query_doc_dict = {} #maps query ids to list of doc ids\n",
    "    \n",
    "    docId_to_content = {} #dict maps from doc id to the contents in the doc. The content is saved as a list of vocab_ids\n",
    "\n",
    "    #vocab includes words from both, query and docs\n",
    "    vocab_dict = {} #mapping from vocab term to id \n",
    "    vocab_id_list = [] #list where id maps to the vocab term (0 indexed)\n",
    "    vocab_frequency = {} \n",
    "\"\"\"   \n",
    "# dataset_dict is an argument to most of these, \n",
    "# as we need to know if we are dealing with train set, dev set\n",
    "def get_query_string(dataset_dict, query):\n",
    "    if type(query) == int:\n",
    "        query = dataset_dict['query_id_list'][query]\n",
    "    assert type(query) == str, query\n",
    "    return query\n",
    "\n",
    "def get_query_id(dataset_dict, query):\n",
    "    if type(query) == str:\n",
    "        query = dataset_dict['query_dict'][query]\n",
    "    assert type(query) == int, query\n",
    "    return query\n",
    " \n",
    "def get_doc_url(dataset_dict, doc):\n",
    "    if type(doc) == int:\n",
    "        doc = dataset_dict['doc_id_list'][doc]\n",
    "    assert type(doc) == str, doc\n",
    "    return doc\n",
    "\n",
    "def get_doc_id(dataset_dict, doc):\n",
    "    if type(doc) == str:\n",
    "        doc = dataset_dict['doc_dict'][doc]\n",
    "    assert type(doc) == int, doc\n",
    "    return doc\n",
    "\n",
    "# this should be common to everything across train/dev\n",
    "def ids_to_words(content):\n",
    "    # convert ids to words\n",
    "    return [vocab_id_list[i] if type(i) == int else i for i in content]\n",
    "    #return [vocab_id_list[i] for i in content]\n",
    "\n",
    "# this should be common to everything across train/dev\n",
    "def words_to_ids(words):\n",
    "    return [vocab_dict[w] if type(w) == str else w for w in words]\n",
    "    #return [vocab_dict[w] for w in words]\n",
    "\n",
    "# this should be common to everything across train/dev\n",
    "def register_words(words):\n",
    "    for word in words:\n",
    "        if word not in vocab_dict:\n",
    "            vocab_dict[word] = len(vocab_id_list)\n",
    "            vocab_id_list.append(word)\n",
    "\n",
    "def get_query_words(dataset_dict, query):\n",
    "    # return a list of words corresponding to the query (either string query or query_id)\n",
    "    query = get_query_string(dataset_dict, query)\n",
    "    return query.split('_')[0].split(' ')\n",
    "    \n",
    "def get_doc_words(dataset_dict, document, content_type):\n",
    "    # given either url or doc_id\n",
    "    document = get_doc_id(dataset_dict, document)\n",
    "    # all documents have a title at least\n",
    "    doc_to_content = dataset_dict['docId_to_content']\n",
    "    title_content = doc_to_content[document]['title']\n",
    "    \n",
    "    if content_type == 'title':\n",
    "        content = title_content\n",
    "    \n",
    "    elif content_type == 'header':\n",
    "        if doc_to_content[document]['header']:\n",
    "            content = doc_to_content[document]['header']\n",
    "        else:\n",
    "            content = title_content\n",
    "    \n",
    "    elif content_type == '2th':\n",
    "        content = 2*title_content\n",
    "        content += doc_to_content[document]['header']\n",
    "    \n",
    "    elif content_type == 'body':\n",
    "        if doc_to_content[document]['body']:\n",
    "            content = doc_to_content[document]['body']\n",
    "        else:\n",
    "            content = title_content\n",
    "        \n",
    "    else:\n",
    "        raise ValueError(\"Invalid content type: {}\".format(content_type))\n",
    "\n",
    "    return ids_to_words(content)\n",
    "\n",
    "def get_all_doc_words(dataset_dict, query, content_type):\n",
    "    # return tuples of (url, content) corresponding \n",
    "    query = get_query_id(dataset_dict, query)\n",
    "    query_doc_dict = dataset_dict['query_doc_dict']\n",
    "    documents = [get_doc_url(dataset_dict, doc) for doc in query_doc_dict[query]]\n",
    "    return [(doc, get_doc_words(dataset_dict, doc, content_type)) for doc in documents]\n",
    "\n",
    "def get_relevance_dict(dataset_dict, query):\n",
    "    query = get_query_id(dataset_dict, query)\n",
    "    query_doc_relevance = dataset_dict['query_doc_relevance']\n",
    "    return {get_doc_url(dataset_dict, k): v for k, v in query_doc_relevance[query].items()}\n",
    "\n",
    "def query_iter(dataset_dict):\n",
    "    query_dict = dataset_dict['query_dict']\n",
    "    for query in query_dict:\n",
    "        yield query\n",
    "\n",
    "def url_iter(dataset_dict, query):\n",
    "    query_doc_dict = dataset_dict['query_doc_dict']\n",
    "    query = get_query_id(dataset_dict, query)\n",
    "\n",
    "    for doc in query_doc_dict[query]:\n",
    "        yield get_doc_url(dataset_dict, doc)\n",
    "        \n",
    "# Note: from here on out, you NEVER have to touch a datastructure, just use the functions above"
   ]
  },
  {
   "cell_type": "markdown",
   "metadata": {},
   "source": [
    "## Inject the body content (by url) into docId_to_content when available"
   ]
  },
  {
   "cell_type": "code",
   "execution_count": 8,
   "metadata": {},
   "outputs": [
    {
     "name": "stdout",
     "output_type": "stream",
     "text": [
      "Loading dictionary\n",
      "Loading dictionary\n"
     ]
    }
   ],
   "source": [
    "def make_url_to_body(s=\"train\"):\n",
    "    name = \"{}_web_url_to_body.p\".format(s)\n",
    "    if not os.path.exists(name):\n",
    "        print(\"Making dictionary\")\n",
    "        web_vocab_id_list = pkl.load(open('{}_vocab_id_list.p'.format(s), 'rb'))\n",
    "        web_vocab_dict = pkl.load(open('{}_vocab_dict.p'.format(s), 'rb'))\n",
    "        web_docId_to_content = pkl.load(open('{}_doc_id_content.p'.format(s), 'rb'))\n",
    "        web_doc_id_list = pkl.load(open(\"{}_doc_id_list.p\".format(s), \"rb\"))\n",
    "        web_doc_dict = pkl.load(open(\"{}_doc_dict.p\".format(s), \"rb\"))\n",
    "        web_url_to_words = {}\n",
    "\n",
    "        for url, doc in web_doc_dict.items():\n",
    "            body_content = []\n",
    "            if doc in web_docId_to_content:\n",
    "                _, body_content = web_docId_to_content[doc]\n",
    "\n",
    "            body_content = [web_vocab_id_list[w] for w in body_content]\n",
    "            web_url_to_words[url] = body_content\n",
    "\n",
    "        pkl.dump(web_url_to_words, open(name, \"wb\"))\n",
    "\n",
    "    else:\n",
    "        print(\"Loading dictionary\")\n",
    "        web_url_to_words = pkl.load(open(name, \"rb\"))\n",
    "    return web_url_to_words\n",
    "\n",
    "train_web_url_to_words = make_url_to_body('train')\n",
    "dev_web_url_to_words = make_url_to_body('dev')"
   ]
  },
  {
   "cell_type": "code",
   "execution_count": 9,
   "metadata": {},
   "outputs": [
    {
     "name": "stdout",
     "output_type": "stream",
     "text": [
      "(7201, 0)\n",
      "(1187, 0)\n"
     ]
    }
   ],
   "source": [
    "def fill_in(dataset_dict, web_url_to_words):\n",
    "    present, missing = 0, 0\n",
    "    for query in query_iter(dataset_dict):\n",
    "        for url in url_iter(dataset_dict, query):\n",
    "            if url in web_url_to_words:\n",
    "                content = web_url_to_words[url]\n",
    "                doc_id = get_doc_id(dataset_dict, url)\n",
    "                register_words(content)\n",
    "                content = words_to_ids(content)\n",
    "                docId_to_content = dataset_dict['docId_to_content']\n",
    "                docId_to_content[doc_id]['body'] = content\n",
    "                present += 1\n",
    "            else:\n",
    "                missing += 1\n",
    "    return present, missing\n",
    "\n",
    "print(fill_in(train_dict, train_web_url_to_words))\n",
    "print(fill_in(dev_dict, dev_web_url_to_words))\n"
   ]
  },
  {
   "cell_type": "code",
   "execution_count": 10,
   "metadata": {},
   "outputs": [
    {
     "name": "stdout",
     "output_type": "stream",
     "text": [
      "['stanford', 'aoerc', 'pool', 'hours']\n",
      "\n",
      "[('http://events.stanford.edu/2014/February/18/', ['events', 'at', 'stanford', 'tuesday', 'february', '18', '2014']), ('http://events.stanford.edu/2014/February/6/', ['events', 'at', 'stanford', 'thursday', 'february', '6', '2014']), ('http://events.stanford.edu/2014/March/13/', ['events', 'at', 'stanford', 'thursday', 'march', '13', '2014']), ('http://events.stanford.edu/2014/March/3/', ['events', 'at', 'stanford', 'monday', 'march', '3', '2014']), ('http://med.stanford.edu/content/dam/sm/hip/documents/FreeFitnessWeek.pdf', ['ffw', 'spring', '2017', 'schedule']), ('http://web.stanford.edu/group/masters/pool.html', ['stanford', 'masters', 'swimming', 'pool', '&', 'parking', 'information']), ('https://alumni.stanford.edu/get/page/perks/PoolAndGyms', ['pool', '&', 'gyms']), ('https://cardinalrec.stanford.edu/facilities/aoerc/', []), ('https://explorecourses.stanford.edu/search?view=catalog&filter-coursestatus-Active=on&page=0&catalog=&q=PE+128%3A+Swimming%3A+Beginning+I&collapse=', ['stanford', 'university', 'explore', 'courses']), ('https://glo.stanford.edu/events/stanford-rec-open-house', ['stanford', 'rec', 'open', 'house', 'graduate', 'life', 'office'])]\n",
      "\n",
      "{'http://events.stanford.edu/2014/February/18/': 0.0, 'http://events.stanford.edu/2014/February/6/': 0.0, 'http://events.stanford.edu/2014/March/13/': 0.0, 'http://events.stanford.edu/2014/March/3/': 0.0, 'http://med.stanford.edu/content/dam/sm/hip/documents/FreeFitnessWeek.pdf': 0.0, 'http://web.stanford.edu/group/masters/pool.html': 1.0, 'https://alumni.stanford.edu/get/page/perks/PoolAndGyms': 1.5, 'https://cardinalrec.stanford.edu/facilities/aoerc/': 2.0, 'https://explorecourses.stanford.edu/search?view=catalog&filter-coursestatus-Active=on&page=0&catalog=&q=PE+128%3A+Swimming%3A+Beginning+I&collapse=': 0.5, 'https://glo.stanford.edu/events/stanford-rec-open-house': 0.5}\n",
      "\n",
      "http://events.stanford.edu/2014/February/18/\n",
      "http://events.stanford.edu/2014/February/6/\n",
      "http://events.stanford.edu/2014/March/13/\n",
      "http://events.stanford.edu/2014/March/3/\n",
      "http://med.stanford.edu/content/dam/sm/hip/documents/FreeFitnessWeek.pdf\n",
      "http://web.stanford.edu/group/masters/pool.html\n",
      "https://alumni.stanford.edu/get/page/perks/PoolAndGyms\n",
      "https://cardinalrec.stanford.edu/facilities/aoerc/\n",
      "https://explorecourses.stanford.edu/search?view=catalog&filter-coursestatus-Active=on&page=0&catalog=&q=PE+128%3A+Swimming%3A+Beginning+I&collapse=\n",
      "https://glo.stanford.edu/events/stanford-rec-open-house\n"
     ]
    }
   ],
   "source": [
    "# some sanity checks\n",
    "for query in query_iter(train_dict):\n",
    "    print(get_query_words(train_dict, query))\n",
    "    print()\n",
    "    print(get_all_doc_words(train_dict, query, 'title'))\n",
    "    print()\n",
    "    print(get_relevance_dict(train_dict, query))\n",
    "    print()\n",
    "    for url in url_iter(train_dict, query):\n",
    "        print(url)\n",
    "    break\n"
   ]
  },
  {
   "cell_type": "code",
   "execution_count": 11,
   "metadata": {},
   "outputs": [
    {
     "name": "stdout",
     "output_type": "stream",
     "text": [
      "['lost', 'axess', 'password', 'help']\n",
      "\n",
      "[('https://accounts.stanford.edu/', ['stanford', 'accounts']), ('https://accounts.stanford.edu/resetpw', ['stanford', 'accounts', 'reset', 'password', 'step', '1', 'of', '4']), ('https://uit.stanford.edu/announcements/security', ['announcements', 'university', 'it']), ('https://uit.stanford.edu/service/webauth/twostep', ['two', 'step', 'authentication', 'university', 'it']), ('https://uit.stanford.edu/service/webauth/twostep/bypass_code', ['how', 'to', 'generate', 'a', 'bypass', 'code', 'for', 'a', 'lost', 'or', 'forgotten', 'two', 'step', 'authentication', 'device', 'university', 'it']), ('https://uit.stanford.edu/service/webauth/twostep/printed_list', ['how', 'to', 'use', 'a', 'printed', 'list', 'for', 'two', 'step', 'authentication', 'university', 'it']), ('https://uit.stanford.edu/service/webauth/twostep/push', ['how', 'to', 'authenticate', 'with', 'a', 'duo', 'push', 'notification', 'for', 'two', 'step', 'authentication', 'university', 'it']), ('https://uit.stanford.edu/sites/default/files/2014/08/14/OnGuard%202013%20System%20Administration%20user%20guide.pdf', ['system', 'administration', 'user', 'guide']), ('https://web.stanford.edu/group/coursework/cgi-bin/drupal/?q=node/123', ['coursework', 'release', 'notes', 'coursework', 'help', 'resources'])]\n",
      "\n",
      "{'https://accounts.stanford.edu/': 3.0, 'https://accounts.stanford.edu/resetpw': 1.7, 'https://uit.stanford.edu/announcements/security': 0.3, 'https://uit.stanford.edu/service/webauth/twostep': 1.0, 'https://uit.stanford.edu/service/webauth/twostep/bypass_code': 1.7, 'https://uit.stanford.edu/service/webauth/twostep/printed_list': 1.0, 'https://uit.stanford.edu/service/webauth/twostep/push': 1.0, 'https://uit.stanford.edu/sites/default/files/2014/08/14/OnGuard%202013%20System%20Administration%20user%20guide.pdf': 0.0, 'https://web.stanford.edu/group/coursework/cgi-bin/drupal/?q=node/123': 0.0}\n",
      "\n",
      "https://accounts.stanford.edu/\n",
      "https://accounts.stanford.edu/resetpw\n",
      "https://uit.stanford.edu/announcements/security\n",
      "https://uit.stanford.edu/service/webauth/twostep\n",
      "https://uit.stanford.edu/service/webauth/twostep/bypass_code\n",
      "https://uit.stanford.edu/service/webauth/twostep/printed_list\n",
      "https://uit.stanford.edu/service/webauth/twostep/push\n",
      "https://uit.stanford.edu/sites/default/files/2014/08/14/OnGuard%202013%20System%20Administration%20user%20guide.pdf\n",
      "https://web.stanford.edu/group/coursework/cgi-bin/drupal/?q=node/123\n"
     ]
    }
   ],
   "source": [
    "for query in query_iter(dev_dict):\n",
    "    print(get_query_words(dev_dict, query))\n",
    "    print()\n",
    "    print(get_all_doc_words(dev_dict, query, 'title'))\n",
    "    print()\n",
    "    print(get_relevance_dict(dev_dict, query))\n",
    "    print()\n",
    "    for url in url_iter(dev_dict, query):\n",
    "        print(url)\n",
    "    break"
   ]
  },
  {
   "cell_type": "markdown",
   "metadata": {},
   "source": [
    "## Set up GloVe embedding"
   ]
  },
  {
   "cell_type": "code",
   "execution_count": 119,
   "metadata": {},
   "outputs": [],
   "source": [
    "'''having generated query content and doc content, lets try ranking by cosine similarity between query and document \n",
    "embedding\n",
    "'''\n",
    "#iteration 1: ignore words not there in the embedding\n",
    "\n",
    "#lookup function\n",
    "glove_dim = 100\n",
    "GLOVE_HOME = os.path.join('data', 'glove.6B')\n",
    "glove_lookup = utils.glove2dict(os.path.join(GLOVE_HOME, 'glove.6B.{}d.txt'.format(glove_dim)))"
   ]
  },
  {
   "cell_type": "code",
   "execution_count": 12,
   "metadata": {},
   "outputs": [],
   "source": [
    "def make_glove_embedding(words, combine_func=None, is_query=None):\n",
    "    # is_query is ignored, added to play nice with make_vsm_embedding\n",
    "    for word in words:\n",
    "        assert isinstance(word, str), (type(word), word)\n",
    "\n",
    "    all_vecs = np.array([glove_lookup[w] for w in words if w in glove_lookup]) \n",
    "\n",
    "    if len(all_vecs) == 0:\n",
    "        feats = np.zeros(glove_dim)    \n",
    "    else:       \n",
    "        if combine_func:\n",
    "            feats = combine_func(all_vecs)\n",
    "        else: # take the elemnetwise mean by default\n",
    "            feats = np.mean(all_vecs, axis=0) \n",
    "    return feats\n",
    "\n",
    "def query_and_document_embeddings(dataset_dict, query, query_combine_func=None, doc_combine_func=None, content_type='title', embedding_func=None):\n",
    "    \"\"\"\n",
    "    query: Either query text, or id\n",
    "    query_combine_func: How to combine query GloVe embeddings (default is mean)\n",
    "    doc_combine_func: How to combine document GloVe embeddings (default is mean)\n",
    "    doc_content_type: How to select document content. TODO: make this do something\n",
    "    \"\"\"\n",
    "    if embedding_func is None:\n",
    "        embedding_func = make_glove_embedding\n",
    "        \n",
    "    query_words = get_query_words(dataset_dict, query)\n",
    "    query_embedding = embedding_func(query_words, query_combine_func, is_query=True)\n",
    "        \n",
    "    document_embeddings = [(url, embedding_func(words, doc_combine_func, is_query=False)) \n",
    "                               for url, words in get_all_doc_words(dataset_dict, query, content_type)]\n",
    "    return query_embedding, document_embeddings"
   ]
  },
  {
   "cell_type": "markdown",
   "metadata": {},
   "source": [
    "### Metric - NDCG, MAP\n",
    "\n",
    "can also incorporate Precision, MAP, etc. after binary conversion with decay rates"
   ]
  },
  {
   "cell_type": "code",
   "execution_count": 13,
   "metadata": {},
   "outputs": [],
   "source": [
    "def DCG(ranked_docs, relevance_dict):\n",
    "    '''This function takes an ordered/ranked document list with the ground truth relevance labels from the \n",
    "    relevance_dict and returns a DCG score for the retrieval/ranking.\n",
    "    Input -- \n",
    "        ranked_docs = list of doc IDs ordered by rank. First element in the list is the highest ranked\n",
    "        relevance_dict = dict with keys as the doc_IDs and relevance score as the element\n",
    "    Output -- \n",
    "        DCG [float]'''\n",
    "    return np.sum([(relevance_dict[doc]) / (math.log2(i+2)) \\\n",
    "                  for i, doc in enumerate(ranked_docs)])\n",
    "\n",
    "def DCG_alt(ranked_docs, relevance_dict):\n",
    "    return np.sum([(2**relevance_dict[doc] - 1) / (math.log2(i+2)) \\\n",
    "                   for i, doc in enumerate(ranked_docs)])\n",
    "\n",
    "def NDCG(ranked_docs, relevance_dict, use_alt=False):\n",
    "    '''This function takes an ordered/ranked document list with the ground truth relevance labels from the \n",
    "    relevance_dict and returns a NDCG score for the ranking. \n",
    "    Input -- \n",
    "        ranked_docs = list of doc IDs ordered by rank. First element in the list is the highest ranked\n",
    "        relevance_dict = dict with keys as the doc_IDs and relevance score as the element\n",
    "    Output -- \n",
    "        NDCG [float]'''\n",
    "    assert len(ranked_docs) == len(relevance_dict)\n",
    "    ideal_ordering, _ = zip(*sorted(relevance_dict.items(), key = lambda x: (-x[1])))\n",
    "    ideal_ordering = list(ideal_ordering)\n",
    "    \n",
    "    dcg_func = DCG_alt if use_alt else DCG\n",
    "    DCG_oracle = dcg_func(ideal_ordering, relevance_dict)\n",
    "    DCG_case = dcg_func(ranked_docs, relevance_dict)\n",
    "    assert DCG_oracle >= DCG_case\n",
    "    \n",
    "    #return 0 if DCG_ideal is 0 (happens when all the retrieved docs are rated 0)\n",
    "    if DCG_oracle == 0:\n",
    "        return 1.0\n",
    "\n",
    "    return DCG_case/DCG_oracle\n",
    "\n",
    "#sanity check\n",
    "ranked_docs = [0,1,2,3,4]\n",
    "relevance_dict = {0: 2, 1: 3, 2: 0, 3: 0, 4: 1}\n",
    "DCG_score = 2 + 3/log2(3) + 1/log2(6)\n",
    "Ideal_score = 3 + 2/log2(3) + 1/log2(4)\n",
    "NDCG_score = DCG_score/Ideal_score\n",
    "assert DCG(ranked_docs, relevance_dict) == DCG_score, \"DCG error\"\n",
    "assert NDCG(ranked_docs, relevance_dict) == NDCG_score, \"NDCG error\""
   ]
  },
  {
   "cell_type": "code",
   "execution_count": 14,
   "metadata": {},
   "outputs": [],
   "source": [
    "def average_precision_helper(relevance_list):\n",
    "    precision = 0.0\n",
    "    relevant_so_far = 0.0\n",
    "    for i, val in enumerate(relevance_list):\n",
    "        relevant_so_far += val\n",
    "        precision += relevant_so_far / (i+1)\n",
    "    return precision / len(relevance_list)\n",
    "\n",
    "def average_precision(ranked_doc_list, query_relevance_dict):\n",
    "    relevance_list = [1 if query_relevance_dict[doc] >= 1.0 else 0 for doc in ranked_doc_list]\n",
    "    return average_precision_helper(relevance_list)\n",
    "\n",
    "expected = (1 + 1 + 2/3 + 2/4 + 3/5 + 3/6 + 4/7)/ 7\n",
    "actual = average_precision_helper([1, 1, 0, 0, 1, 0, 1])\n",
    "assert expected == actual, actual\n"
   ]
  },
  {
   "cell_type": "code",
   "execution_count": 15,
   "metadata": {},
   "outputs": [],
   "source": [
    "def random_similarity(doc_embedding, query_embedding):\n",
    "    return np.random.uniform()\n",
    "\n",
    "def cosine_similarity(doc_embedding, query_embedding):\n",
    "    doc_embedding = normalize(doc_embedding)\n",
    "    return np.dot(doc_embedding, query_embedding)\n"
   ]
  },
  {
   "cell_type": "code",
   "execution_count": 16,
   "metadata": {},
   "outputs": [],
   "source": [
    "def run_metrics(dataset_dict, scoring_func=cosine_similarity, \n",
    "                content_type='title', embedding_func=None, set_name='dev', exp_name='(None)'):\n",
    "    ndcg_sum = 0.0\n",
    "    alt_ndcg_sum = 0.0\n",
    "    precision_sum = 0.0\n",
    "    n = 0\n",
    "    for query in query_iter(dataset_dict):\n",
    "        n += 1\n",
    "        query_relevance_dict = get_relevance_dict(dataset_dict, query)\n",
    "        query_embedding, document_embeddings = \\\n",
    "                query_and_document_embeddings(dataset_dict, query, content_type=content_type, embedding_func=embedding_func)\n",
    "        \n",
    "        scores = [(url, scoring_func(doc_emb, query_embedding)) for url, doc_emb in document_embeddings]\n",
    "        scores = sorted(scores, key = lambda x: x[1], reverse=True)\n",
    "        ranked_doc_list, _ = zip(*scores)\n",
    "        ranked_doc_list = list(ranked_doc_list)\n",
    "\n",
    "        ndcg_sum += NDCG(ranked_doc_list, query_relevance_dict)\n",
    "        alt_ndcg_sum += NDCG(ranked_doc_list, query_relevance_dict, use_alt=True)\n",
    "        precision_sum += average_precision(ranked_doc_list, query_relevance_dict)\n",
    "        \n",
    "    ndcg_sum /= n\n",
    "    alt_ndcg_sum  /= n\n",
    "    precision_sum /= n\n",
    "    return {'NDCG': ndcg_sum,\n",
    "            'Alt_NDCG': alt_ndcg_sum,\n",
    "            'MAP': precision_sum,\n",
    "            'type': set_name,\n",
    "            'name': exp_name}"
   ]
  },
  {
   "cell_type": "markdown",
   "metadata": {},
   "source": [
    "## Random ordering accuracy\n",
    "\n",
    "For every query, arrange the docs in random order and check the NDCG value"
   ]
  },
  {
   "cell_type": "code",
   "execution_count": 19,
   "metadata": {},
   "outputs": [
    {
     "name": "stdout",
     "output_type": "stream",
     "text": [
      "Random on train\n"
     ]
    },
    {
     "data": {
      "text/plain": [
       "{'NDCG': 0.809529579371248,\n",
       " 'Alt_NDCG': 0.7422079090196728,\n",
       " 'MAP': 0.7241636182584593}"
      ]
     },
     "execution_count": 19,
     "metadata": {},
     "output_type": "execute_result"
    }
   ],
   "source": [
    "n = 10\n",
    "sum_metric = {}\n",
    "for _ in range(n):\n",
    "    for m, v in run_metrics(train_dict, scoring_func=random_similarity).items():\n",
    "        if type(v) != str:\n",
    "            sum_metric[m] = sum_metric.get(m, 0) + v / n\n",
    "print(\"Random on train\")\n",
    "sum_metric"
   ]
  },
  {
   "cell_type": "code",
   "execution_count": 22,
   "metadata": {},
   "outputs": [
    {
     "name": "stdout",
     "output_type": "stream",
     "text": [
      "Random on dev\n"
     ]
    },
    {
     "data": {
      "text/plain": [
       "{'NDCG': 0.8062319836467401,\n",
       " 'Alt_NDCG': 0.7347451765535957,\n",
       " 'MAP': 0.7181887945590422}"
      ]
     },
     "execution_count": 22,
     "metadata": {},
     "output_type": "execute_result"
    }
   ],
   "source": [
    "n = 10\n",
    "sum_metric = {}\n",
    "for _ in range(n):\n",
    "    for m, v in run_metrics(dev_dict, scoring_func=random_similarity).items():\n",
    "        if type(v) != str:\n",
    "            sum_metric[m] = sum_metric.get(m, 0) + v / n\n",
    "print(\"Random on dev\")\n",
    "sum_metric"
   ]
  },
  {
   "cell_type": "markdown",
   "metadata": {},
   "source": [
    "# Some non-random methods\n"
   ]
  },
  {
   "cell_type": "code",
   "execution_count": 23,
   "metadata": {},
   "outputs": [
    {
     "name": "stdout",
     "output_type": "stream",
     "text": [
      "Title on train\n"
     ]
    },
    {
     "data": {
      "text/plain": [
       "{'NDCG': 0.8651824860113435,\n",
       " 'Alt_NDCG': 0.8161245513899243,\n",
       " 'MAP': 0.7771249238087184,\n",
       " 'type': 'dev',\n",
       " 'name': '(None)'}"
      ]
     },
     "execution_count": 23,
     "metadata": {},
     "output_type": "execute_result"
    }
   ],
   "source": [
    "print(\"Title on train\")\n",
    "run_metrics(train_dict, scoring_func=cosine_similarity, content_type='title')"
   ]
  },
  {
   "cell_type": "code",
   "execution_count": 24,
   "metadata": {},
   "outputs": [
    {
     "name": "stdout",
     "output_type": "stream",
     "text": [
      "Title on dev\n"
     ]
    },
    {
     "data": {
      "text/plain": [
       "{'NDCG': 0.8610811796421569,\n",
       " 'Alt_NDCG': 0.8111389290875022,\n",
       " 'MAP': 0.7623313263477439,\n",
       " 'type': 'dev',\n",
       " 'name': '(None)'}"
      ]
     },
     "execution_count": 24,
     "metadata": {},
     "output_type": "execute_result"
    }
   ],
   "source": [
    "print(\"Title on dev\")\n",
    "run_metrics(dev_dict, scoring_func=cosine_similarity, content_type='title')"
   ]
  },
  {
   "cell_type": "code",
   "execution_count": 25,
   "metadata": {},
   "outputs": [
    {
     "name": "stdout",
     "output_type": "stream",
     "text": [
      "Header on train\n"
     ]
    },
    {
     "data": {
      "text/plain": [
       "{'NDCG': 0.8568503022704564,\n",
       " 'Alt_NDCG': 0.8042551360163497,\n",
       " 'MAP': 0.7661671476556811,\n",
       " 'type': 'dev',\n",
       " 'name': '(None)'}"
      ]
     },
     "execution_count": 25,
     "metadata": {},
     "output_type": "execute_result"
    }
   ],
   "source": [
    "print(\"Header on train\")\n",
    "run_metrics(train_dict, scoring_func=cosine_similarity, content_type='header')"
   ]
  },
  {
   "cell_type": "code",
   "execution_count": 26,
   "metadata": {},
   "outputs": [
    {
     "name": "stdout",
     "output_type": "stream",
     "text": [
      "Header on dev\n"
     ]
    },
    {
     "data": {
      "text/plain": [
       "{'NDCG': 0.8595995880298966,\n",
       " 'Alt_NDCG': 0.8048907651704151,\n",
       " 'MAP': 0.7704660869724235,\n",
       " 'type': 'dev',\n",
       " 'name': '(None)'}"
      ]
     },
     "execution_count": 26,
     "metadata": {},
     "output_type": "execute_result"
    }
   ],
   "source": [
    "print(\"Header on dev\")\n",
    "run_metrics(dev_dict, scoring_func=cosine_similarity, content_type='header')"
   ]
  },
  {
   "cell_type": "code",
   "execution_count": 27,
   "metadata": {},
   "outputs": [
    {
     "name": "stdout",
     "output_type": "stream",
     "text": [
      "2*Title+header on train\n"
     ]
    },
    {
     "data": {
      "text/plain": [
       "{'NDCG': 0.8685425184105349,\n",
       " 'Alt_NDCG': 0.8196390620542968,\n",
       " 'MAP': 0.778713179048508,\n",
       " 'type': 'dev',\n",
       " 'name': '(None)'}"
      ]
     },
     "execution_count": 27,
     "metadata": {},
     "output_type": "execute_result"
    }
   ],
   "source": [
    "print(\"2*Title+header on train\")\n",
    "run_metrics(train_dict, scoring_func=cosine_similarity, content_type='2th')"
   ]
  },
  {
   "cell_type": "code",
   "execution_count": 28,
   "metadata": {},
   "outputs": [
    {
     "name": "stdout",
     "output_type": "stream",
     "text": [
      "2*Title+header on dev\n"
     ]
    },
    {
     "data": {
      "text/plain": [
       "{'NDCG': 0.8702515039354958,\n",
       " 'Alt_NDCG': 0.8221430739588372,\n",
       " 'MAP': 0.776288219588911,\n",
       " 'type': 'dev',\n",
       " 'name': '(None)'}"
      ]
     },
     "execution_count": 28,
     "metadata": {},
     "output_type": "execute_result"
    }
   ],
   "source": [
    "print(\"2*Title+header on dev\")\n",
    "run_metrics(dev_dict, scoring_func=cosine_similarity, content_type='2th')"
   ]
  },
  {
   "cell_type": "code",
   "execution_count": 29,
   "metadata": {},
   "outputs": [
    {
     "name": "stdout",
     "output_type": "stream",
     "text": [
      "Body on train\n"
     ]
    },
    {
     "data": {
      "text/plain": [
       "{'NDCG': 0.8538332875849136,\n",
       " 'Alt_NDCG': 0.7968008388330325,\n",
       " 'MAP': 0.7690100740266438,\n",
       " 'type': 'dev',\n",
       " 'name': '(None)'}"
      ]
     },
     "execution_count": 29,
     "metadata": {},
     "output_type": "execute_result"
    }
   ],
   "source": [
    "print(\"Body on train\")\n",
    "run_metrics(train_dict, scoring_func=cosine_similarity, content_type='body')"
   ]
  },
  {
   "cell_type": "code",
   "execution_count": 30,
   "metadata": {},
   "outputs": [
    {
     "name": "stdout",
     "output_type": "stream",
     "text": [
      "Body on dev\n"
     ]
    },
    {
     "data": {
      "text/plain": [
       "{'NDCG': 0.8706960262890675,\n",
       " 'Alt_NDCG': 0.8121585630178958,\n",
       " 'MAP': 0.7961876798210322,\n",
       " 'type': 'dev',\n",
       " 'name': '(None)'}"
      ]
     },
     "execution_count": 30,
     "metadata": {},
     "output_type": "execute_result"
    }
   ],
   "source": [
    "print(\"Body on dev\")\n",
    "run_metrics(dev_dict, scoring_func=cosine_similarity, content_type='body')"
   ]
  },
  {
   "cell_type": "markdown",
   "metadata": {},
   "source": [
    "# Let's do Machine Learning"
   ]
  },
  {
   "cell_type": "code",
   "execution_count": 115,
   "metadata": {},
   "outputs": [],
   "source": [
    "def regression_featurizer_factory(embedder, content_type=None, combine_func=None, \n",
    "                                  remove_stop=False, combination_type=None):\n",
    "    assert content_type is not None\n",
    "    if combine_func is None:\n",
    "        combine_func = lambda arr: np.mean(arr, axis=0)\n",
    "    assert combination_type in ['concat', 'mult', 'both']\n",
    "    \n",
    "    \"\"\"\n",
    "    Returns a function that can be called to featurize data when making a regression dataset\n",
    "    \"\"\"\n",
    "    def featurizer(dataset_dict, query, url):\n",
    "    \n",
    "        query_words = get_query_words(dataset_dict, query)\n",
    "        doc_words = get_doc_words(dataset_dict, url, content_type)\n",
    "\n",
    "        if remove_stop:\n",
    "            query_words = remove_stop_words(query_words)\n",
    "            doc_words = remove_stop_words(doc_words)\n",
    "\n",
    "        query_embedding = embedder(query_words, combine_func, is_query=True)\n",
    "        document_embedding = embedder(doc_words, combine_func, is_query=False) \n",
    "\n",
    "        if combination_type == 'concat':\n",
    "            return np.concatenate([query_embedding, document_embedding])\n",
    "        elif combination_type == 'mult':\n",
    "            return query_embedding * document_embedding\n",
    "        elif combination_type == 'both':\n",
    "            return np.concatenate([query_embedding, document_embedding, query_embedding * document_embedding])\n",
    "        else:\n",
    "            raise ValueError(\"Invalid combination type {}\".format(combination_type))\n",
    "        \n",
    "    return featurizer\n",
    "\n",
    "glove_concat_featurizer_title = regression_featurizer_factory(make_glove_embedding, content_type='title', combination_type='concat')\n",
    "glove_concat_featurizer_header = regression_featurizer_factory(make_glove_embedding, content_type='header', combination_type='concat')\n",
    "glove_concat_featurizer_2_title_header = regression_featurizer_factory(make_glove_embedding, content_type='2th', combination_type='concat')\n",
    "glove_concat_featurizer_body = regression_featurizer_factory(make_glove_embedding, content_type='body', combination_type='concat')    "
   ]
  },
  {
   "cell_type": "code",
   "execution_count": 116,
   "metadata": {},
   "outputs": [],
   "source": [
    "def make_regression_dataset(dataset_dict, featurizer, repetitive=False):\n",
    "    \"\"\"\n",
    "        dataset_dict: returned by load_data\n",
    "        featurizer: function that takes in (query, doc_content) pair and returns a featurization\n",
    "        \n",
    "        makes a dataset of (vector, relevance) pair where vector is made by the featurizer\n",
    "    \"\"\"\n",
    "    X, y = [], []\n",
    "    for query in query_iter(dataset_dict): \n",
    "        relevances = get_relevance_dict(dataset_dict, query)\n",
    "        for url in url_iter(dataset_dict, query):\n",
    "            embedding = featurizer(dataset_dict, query, url)\n",
    "            if repetitive:\n",
    "                for emb in embedding: # repetitive means its a list of embeddings, not just one\n",
    "                    X.append(emb)\n",
    "                    y.append(relevances[url])\n",
    "            else:\n",
    "                X.append(embedding)\n",
    "                y.append(relevances[url])\n",
    "    return np.array(X), np.array(y)"
   ]
  },
  {
   "cell_type": "code",
   "execution_count": 117,
   "metadata": {},
   "outputs": [],
   "source": [
    "def run_metrics_ml(dataset_dict, ml_model, featurizer, set_name='dev', exp_name='(None)'):\n",
    "    \"\"\"\n",
    "        dataset_dict: the dictionary returned by load_data\n",
    "        ml_model: a model that takes in X and outputs y predictions\n",
    "        featurizer: the featurizer function that feeds (query, document) \n",
    "            pairs to a format the ml_model can accept\n",
    "    \"\"\"\n",
    "    # TODO: shouldnt have to use the featurizer here, need to improve this API\n",
    "    ndcg_sum = 0.0\n",
    "    alt_ndcg_sum = 0.0\n",
    "    precision_sum = 0.0\n",
    "    n = 0\n",
    "    for query in query_iter(dataset_dict):\n",
    "        n += 1\n",
    "        query_relevance_dict = get_relevance_dict(dataset_dict, query)\n",
    "        \n",
    "        to_rank = [(url, featurizer(dataset_dict, query, url)) for url in url_iter(dataset_dict, query)]\n",
    "        vectors = [vector for _, vector in to_rank]\n",
    "        predictions = ml_model.predict(vectors)\n",
    "        scores = [(url, predictions[i]) for i, (url, _) in enumerate(to_rank)]\n",
    "        \n",
    "        scores = sorted(scores, key = lambda x: x[1], reverse=True)\n",
    "        ranked_doc_list, _ = zip(*scores)\n",
    "        ranked_doc_list = list(ranked_doc_list)\n",
    "\n",
    "        ndcg_sum += NDCG(ranked_doc_list, query_relevance_dict)\n",
    "        alt_ndcg_sum += NDCG(ranked_doc_list, query_relevance_dict, use_alt=True)\n",
    "        precision_sum += average_precision(ranked_doc_list, query_relevance_dict)\n",
    "        \n",
    "    ndcg_sum /= n\n",
    "    alt_ndcg_sum  /= n\n",
    "    precision_sum /= n\n",
    "    return {'NDCG': ndcg_sum,\n",
    "            'Alt_NDCG': alt_ndcg_sum,\n",
    "            'MAP': precision_sum,\n",
    "            'type': set_name,\n",
    "            'name': exp_name}"
   ]
  },
  {
   "cell_type": "code",
   "execution_count": 122,
   "metadata": {},
   "outputs": [],
   "source": [
    "training_dataset_title = make_regression_dataset(train_dict, glove_concat_featurizer_title)\n",
    "#training_dataset_header = make_regression_dataset(train_dict, glove_concat_featurizer_header)\n",
    "#training_dataset_body = make_regression_dataset(train_dict, glove_concat_featurizer_body)"
   ]
  },
  {
   "cell_type": "code",
   "execution_count": 80,
   "metadata": {},
   "outputs": [],
   "source": [
    "class LinearReg:\n",
    "    def __init__(self):\n",
    "        self.model = LinearRegression()\n",
    "        \n",
    "    def train(self, dataset):\n",
    "        X, y = dataset\n",
    "        self.model = self.model.fit(X, y)\n",
    "        return self.model.score(X, y)\n",
    "    \n",
    "    def predict(self, X):\n",
    "        return self.model.predict(X)     "
   ]
  },
  {
   "cell_type": "code",
   "execution_count": 125,
   "metadata": {},
   "outputs": [
    {
     "name": "stdout",
     "output_type": "stream",
     "text": [
      "Linear Regression with title GloVe embeddings\n"
     ]
    },
    {
     "data": {
      "text/plain": [
       "{'NDCG': 0.8542825508514621,\n",
       " 'Alt_NDCG': 0.7973529372338085,\n",
       " 'MAP': 0.7603503995684292,\n",
       " 'type': 'dev',\n",
       " 'name': '(None)'}"
      ]
     },
     "execution_count": 125,
     "metadata": {},
     "output_type": "execute_result"
    }
   ],
   "source": [
    "print(\"Linear Regression with title GloVe embeddings\")\n",
    "lin_reg = LinearReg()\n",
    "lin_reg.train(training_dataset_title)\n",
    "run_metrics_ml(dev_dict, lin_reg, glove_concat_featurizer_title)"
   ]
  },
  {
   "cell_type": "code",
   "execution_count": 142,
   "metadata": {},
   "outputs": [],
   "source": [
    "glove_both_featurizer_2_title_header = regression_featurizer_factory(make_glove_embedding, content_type='2th', combination_type='both')\n",
    "training_dataset_2_title_header_poly = make_regression_dataset(train_dict, glove_both_featurizer_2_title_header)"
   ]
  },
  {
   "cell_type": "code",
   "execution_count": 143,
   "metadata": {},
   "outputs": [
    {
     "name": "stdout",
     "output_type": "stream",
     "text": [
      "trained\n"
     ]
    },
    {
     "data": {
      "text/plain": [
       "{'NDCG': 0.8594486185683073,\n",
       " 'Alt_NDCG': 0.8044780768696508,\n",
       " 'MAP': 0.7660226025894227,\n",
       " 'type': 'dev',\n",
       " 'name': 'LinReg with GloVe poly embeddings'}"
      ]
     },
     "execution_count": 143,
     "metadata": {},
     "output_type": "execute_result"
    }
   ],
   "source": [
    "lin_reg = LinearReg()\n",
    "lin_reg.train(training_dataset_2_title_header_poly)\n",
    "print(\"trained\")\n",
    "run_metrics_ml(dev_dict, lin_reg, glove_both_featurizer_2_title_header, set_name='dev', \n",
    "               exp_name='LinReg with GloVe poly embeddings')"
   ]
  },
  {
   "cell_type": "code",
   "execution_count": 147,
   "metadata": {},
   "outputs": [
    {
     "name": "stdout",
     "output_type": "stream",
     "text": [
      "trained\n"
     ]
    },
    {
     "data": {
      "text/plain": [
       "{'NDCG': 0.8741622025809409,\n",
       " 'Alt_NDCG': 0.8255334815413925,\n",
       " 'MAP': 0.7800603010021213,\n",
       " 'type': 'dev',\n",
       " 'name': 'One layer NN with GloVe poly embeddings'}"
      ]
     },
     "execution_count": 147,
     "metadata": {},
     "output_type": "execute_result"
    }
   ],
   "source": [
    "nn_small = small_neural_net_factory()\n",
    "nn_small.train(training_dataset_2_title_header_poly)\n",
    "print(\"trained\")\n",
    "run_metrics_ml(dev_dict, nn_small, glove_both_featurizer_2_title_header, set_name='dev', \n",
    "               exp_name='One layer NN with GloVe poly embeddings')\n"
   ]
  },
  {
   "cell_type": "code",
   "execution_count": 146,
   "metadata": {},
   "outputs": [],
   "source": [
    "class NeuralNetReg:\n",
    "    def __init__(self, **kwargs):\n",
    "        self.model = MLPRegressor(**kwargs)\n",
    "        \n",
    "    def train(self, dataset):\n",
    "        X, y = dataset\n",
    "        self.model = self.model.fit(X, y)\n",
    "        return self.model.score(X, y)\n",
    "    \n",
    "    def predict(self, X):\n",
    "        return self.model.predict(X)     "
   ]
  },
  {
   "cell_type": "code",
   "execution_count": 40,
   "metadata": {},
   "outputs": [],
   "source": [
    "def neural_net_factory():\n",
    "    return NeuralNetReg(hidden_layer_sizes=(100,50), activation='relu', solver='adam')"
   ]
  },
  {
   "cell_type": "code",
   "execution_count": 144,
   "metadata": {},
   "outputs": [],
   "source": [
    "def small_neural_net_factory():\n",
    "    return NeuralNetReg(hidden_layer_sizes=(100), activation='relu', solver='adam')"
   ]
  },
  {
   "cell_type": "code",
   "execution_count": 96,
   "metadata": {},
   "outputs": [],
   "source": [
    "class Ensemble:\n",
    "    def __init__(self, model_factory, num_models, split=0.8):\n",
    "        self.num_models = num_models\n",
    "        self.split = split\n",
    "        self.models = [model_factory() for _ in range(num_models)]\n",
    "        \n",
    "    def train(self, dataset):\n",
    "        X, y = dataset\n",
    "        n = len(y)\n",
    "        for model_idx in range(self.num_models):\n",
    "            indices = sample_without_replacement(n, n*self.split)\n",
    "            self.models[model_idx].train((X[indices], y[indices]))\n",
    "    \n",
    "    def predict(self, X):\n",
    "        # linearly interpolate between all the models\n",
    "        predictions = np.zeros(len(X))\n",
    "        for model in self.models:\n",
    "            predictions += model.predict(X) / self.num_models\n",
    "        return predictions"
   ]
  },
  {
   "cell_type": "code",
   "execution_count": 138,
   "metadata": {},
   "outputs": [],
   "source": [
    "def softmax(arr):\n",
    "    arr = np.exp(arr)\n",
    "    return arr / np.sum(arr)\n",
    "\n",
    "class EnsembleWithEval:\n",
    "    def __init__(self, model_factory, num_models, split=0.8):\n",
    "        assert split < 1.0, split\n",
    "        self.num_models = num_models\n",
    "        self.split = split\n",
    "        self.models = [model_factory() for _ in range(num_models)]\n",
    "        self.evaluations = [None] * num_models\n",
    "        \n",
    "    def train(self, dataset):\n",
    "        X, y = dataset\n",
    "        n = len(y)\n",
    "        for model_idx in range(self.num_models):\n",
    "            indices = sample_without_replacement(n, n*self.split)\n",
    "            eval_indices = [i for i in range(n) if i not in set(indices)]\n",
    "            assert len(eval_indices) > 0\n",
    "            \n",
    "            self.models[model_idx].train((X[indices], y[indices]))\n",
    "            self.evaluate(model_idx, X[eval_indices], y[eval_indices])\n",
    "        \n",
    "        # normalize evaluations\n",
    "        self.evaluations = np.array(self.evaluations) / np.sum(self.evaluations)\n",
    "        \n",
    "    def predict(self, X):\n",
    "        # linearly interpolate between all the models based on their evaluations\n",
    "        predictions = np.zeros(len(X))\n",
    "        for model_idx, model in enumerate(self.models):\n",
    "            predictions += model.predict(X) * self.evaluations[model_idx]\n",
    "        return predictions\n",
    "    \n",
    "    def evaluate(self, model_idx, X, y):\n",
    "        self.evaluations[model_idx] = 1. / np.mean(np.square(self.models[model_idx].predict(X) - y))"
   ]
  },
  {
   "cell_type": "markdown",
   "metadata": {},
   "source": [
    "# Make VSM embedding"
   ]
  },
  {
   "cell_type": "code",
   "execution_count": 131,
   "metadata": {},
   "outputs": [],
   "source": [
    "def make_co_occurence(dataset_dict):\n",
    "    epsilon = 0.1\n",
    "    counts = defaultdict(lambda: defaultdict(int))\n",
    "    for query in query_iter(dataset_dict):\n",
    "        query_words = clean_words(get_query_words(dataset_dict, query))\n",
    "        relevance_dict = get_relevance_dict(dataset_dict, query)\n",
    "        for url in url_iter(dataset_dict, query):\n",
    "            title_words = 2 * clean_words(get_doc_words(dataset_dict, url, content_type='title')) # count the title words twice\n",
    "            header_words = clean_words(get_doc_words(dataset_dict, url, content_type='header'))\n",
    "            weight = epsilon + relevance_dict[url]\n",
    "            for q_word in query_words:\n",
    "                for d_word in title_words + header_words:\n",
    "                    counts[q_word][d_word] += weight\n",
    "    return counts\n",
    "\n",
    "def short_print(co_occurence_dict):\n",
    "    n, m = 10, 10\n",
    "    i = 0\n",
    "    for q_word in co_occurence_dict:\n",
    "        i += 1\n",
    "        if i > n:\n",
    "            break\n",
    "        print('\\n' + q_word + ':')\n",
    "\n",
    "        j = 0\n",
    "        for d_word in co_occurence_dict[q_word]:\n",
    "            print(d_word + ',' + str(co_occurence_dict[q_word][d_word]))\n",
    "            j += 1\n",
    "            if j > m:\n",
    "                break\n",
    "        print(len(co_occurence_dict[q_word]))\n",
    "    \n",
    "counts = pd.DataFrame(make_co_occurence(train_dict)).fillna(value=0)"
   ]
  },
  {
   "cell_type": "code",
   "execution_count": 132,
   "metadata": {},
   "outputs": [],
   "source": [
    "doc_vsm_title = counts\n",
    "query_vsm_title = counts.copy().transpose()"
   ]
  },
  {
   "cell_type": "code",
   "execution_count": 133,
   "metadata": {},
   "outputs": [],
   "source": [
    "def transform_vsm(df, k=100):\n",
    "    return lsa(pmi(df), k).transpose()  # TODO: fix this tranpose business"
   ]
  },
  {
   "cell_type": "code",
   "execution_count": 149,
   "metadata": {},
   "outputs": [],
   "source": [
    "def vsm_embedder_factory(query_df_counts, doc_df_counts, k=100):\n",
    "    query_vsm = transform_vsm(query_df_counts, k)\n",
    "    doc_vsm = transform_vsm(doc_df_counts, k)\n",
    "    \n",
    "    def make_vsm_embedding(words, combine_func=None, is_query=True):\n",
    "        for word in words:\n",
    "            assert isinstance(word, str), (type(word), word)\n",
    "\n",
    "        if is_query:\n",
    "            lookup = query_vsm\n",
    "        else:\n",
    "            lookup = doc_vsm\n",
    "\n",
    "        #for DESM, each vector should be normalized\n",
    "\n",
    "        all_vecs = np.array([normalize(lookup[w]) for w in words if w in lookup]) \n",
    "\n",
    "        if len(all_vecs) == 0:\n",
    "            feats = np.zeros(lookup.values.shape[0])    \n",
    "        else:\n",
    "\n",
    "            if combine_func:\n",
    "                feats = combine_func(all_vecs)\n",
    "            else: # take the elementwise mean by default\n",
    "                feats = np.mean(all_vecs, axis=0)\n",
    "        return feats\n",
    "    \n",
    "    return make_vsm_embedding\n",
    "\n",
    "\n",
    "make_vsm_embedding_title_100 = vsm_embedder_factory(query_vsm_title, doc_vsm_title, k=100)\n",
    "make_vsm_embedding_title_200 = vsm_embedder_factory(query_vsm_title, doc_vsm_title, k=200)"
   ]
  },
  {
   "cell_type": "code",
   "execution_count": 135,
   "metadata": {},
   "outputs": [
    {
     "data": {
      "text/plain": [
       "{'NDCG': 0.8507632511523792,\n",
       " 'Alt_NDCG': 0.794216545803379,\n",
       " 'MAP': 0.756990611208641,\n",
       " 'type': 'dev',\n",
       " 'name': 'Standard VSM embeddings length 100'}"
      ]
     },
     "execution_count": 135,
     "metadata": {},
     "output_type": "execute_result"
    }
   ],
   "source": [
    "run_metrics(dev_dict, scoring_func=cosine_similarity, content_type='2th', \n",
    "            embedding_func=make_vsm_embedding_title_100, set_name='dev', exp_name='Standard VSM embeddings length 100')"
   ]
  },
  {
   "cell_type": "code",
   "execution_count": 136,
   "metadata": {},
   "outputs": [
    {
     "data": {
      "text/plain": [
       "{'NDCG': 0.8522612530018778,\n",
       " 'Alt_NDCG': 0.7974018981664599,\n",
       " 'MAP': 0.7629867282934678,\n",
       " 'type': 'dev',\n",
       " 'name': 'Standard VSM embeddings length 200'}"
      ]
     },
     "execution_count": 136,
     "metadata": {},
     "output_type": "execute_result"
    }
   ],
   "source": [
    "run_metrics(dev_dict, scoring_func=cosine_similarity, content_type='2th', \n",
    "            embedding_func=make_vsm_embedding_title_200, set_name='dev', exp_name='Standard VSM embeddings length 200')"
   ]
  },
  {
   "cell_type": "code",
   "execution_count": 137,
   "metadata": {},
   "outputs": [],
   "source": [
    "vsm_concat_featurizer = regression_featurizer_factory(make_vsm_embedding, content_type='2th', \n",
    "                                                      combination_type='concat')\n",
    "vsm_mult_featurizer =  regression_featurizer_factory(make_vsm_embedding, content_type='2th', \n",
    "                                                      combination_type='mult')\n",
    "vsm_poly_featurizer =  regression_featurizer_factory(make_vsm_embedding, content_type='2th', \n",
    "                                                      combination_type='both')\n",
    "\n",
    "glove_concat_featurizer = regression_featurizer_factory(make_glove_embedding, content_type='2th', \n",
    "                                                      combination_type='concat')\n",
    "glove_mult_featurizer = regression_featurizer_factory(make_glove_embedding, content_type='2th', \n",
    "                                                      combination_type='mult')\n",
    "glove_both_featurizer = regression_featurizer_factory(make_glove_embedding, content_type='2th', \n",
    "                                                      combination_type='both')"
   ]
  },
  {
   "cell_type": "markdown",
   "metadata": {},
   "source": [
    "## Some analysis to see how many dims we should take from the VSM embeddings"
   ]
  },
  {
   "cell_type": "code",
   "execution_count": 29,
   "metadata": {},
   "outputs": [],
   "source": [
    "def svd_plot(df, c=10):\n",
    "    rowmat, singvals, colmat = np.linalg.svd(df, full_matrices=False)\n",
    "    plt.plot(range(len(singvals)), singvals)\n",
    "    plt.title(\"Singular values\")\n",
    "    plt.ylabel(\"Singular value\")\n",
    "    plt.xlabel(\"Index\")\n",
    "    \n",
    "    #print the number of eigenvalues to take before the sum is c times the rest\n",
    "    k = 0\n",
    "    while sum(singvals[:k]) < c*sum(singvals[k:]):\n",
    "        k += 1\n",
    "    print(\"Use {} dimensions\".format(k))\n",
    "    \n",
    "    return rowmat, singvals, colmat\n"
   ]
  },
  {
   "cell_type": "code",
   "execution_count": 30,
   "metadata": {},
   "outputs": [
    {
     "name": "stdout",
     "output_type": "stream",
     "text": [
      "Use 168 dimensions\n"
     ]
    },
    {
     "data": {
      "image/png": "[encoded data removed]",
      "text/plain": [
       "<Figure size 432x288 with 1 Axes>"
      ]
     },
     "metadata": {
      "needs_background": "light"
     },
     "output_type": "display_data"
    }
   ],
   "source": [
    "U, S, Vt = svd_plot(pmi(doc_vsm), c=1)"
   ]
  },
  {
   "cell_type": "code",
   "execution_count": null,
   "metadata": {},
   "outputs": [],
   "source": [
    "def lsa_tune(df_1, df_2, k_list):\n",
    "    \"\"\"Latent Semantic Analysis using pure scipy.\n",
    "\n",
    "    Parameters\n",
    "    ----------\n",
    "    df : pd.DataFrame\n",
    "       The matrix to operate on.\n",
    "    k : int (default: 100)\n",
    "        Number of dimensions to truncate to.\n",
    "\n",
    "    Returns\n",
    "    -------\n",
    "    pd.DataFrame\n",
    "        The SVD-reduced version of `df` with dimension (m x k), where\n",
    "        m is the rowcount of mat and `k` is either the user-supplied\n",
    "        k or the column count of `mat`, whichever is smaller.\n",
    "\n",
    "    \"\"\"\n",
    "    rowmat_1, singvals_1, colmat_1 = np.linalg.svd(df_1, full_matrices=False)\n",
    "    rowmat_2, singvals_2, colmat_2 = np.linalg.svd(df_2, full_matrices=False)\n",
    "\n",
    "    singvals_1 = np.diag(singvals_1)\n",
    "    singvals_2 = np.diag(singvals_2)\n",
    "    for k in k_list:\n",
    "        trunc_1 = np.dot(rowmat_1[:, 0:k], singvals_1[0:k, 0:k])\n",
    "        trunc_2 = np.dot(rowmat_2[:, 0:k], singvals_2[0:k, 0:k])\n",
    "\n",
    "        yield (pd.DataFrame(trunc_1, index=df_1.index), pd.DataFrame(trunc_2, index=df_2.index))"
   ]
  },
  {
   "cell_type": "code",
   "execution_count": 131,
   "metadata": {
    "scrolled": true
   },
   "outputs": [
    {
     "name": "stdout",
     "output_type": "stream",
     "text": [
      "k = 50\n",
      "{'NDCG': 0.8417815658077111, 'Alt_NDCG': 0.7819818026851135, 'MAP': 0.7474935233950208, 'type': 'dev', 'name': '(None)'}\n",
      "k = 100\n",
      "{'NDCG': 0.8507632511523792, 'Alt_NDCG': 0.794216545803379, 'MAP': 0.756990611208641, 'type': 'dev', 'name': '(None)'}\n",
      "k = 150\n",
      "{'NDCG': 0.8542710777266654, 'Alt_NDCG': 0.7997838787450877, 'MAP': 0.7632202365713312, 'type': 'dev', 'name': '(None)'}\n",
      "k = 200\n",
      "{'NDCG': 0.8522612530018778, 'Alt_NDCG': 0.7974018981664599, 'MAP': 0.7629867282934678, 'type': 'dev', 'name': '(None)'}\n",
      "k = 250\n",
      "{'NDCG': 0.8570996484467451, 'Alt_NDCG': 0.8041851534054328, 'MAP': 0.7664812452758882, 'type': 'dev', 'name': '(None)'}\n",
      "k = 300\n",
      "{'NDCG': 0.8570419234548257, 'Alt_NDCG': 0.804873609491111, 'MAP': 0.7641292014117477, 'type': 'dev', 'name': '(None)'}\n"
     ]
    }
   ],
   "source": [
    "k_list = [50, 100, 150, 200, 250, 300]\n",
    "i = 0\n",
    "for q_vsm, d_vsm in lsa_tune(pmi(query_vsm), pmi(doc_vsm), k_list):\n",
    "    k = k_list[i]\n",
    "    i += 1\n",
    "    q_vsm = q_vsm.transpose()\n",
    "    d_vsm = d_vsm.transpose()\n",
    "    \n",
    "    def tune_vsm_embedding(words, combine_func=None, is_query=True):\n",
    "        for word in words:\n",
    "            assert isinstance(word, str), (type(word), word)\n",
    "\n",
    "        if is_query:\n",
    "            lookup = q_vsm\n",
    "        else:\n",
    "            lookup = d_vsm\n",
    "\n",
    "        #for DESM, each vector should be normalized\n",
    "\n",
    "        all_vecs = np.array([normalize(lookup[w]) for w in words if w in lookup]) \n",
    "\n",
    "        if len(all_vecs) == 0:\n",
    "            feats = np.zeros(lookup.values.shape[0])    \n",
    "        else:\n",
    "\n",
    "            if combine_func:\n",
    "                feats = combine_func(all_vecs)\n",
    "            else: # take the elementwise mean by default\n",
    "                feats = np.mean(all_vecs, axis=0)\n",
    "        return feats\n",
    "\n",
    "    print(\"k =\", k)\n",
    "    print(run_metrics(dev_dict, scoring_func=cosine_similarity, content_type='2th', embedding_func=tune_vsm_embedding))"
   ]
  },
  {
   "cell_type": "markdown",
   "metadata": {},
   "source": [
    "## Try embedding query words the same, but document words based on co-occurence within all body text (within window)"
   ]
  },
  {
   "cell_type": "code",
   "execution_count": 54,
   "metadata": {},
   "outputs": [
    {
     "name": "stderr",
     "output_type": "stream",
     "text": [
      "749it [00:09, 76.19it/s] \n",
      "749it [00:50, 14.79it/s]\n"
     ]
    }
   ],
   "source": [
    "from tqdm import tqdm\n",
    "\n",
    "def most_popular(dataset_dict, top=5000):\n",
    "    counts = {}\n",
    "    for query in tqdm(query_iter(dataset_dict)):\n",
    "        for url in url_iter(dataset_dict, query):\n",
    "            body_words = clean_words(get_doc_words(dataset_dict, url, content_type='body'))\n",
    "            for word in body_words:\n",
    "                counts[word] = counts.get(word, 0) + 1\n",
    "    most_popular = sorted([(v, k) for k, v in counts.items()], reverse=True)[:top]\n",
    "    return set([k for v, k in most_popular])\n",
    "\n",
    "def make_window_co_occurence(dataset_dict, k=5):\n",
    "    counts = {}\n",
    "    to_keep = most_popular(dataset_dict) # dont' count words outside of the top 5k\n",
    "    for query in tqdm(query_iter(dataset_dict)):\n",
    "        for url in url_iter(dataset_dict, query):\n",
    "            body_words = [w for w in clean_words(get_doc_words(dataset_dict, url, content_type='body')) if w in to_keep]\n",
    "            for i, first_word in enumerate(body_words):\n",
    "                if first_word not in counts:\n",
    "                    counts[first_word] = {}\n",
    "                for j in range(max(0, i-k), min(i+k+1, len(body_words))):\n",
    "                    second_word = body_words[j]\n",
    "                    if second_word not in counts[first_word]:\n",
    "                        counts[first_word][second_word] = 0\n",
    "                    counts[first_word][second_word] += 1\n",
    "    return counts\n",
    "\n",
    "doc_counts_body  = make_window_co_occurence(train_dict)"
   ]
  },
  {
   "cell_type": "code",
   "execution_count": 55,
   "metadata": {},
   "outputs": [],
   "source": [
    "doc_counts = pd.DataFrame(doc_counts).fillna(value=0)"
   ]
  },
  {
   "cell_type": "code",
   "execution_count": 57,
   "metadata": {},
   "outputs": [
    {
     "name": "stdout",
     "output_type": "stream",
     "text": [
      "Use 1162 dimensions\n"
     ]
    },
    {
     "data": {
      "image/png": "[encoded data removed]",
      "text/plain": [
       "<Figure size 432x288 with 1 Axes>"
      ]
     },
     "metadata": {
      "needs_background": "light"
     },
     "output_type": "display_data"
    }
   ],
   "source": [
    "_ = svd_plot(pmi(doc_counts), c=1)"
   ]
  },
  {
   "cell_type": "code",
   "execution_count": 71,
   "metadata": {},
   "outputs": [],
   "source": [
    "doc_body_vsm = doc_counts"
   ]
  },
  {
   "cell_type": "code",
   "execution_count": 72,
   "metadata": {
    "scrolled": true
   },
   "outputs": [
    {
     "data": {
      "text/plain": [
       "{'NDCG': 0.8126775220097986,\n",
       " 'Alt_NDCG': 0.7375369838446545,\n",
       " 'MAP': 0.7374502139565505,\n",
       " 'type': 'dev',\n",
       " 'name': 'Embed doc words based on body text'}"
      ]
     },
     "execution_count": 72,
     "metadata": {},
     "output_type": "execute_result"
    }
   ],
   "source": [
    "make_vsm_embedding = vsm_embedder_factory(query_vsm, doc_body_vsm, k=200)\n",
    "run_metrics(dev_dict, scoring_func=cosine_similarity, content_type='2th', \n",
    "            embedding_func=make_vsm_embedding, set_name='dev', exp_name='Embed doc words based on body text')"
   ]
  },
  {
   "cell_type": "code",
   "execution_count": 93,
   "metadata": {},
   "outputs": [],
   "source": [
    "training_dataset_vsm_poly = make_regression_dataset(train_dict, vsm_poly_featurizer)"
   ]
  },
  {
   "cell_type": "code",
   "execution_count": 103,
   "metadata": {
    "scrolled": true
   },
   "outputs": [
    {
     "name": "stdout",
     "output_type": "stream",
     "text": [
      "trained\n"
     ]
    },
    {
     "data": {
      "text/plain": [
       "{'NDCG': 0.8507433299627585,\n",
       " 'Alt_NDCG': 0.789507893885919,\n",
       " 'MAP': 0.7685820197254529,\n",
       " 'type': 'dev',\n",
       " 'name': 'LinReg with VSM poly embeddings from body content'}"
      ]
     },
     "execution_count": 103,
     "metadata": {},
     "output_type": "execute_result"
    }
   ],
   "source": [
    "lin_reg = LinearReg()\n",
    "lin_reg.train(training_dataset_vsm_poly)\n",
    "print(\"trained\")\n",
    "run_metrics_ml(dev_dict, lin_reg, vsm_poly_featurizer, set_name='dev', \n",
    "               exp_name='LinReg with VSM poly embeddings from body content')"
   ]
  },
  {
   "cell_type": "code",
   "execution_count": 139,
   "metadata": {},
   "outputs": [
    {
     "name": "stdout",
     "output_type": "stream",
     "text": [
      "trained\n"
     ]
    },
    {
     "data": {
      "text/plain": [
       "{'NDCG': 0.8488608286064229,\n",
       " 'Alt_NDCG': 0.7888354777904943,\n",
       " 'MAP': 0.7644821306658864,\n",
       " 'type': 'dev',\n",
       " 'name': 'LinReg Ensemble with VSM poly embeddings from body content'}"
      ]
     },
     "execution_count": 139,
     "metadata": {},
     "output_type": "execute_result"
    }
   ],
   "source": [
    "lin_reg_ensemble = Ensemble(LinearReg, 5)\n",
    "lin_reg_ensemble.train(training_dataset_vsm_poly)\n",
    "print(\"trained\")\n",
    "run_metrics_ml(dev_dict, lin_reg_ensemble, vsm_poly_featurizer, set_name='dev', \n",
    "               exp_name='LinReg Ensemble with VSM poly embeddings from body content')"
   ]
  },
  {
   "cell_type": "code",
   "execution_count": 140,
   "metadata": {},
   "outputs": [
    {
     "name": "stdout",
     "output_type": "stream",
     "text": [
      "trained\n"
     ]
    },
    {
     "data": {
      "text/plain": [
       "{'NDCG': 0.8480981293411232,\n",
       " 'Alt_NDCG': 0.7853457454250327,\n",
       " 'MAP': 0.7649933100480334,\n",
       " 'type': 'dev',\n",
       " 'name': 'LinReg EnsembleWithEval with VSM poly embeddings from body content'}"
      ]
     },
     "execution_count": 140,
     "metadata": {},
     "output_type": "execute_result"
    }
   ],
   "source": [
    "lin_reg_ensemble = EnsembleWithEval(LinearReg, 5)\n",
    "lin_reg_ensemble.train(training_dataset_vsm_poly)\n",
    "print(\"trained\")\n",
    "run_metrics_ml(dev_dict, lin_reg_ensemble, vsm_poly_featurizer, set_name='dev', \n",
    "               exp_name='LinReg EnsembleWithEval with VSM poly embeddings from body content')"
   ]
  },
  {
   "cell_type": "code",
   "execution_count": null,
   "metadata": {},
   "outputs": [],
   "source": [
    "run_metrics(dev_dict, scoring_func=cosine_similarity, content_type='2th', \n",
    "            embedding_func=make_vsm_embedding, set_name='dev', exp_name='Embed doc words based on body text')"
   ]
  },
  {
   "cell_type": "markdown",
   "metadata": {},
   "source": [
    "# Try both Glove and VSM embeddings combined"
   ]
  },
  {
   "cell_type": "code",
   "execution_count": 153,
   "metadata": {},
   "outputs": [],
   "source": [
    "def make_glove_and_vsm_embedding(words, combine_func=None, is_query=True):\n",
    "    vsm = make_vsm_embedding_title_100(words, combine_func=combine_func, is_query=is_query)\n",
    "    glove = make_glove_embedding(words, combine_func=combine_func, is_query=is_query)\n",
    "    return np.concatenate([vsm, glove])"
   ]
  },
  {
   "cell_type": "code",
   "execution_count": 154,
   "metadata": {},
   "outputs": [
    {
     "data": {
      "text/plain": [
       "{'NDCG': 0.8688145224429039,\n",
       " 'Alt_NDCG': 0.820474393827041,\n",
       " 'MAP': 0.7755825744276209,\n",
       " 'type': 'dev',\n",
       " 'name': 'Use both VSM and GloVe embeddings'}"
      ]
     },
     "execution_count": 154,
     "metadata": {},
     "output_type": "execute_result"
    }
   ],
   "source": [
    "run_metrics(dev_dict, scoring_func=cosine_similarity, content_type='2th', \n",
    "            embedding_func=make_glove_and_vsm_embedding, set_name='dev', exp_name='Use both VSM and GloVe embeddings')"
   ]
  },
  {
   "cell_type": "code",
   "execution_count": 155,
   "metadata": {},
   "outputs": [],
   "source": [
    "glove_and_vsm_poly_featurizer =  regression_featurizer_factory(make_glove_and_vsm_embedding, content_type='2th', \n",
    "                                                        combination_type='both')\n",
    "training_dataset_glove_vsm_poly = make_regression_dataset(train_dict, glove_and_vsm_poly_featurizer)"
   ]
  },
  {
   "cell_type": "code",
   "execution_count": 156,
   "metadata": {},
   "outputs": [
    {
     "name": "stdout",
     "output_type": "stream",
     "text": [
      "trained\n"
     ]
    },
    {
     "data": {
      "text/plain": [
       "{'NDCG': 0.8689434817447704,\n",
       " 'Alt_NDCG': 0.8153732301184206,\n",
       " 'MAP': 0.7852327920415476,\n",
       " 'type': 'dev',\n",
       " 'name': 'LinReg with both GloVe and VSM poly embeddings from body content'}"
      ]
     },
     "execution_count": 156,
     "metadata": {},
     "output_type": "execute_result"
    }
   ],
   "source": [
    "lin_reg = LinearReg()\n",
    "lin_reg.train(training_dataset_glove_vsm_poly)\n",
    "print(\"trained\")\n",
    "run_metrics_ml(dev_dict, lin_reg, glove_and_vsm_poly_featurizer, set_name='dev', \n",
    "               exp_name='LinReg with both GloVe and VSM poly embeddings from body content')"
   ]
  },
  {
   "cell_type": "markdown",
   "metadata": {},
   "source": [
    "## Try training small nn ensembles for Glove, VSM, and Glove + VSM"
   ]
  },
  {
   "cell_type": "code",
   "execution_count": 161,
   "metadata": {},
   "outputs": [
    {
     "name": "stderr",
     "output_type": "stream",
     "text": [
      "/Users/ssesha/anaconda3/envs/nlu/lib/python3.7/site-packages/sklearn/neural_network/multilayer_perceptron.py:562: ConvergenceWarning: Stochastic Optimizer: Maximum iterations (200) reached and the optimization hasn't converged yet.\n",
      "  % self.max_iter, ConvergenceWarning)\n",
      "/Users/ssesha/anaconda3/envs/nlu/lib/python3.7/site-packages/sklearn/neural_network/multilayer_perceptron.py:562: ConvergenceWarning: Stochastic Optimizer: Maximum iterations (200) reached and the optimization hasn't converged yet.\n",
      "  % self.max_iter, ConvergenceWarning)\n",
      "/Users/ssesha/anaconda3/envs/nlu/lib/python3.7/site-packages/sklearn/neural_network/multilayer_perceptron.py:562: ConvergenceWarning: Stochastic Optimizer: Maximum iterations (200) reached and the optimization hasn't converged yet.\n",
      "  % self.max_iter, ConvergenceWarning)\n",
      "/Users/ssesha/anaconda3/envs/nlu/lib/python3.7/site-packages/sklearn/neural_network/multilayer_perceptron.py:562: ConvergenceWarning: Stochastic Optimizer: Maximum iterations (200) reached and the optimization hasn't converged yet.\n",
      "  % self.max_iter, ConvergenceWarning)\n"
     ]
    },
    {
     "name": "stdout",
     "output_type": "stream",
     "text": [
      "trained\n"
     ]
    },
    {
     "data": {
      "text/plain": [
       "{'NDCG': 0.8820045023014039,\n",
       " 'Alt_NDCG': 0.8364967144521347,\n",
       " 'MAP': 0.7937512572233191,\n",
       " 'type': 'dev',\n",
       " 'name': 'One layer NN with GloVe poly embeddings from 2th content'}"
      ]
     },
     "execution_count": 161,
     "metadata": {},
     "output_type": "execute_result"
    }
   ],
   "source": [
    "glove_poly_featurizer =  regression_featurizer_factory(make_glove_embedding, content_type='2th', \n",
    "                                                               combination_type='both')\n",
    "training_dataset_glove_poly = make_regression_dataset(train_dict, glove_poly_featurizer)\n",
    "nn_small_ensemble = EnsembleWithEval(small_neural_net_factory, 5)\n",
    "nn_small_ensemble.train(training_dataset_glove_poly)\n",
    "print(\"trained\")\n",
    "run_metrics_ml(dev_dict, nn_small_ensemble, glove_poly_featurizer, set_name='dev', \n",
    "               exp_name='One layer NN with GloVe poly embeddings from 2th content')"
   ]
  },
  {
   "cell_type": "code",
   "execution_count": 162,
   "metadata": {},
   "outputs": [
    {
     "name": "stderr",
     "output_type": "stream",
     "text": [
      "/Users/ssesha/anaconda3/envs/nlu/lib/python3.7/site-packages/sklearn/neural_network/multilayer_perceptron.py:562: ConvergenceWarning: Stochastic Optimizer: Maximum iterations (200) reached and the optimization hasn't converged yet.\n",
      "  % self.max_iter, ConvergenceWarning)\n",
      "/Users/ssesha/anaconda3/envs/nlu/lib/python3.7/site-packages/sklearn/neural_network/multilayer_perceptron.py:562: ConvergenceWarning: Stochastic Optimizer: Maximum iterations (200) reached and the optimization hasn't converged yet.\n",
      "  % self.max_iter, ConvergenceWarning)\n",
      "/Users/ssesha/anaconda3/envs/nlu/lib/python3.7/site-packages/sklearn/neural_network/multilayer_perceptron.py:562: ConvergenceWarning: Stochastic Optimizer: Maximum iterations (200) reached and the optimization hasn't converged yet.\n",
      "  % self.max_iter, ConvergenceWarning)\n",
      "/Users/ssesha/anaconda3/envs/nlu/lib/python3.7/site-packages/sklearn/neural_network/multilayer_perceptron.py:562: ConvergenceWarning: Stochastic Optimizer: Maximum iterations (200) reached and the optimization hasn't converged yet.\n",
      "  % self.max_iter, ConvergenceWarning)\n",
      "/Users/ssesha/anaconda3/envs/nlu/lib/python3.7/site-packages/sklearn/neural_network/multilayer_perceptron.py:562: ConvergenceWarning: Stochastic Optimizer: Maximum iterations (200) reached and the optimization hasn't converged yet.\n",
      "  % self.max_iter, ConvergenceWarning)\n"
     ]
    },
    {
     "name": "stdout",
     "output_type": "stream",
     "text": [
      "trained\n"
     ]
    },
    {
     "data": {
      "text/plain": [
       "{'NDCG': 0.8777398450206124,\n",
       " 'Alt_NDCG': 0.8285844785796038,\n",
       " 'MAP': 0.7845577621729694,\n",
       " 'type': 'dev',\n",
       " 'name': 'One layer NN with VSM poly embeddings from 2th content'}"
      ]
     },
     "execution_count": 162,
     "metadata": {},
     "output_type": "execute_result"
    }
   ],
   "source": [
    "vsm_poly_featurizer =  regression_featurizer_factory(make_vsm_embedding, content_type='2th', \n",
    "                                                               combination_type='both')\n",
    "training_dataset_vsm_poly = make_regression_dataset(train_dict, vsm_poly_featurizer)\n",
    "nn_small_ensemble = EnsembleWithEval(small_neural_net_factory, 5)\n",
    "nn_small_ensemble.train(training_dataset_vsm_poly)\n",
    "print(\"trained\")\n",
    "run_metrics_ml(dev_dict, nn_small_ensemble, vsm_poly_featurizer, set_name='dev', \n",
    "               exp_name='One layer NN with VSM poly embeddings from 2th content')"
   ]
  },
  {
   "cell_type": "code",
   "execution_count": 163,
   "metadata": {},
   "outputs": [
    {
     "name": "stderr",
     "output_type": "stream",
     "text": [
      "/Users/ssesha/anaconda3/envs/nlu/lib/python3.7/site-packages/sklearn/neural_network/multilayer_perceptron.py:562: ConvergenceWarning: Stochastic Optimizer: Maximum iterations (200) reached and the optimization hasn't converged yet.\n",
      "  % self.max_iter, ConvergenceWarning)\n"
     ]
    },
    {
     "name": "stdout",
     "output_type": "stream",
     "text": [
      "trained\n"
     ]
    },
    {
     "data": {
      "text/plain": [
       "{'NDCG': 0.8906058267364788,\n",
       " 'Alt_NDCG': 0.8483501811247214,\n",
       " 'MAP': 0.7991966723965575,\n",
       " 'type': 'dev',\n",
       " 'name': 'One layer NN with both GloVe and VSM poly embeddings from 2th content'}"
      ]
     },
     "execution_count": 163,
     "metadata": {},
     "output_type": "execute_result"
    }
   ],
   "source": [
    "glove_and_vsm_poly_featurizer =  regression_featurizer_factory(make_glove_and_vsm_embedding, content_type='2th', \n",
    "                                                               combination_type='both')\n",
    "training_dataset_glove_vsm_poly = make_regression_dataset(train_dict, glove_and_vsm_poly_featurizer)\n",
    "nn_small_ensemble = EnsembleWithEval(small_neural_net_factory, 5)\n",
    "nn_small_ensemble.train(training_dataset_glove_vsm_poly)\n",
    "print(\"trained\")\n",
    "run_metrics_ml(dev_dict, nn_small_ensemble, glove_and_vsm_poly_featurizer, set_name='dev', \n",
    "               exp_name='One layer NN with both GloVe and VSM poly embeddings from 2th content')"
   ]
  },
  {
   "cell_type": "code",
   "execution_count": null,
   "metadata": {},
   "outputs": [],
   "source": []
  },
  {
   "cell_type": "markdown",
   "metadata": {},
   "source": [
    "# Experimental Results (Metrics)"
   ]
  },
  {
   "cell_type": "code",
   "execution_count": 197,
   "metadata": {},
   "outputs": [],
   "source": [
    "all_metrics = []"
   ]
  },
  {
   "cell_type": "code",
   "execution_count": 198,
   "metadata": {},
   "outputs": [],
   "source": [
    "# Random\n",
    "n = 10\n",
    "sum_metric = {}\n",
    "for _ in range(n):\n",
    "    for m, v in run_metrics(train_dict, scoring_func=random_similarity, \n",
    "                            set_name='train', exp_name='Random scoring').items():\n",
    "        if type(v) != str:\n",
    "            sum_metric[m] = sum_metric.get(m, 0) + v / n\n",
    "sum_metric['name'] = 'Random scoring'\n",
    "sum_metric['type'] = 'train'\n",
    "all_metrics.append(sum_metric)\n",
    "\n",
    "sum_metric = {}\n",
    "for _ in range(n):\n",
    "    for m, v in run_metrics(dev_dict, scoring_func=random_similarity, \n",
    "                            set_name='dev', exp_name='Random scoring').items():\n",
    "        if type(v) != str:\n",
    "            sum_metric[m] = sum_metric.get(m, 0) + v / n\n",
    "sum_metric['name'] = 'Random scoring'\n",
    "sum_metric['type'] = 'dev'\n",
    "all_metrics.append(sum_metric)\n"
   ]
  },
  {
   "cell_type": "code",
   "execution_count": 199,
   "metadata": {},
   "outputs": [],
   "source": [
    "metric = run_metrics(train_dict, scoring_func=cosine_similarity, \n",
    "                     content_type='2th', set_name='train', exp_name='Cosine similarity with GloVE embeddings')\n",
    "all_metrics.append(metric)"
   ]
  },
  {
   "cell_type": "code",
   "execution_count": 200,
   "metadata": {},
   "outputs": [],
   "source": [
    "metric = run_metrics(dev_dict, scoring_func=cosine_similarity, \n",
    "                     content_type='2th', set_name='dev', exp_name='Cosine similarity with GloVE embeddings')\n",
    "all_metrics.append(metric)"
   ]
  },
  {
   "cell_type": "code",
   "execution_count": 201,
   "metadata": {},
   "outputs": [],
   "source": [
    "metric = run_metrics(train_dict, scoring_func=cosine_similarity, \n",
    "                     embedding_func=make_vsm_embedding, set_name='train', exp_name='Cosine similarity with VSM embeddings')\n",
    "all_metrics.append(metric)"
   ]
  },
  {
   "cell_type": "code",
   "execution_count": 202,
   "metadata": {},
   "outputs": [],
   "source": [
    "metric = run_metrics(dev_dict, scoring_func=cosine_similarity, \n",
    "                     embedding_func=make_vsm_embedding, set_name='dev', exp_name='Cosine similarity with VSM embeddings')\n",
    "all_metrics.append(metric)"
   ]
  },
  {
   "cell_type": "code",
   "execution_count": 203,
   "metadata": {},
   "outputs": [],
   "source": [
    "metric = run_metrics(train_dict, scoring_func=cosine_similarity, \n",
    "                     embedding_func=make_glove_and_vsm_embedding, set_name='train', \n",
    "                     exp_name='Cosine similarity with Glove + VSM embeddings')\n",
    "all_metrics.append(metric)"
   ]
  },
  {
   "cell_type": "code",
   "execution_count": 204,
   "metadata": {},
   "outputs": [],
   "source": [
    "metric = run_metrics(dev_dict, scoring_func=cosine_similarity, \n",
    "                     embedding_func=make_glove_and_vsm_embedding, set_name='dev', \n",
    "                     exp_name='Cosine similarity with Glove + VSM embeddings')\n",
    "all_metrics.append(metric)"
   ]
  },
  {
   "cell_type": "markdown",
   "metadata": {},
   "source": [
    "\n",
    "## Small NN ensemble with concat embeddings"
   ]
  },
  {
   "cell_type": "code",
   "execution_count": 205,
   "metadata": {},
   "outputs": [],
   "source": [
    "glove_concat_featurizer =  regression_featurizer_factory(make_glove_embedding, content_type='2th', \n",
    "                                                               combination_type='concat')\n",
    "vsm_concat_featurizer =  regression_featurizer_factory(make_vsm_embedding, content_type='2th', \n",
    "                                                               combination_type='concat')\n",
    "vsm_glove_concat_featurizer =  regression_featurizer_factory(make_glove_and_vsm_embedding, content_type='2th', \n",
    "                                                               combination_type='concat')"
   ]
  },
  {
   "cell_type": "code",
   "execution_count": 206,
   "metadata": {},
   "outputs": [
    {
     "name": "stderr",
     "output_type": "stream",
     "text": [
      "/Users/ssesha/anaconda3/envs/nlu/lib/python3.7/site-packages/sklearn/neural_network/multilayer_perceptron.py:562: ConvergenceWarning: Stochastic Optimizer: Maximum iterations (200) reached and the optimization hasn't converged yet.\n",
      "  % self.max_iter, ConvergenceWarning)\n",
      "/Users/ssesha/anaconda3/envs/nlu/lib/python3.7/site-packages/sklearn/neural_network/multilayer_perceptron.py:562: ConvergenceWarning: Stochastic Optimizer: Maximum iterations (200) reached and the optimization hasn't converged yet.\n",
      "  % self.max_iter, ConvergenceWarning)\n",
      "/Users/ssesha/anaconda3/envs/nlu/lib/python3.7/site-packages/sklearn/neural_network/multilayer_perceptron.py:562: ConvergenceWarning: Stochastic Optimizer: Maximum iterations (200) reached and the optimization hasn't converged yet.\n",
      "  % self.max_iter, ConvergenceWarning)\n",
      "/Users/ssesha/anaconda3/envs/nlu/lib/python3.7/site-packages/sklearn/neural_network/multilayer_perceptron.py:562: ConvergenceWarning: Stochastic Optimizer: Maximum iterations (200) reached and the optimization hasn't converged yet.\n",
      "  % self.max_iter, ConvergenceWarning)\n",
      "/Users/ssesha/anaconda3/envs/nlu/lib/python3.7/site-packages/sklearn/neural_network/multilayer_perceptron.py:562: ConvergenceWarning: Stochastic Optimizer: Maximum iterations (200) reached and the optimization hasn't converged yet.\n",
      "  % self.max_iter, ConvergenceWarning)\n"
     ]
    }
   ],
   "source": [
    "training_dataset = make_regression_dataset(train_dict, glove_concat_featurizer)\n",
    "nn_small_ensemble = EnsembleWithEval(small_neural_net_factory, 5)\n",
    "nn_small_ensemble.train(training_dataset)\n",
    "\n",
    "metric = run_metrics_ml(train_dict, nn_small_ensemble, glove_concat_featurizer, \n",
    "                        set_name='train', exp_name='Small NN ensemble on concatenated GloVe embeddings')\n",
    "all_metrics.append(metric)\n",
    "\n",
    "metric = run_metrics_ml(dev_dict, nn_small_ensemble, glove_concat_featurizer,\n",
    "                        set_name='dev', exp_name='Small NN ensemble on concatenated GloVe embeddings')\n",
    "all_metrics.append(metric)\n"
   ]
  },
  {
   "cell_type": "code",
   "execution_count": 207,
   "metadata": {},
   "outputs": [
    {
     "name": "stderr",
     "output_type": "stream",
     "text": [
      "/Users/ssesha/anaconda3/envs/nlu/lib/python3.7/site-packages/sklearn/neural_network/multilayer_perceptron.py:562: ConvergenceWarning: Stochastic Optimizer: Maximum iterations (200) reached and the optimization hasn't converged yet.\n",
      "  % self.max_iter, ConvergenceWarning)\n",
      "/Users/ssesha/anaconda3/envs/nlu/lib/python3.7/site-packages/sklearn/neural_network/multilayer_perceptron.py:562: ConvergenceWarning: Stochastic Optimizer: Maximum iterations (200) reached and the optimization hasn't converged yet.\n",
      "  % self.max_iter, ConvergenceWarning)\n",
      "/Users/ssesha/anaconda3/envs/nlu/lib/python3.7/site-packages/sklearn/neural_network/multilayer_perceptron.py:562: ConvergenceWarning: Stochastic Optimizer: Maximum iterations (200) reached and the optimization hasn't converged yet.\n",
      "  % self.max_iter, ConvergenceWarning)\n",
      "/Users/ssesha/anaconda3/envs/nlu/lib/python3.7/site-packages/sklearn/neural_network/multilayer_perceptron.py:562: ConvergenceWarning: Stochastic Optimizer: Maximum iterations (200) reached and the optimization hasn't converged yet.\n",
      "  % self.max_iter, ConvergenceWarning)\n",
      "/Users/ssesha/anaconda3/envs/nlu/lib/python3.7/site-packages/sklearn/neural_network/multilayer_perceptron.py:562: ConvergenceWarning: Stochastic Optimizer: Maximum iterations (200) reached and the optimization hasn't converged yet.\n",
      "  % self.max_iter, ConvergenceWarning)\n"
     ]
    }
   ],
   "source": [
    "training_dataset = make_regression_dataset(train_dict, vsm_concat_featurizer)\n",
    "\n",
    "nn_small_ensemble = EnsembleWithEval(small_neural_net_factory, 5)\n",
    "nn_small_ensemble.train(training_dataset)\n",
    "\n",
    "metric = run_metrics_ml(train_dict, nn_small_ensemble, vsm_concat_featurizer, \n",
    "                        set_name='train', exp_name='Small NN ensemble on concatenated VSM embeddings')\n",
    "all_metrics.append(metric)\n",
    "\n",
    "metric = run_metrics_ml(dev_dict, nn_small_ensemble, vsm_concat_featurizer,\n",
    "                        set_name='dev', exp_name='Small NN ensemble on concatenated VSM embeddings')\n",
    "all_metrics.append(metric)\n"
   ]
  },
  {
   "cell_type": "code",
   "execution_count": 208,
   "metadata": {},
   "outputs": [
    {
     "name": "stderr",
     "output_type": "stream",
     "text": [
      "/Users/ssesha/anaconda3/envs/nlu/lib/python3.7/site-packages/sklearn/neural_network/multilayer_perceptron.py:562: ConvergenceWarning: Stochastic Optimizer: Maximum iterations (200) reached and the optimization hasn't converged yet.\n",
      "  % self.max_iter, ConvergenceWarning)\n",
      "/Users/ssesha/anaconda3/envs/nlu/lib/python3.7/site-packages/sklearn/neural_network/multilayer_perceptron.py:562: ConvergenceWarning: Stochastic Optimizer: Maximum iterations (200) reached and the optimization hasn't converged yet.\n",
      "  % self.max_iter, ConvergenceWarning)\n",
      "/Users/ssesha/anaconda3/envs/nlu/lib/python3.7/site-packages/sklearn/neural_network/multilayer_perceptron.py:562: ConvergenceWarning: Stochastic Optimizer: Maximum iterations (200) reached and the optimization hasn't converged yet.\n",
      "  % self.max_iter, ConvergenceWarning)\n"
     ]
    }
   ],
   "source": [
    "training_dataset = make_regression_dataset(train_dict, vsm_glove_concat_featurizer)\n",
    "nn_small_ensemble = EnsembleWithEval(small_neural_net_factory, 5)\n",
    "nn_small_ensemble.train(training_dataset)\n",
    "\n",
    "metric = run_metrics_ml(train_dict, nn_small_ensemble, vsm_glove_concat_featurizer, \n",
    "                        set_name='train', exp_name='Small NN ensemble on concatenated GloVe + VSM embeddings')\n",
    "all_metrics.append(metric)\n",
    "\n",
    "metric = run_metrics_ml(dev_dict, nn_small_ensemble, vsm_glove_concat_featurizer,\n",
    "                        set_name='dev', exp_name='Small NN ensemble on concatenated GloVe + VSM embeddings')\n",
    "all_metrics.append(metric)\n"
   ]
  },
  {
   "cell_type": "markdown",
   "metadata": {},
   "source": [
    "## Small NN ensemble with multiplied embeddings"
   ]
  },
  {
   "cell_type": "code",
   "execution_count": 209,
   "metadata": {},
   "outputs": [],
   "source": [
    "glove_mul_featurizer =  regression_featurizer_factory(make_glove_embedding, content_type='2th', \n",
    "                                                               combination_type='mult')\n",
    "vsm_mul_featurizer =  regression_featurizer_factory(make_vsm_embedding, content_type='2th', \n",
    "                                                               combination_type='mult')\n",
    "glove_and_vsm_mul_featurizer =  regression_featurizer_factory(make_glove_and_vsm_embedding, content_type='2th', \n",
    "                                                               combination_type='mult')"
   ]
  },
  {
   "cell_type": "code",
   "execution_count": 210,
   "metadata": {},
   "outputs": [
    {
     "name": "stderr",
     "output_type": "stream",
     "text": [
      "/Users/ssesha/anaconda3/envs/nlu/lib/python3.7/site-packages/sklearn/neural_network/multilayer_perceptron.py:562: ConvergenceWarning: Stochastic Optimizer: Maximum iterations (200) reached and the optimization hasn't converged yet.\n",
      "  % self.max_iter, ConvergenceWarning)\n",
      "/Users/ssesha/anaconda3/envs/nlu/lib/python3.7/site-packages/sklearn/neural_network/multilayer_perceptron.py:562: ConvergenceWarning: Stochastic Optimizer: Maximum iterations (200) reached and the optimization hasn't converged yet.\n",
      "  % self.max_iter, ConvergenceWarning)\n",
      "/Users/ssesha/anaconda3/envs/nlu/lib/python3.7/site-packages/sklearn/neural_network/multilayer_perceptron.py:562: ConvergenceWarning: Stochastic Optimizer: Maximum iterations (200) reached and the optimization hasn't converged yet.\n",
      "  % self.max_iter, ConvergenceWarning)\n",
      "/Users/ssesha/anaconda3/envs/nlu/lib/python3.7/site-packages/sklearn/neural_network/multilayer_perceptron.py:562: ConvergenceWarning: Stochastic Optimizer: Maximum iterations (200) reached and the optimization hasn't converged yet.\n",
      "  % self.max_iter, ConvergenceWarning)\n",
      "/Users/ssesha/anaconda3/envs/nlu/lib/python3.7/site-packages/sklearn/neural_network/multilayer_perceptron.py:562: ConvergenceWarning: Stochastic Optimizer: Maximum iterations (200) reached and the optimization hasn't converged yet.\n",
      "  % self.max_iter, ConvergenceWarning)\n"
     ]
    }
   ],
   "source": [
    "training_dataset = make_regression_dataset(train_dict, glove_mult_featurizer)\n",
    "nn_small_ensemble = EnsembleWithEval(small_neural_net_factory, 5)\n",
    "nn_small_ensemble.train(training_dataset)\n",
    "\n",
    "metric = run_metrics_ml(train_dict, nn_small_ensemble, glove_mul_featurizer, \n",
    "                        set_name='train', exp_name='Small NN ensemble on multiplied GloVe embeddings')\n",
    "all_metrics.append(metric)\n",
    "\n",
    "metric = run_metrics_ml(dev_dict, nn_small_ensemble, glove_mul_featurizer,\n",
    "                        set_name='dev', exp_name='Small NN ensemble on multiplied GloVe embeddings')\n",
    "all_metrics.append(metric)\n"
   ]
  },
  {
   "cell_type": "code",
   "execution_count": 211,
   "metadata": {},
   "outputs": [
    {
     "name": "stderr",
     "output_type": "stream",
     "text": [
      "/Users/ssesha/anaconda3/envs/nlu/lib/python3.7/site-packages/sklearn/neural_network/multilayer_perceptron.py:562: ConvergenceWarning: Stochastic Optimizer: Maximum iterations (200) reached and the optimization hasn't converged yet.\n",
      "  % self.max_iter, ConvergenceWarning)\n",
      "/Users/ssesha/anaconda3/envs/nlu/lib/python3.7/site-packages/sklearn/neural_network/multilayer_perceptron.py:562: ConvergenceWarning: Stochastic Optimizer: Maximum iterations (200) reached and the optimization hasn't converged yet.\n",
      "  % self.max_iter, ConvergenceWarning)\n",
      "/Users/ssesha/anaconda3/envs/nlu/lib/python3.7/site-packages/sklearn/neural_network/multilayer_perceptron.py:562: ConvergenceWarning: Stochastic Optimizer: Maximum iterations (200) reached and the optimization hasn't converged yet.\n",
      "  % self.max_iter, ConvergenceWarning)\n",
      "/Users/ssesha/anaconda3/envs/nlu/lib/python3.7/site-packages/sklearn/neural_network/multilayer_perceptron.py:562: ConvergenceWarning: Stochastic Optimizer: Maximum iterations (200) reached and the optimization hasn't converged yet.\n",
      "  % self.max_iter, ConvergenceWarning)\n",
      "/Users/ssesha/anaconda3/envs/nlu/lib/python3.7/site-packages/sklearn/neural_network/multilayer_perceptron.py:562: ConvergenceWarning: Stochastic Optimizer: Maximum iterations (200) reached and the optimization hasn't converged yet.\n",
      "  % self.max_iter, ConvergenceWarning)\n"
     ]
    }
   ],
   "source": [
    "training_dataset = make_regression_dataset(train_dict, vsm_mul_featurizer)\n",
    "nn_small_ensemble = EnsembleWithEval(small_neural_net_factory, 5)\n",
    "nn_small_ensemble.train(training_dataset)\n",
    "\n",
    "metric = run_metrics_ml(train_dict, nn_small_ensemble, vsm_mul_featurizer, \n",
    "                        set_name='train', exp_name='Small NN ensemble on multiplied VSM embeddings')\n",
    "all_metrics.append(metric)\n",
    "\n",
    "metric = run_metrics_ml(dev_dict, nn_small_ensemble, vsm_mul_featurizer,\n",
    "                        set_name='dev', exp_name='Small NN ensemble on multiplied VSM embeddings')\n",
    "all_metrics.append(metric)\n"
   ]
  },
  {
   "cell_type": "code",
   "execution_count": 212,
   "metadata": {},
   "outputs": [
    {
     "name": "stderr",
     "output_type": "stream",
     "text": [
      "/Users/ssesha/anaconda3/envs/nlu/lib/python3.7/site-packages/sklearn/neural_network/multilayer_perceptron.py:562: ConvergenceWarning: Stochastic Optimizer: Maximum iterations (200) reached and the optimization hasn't converged yet.\n",
      "  % self.max_iter, ConvergenceWarning)\n",
      "/Users/ssesha/anaconda3/envs/nlu/lib/python3.7/site-packages/sklearn/neural_network/multilayer_perceptron.py:562: ConvergenceWarning: Stochastic Optimizer: Maximum iterations (200) reached and the optimization hasn't converged yet.\n",
      "  % self.max_iter, ConvergenceWarning)\n",
      "/Users/ssesha/anaconda3/envs/nlu/lib/python3.7/site-packages/sklearn/neural_network/multilayer_perceptron.py:562: ConvergenceWarning: Stochastic Optimizer: Maximum iterations (200) reached and the optimization hasn't converged yet.\n",
      "  % self.max_iter, ConvergenceWarning)\n",
      "/Users/ssesha/anaconda3/envs/nlu/lib/python3.7/site-packages/sklearn/neural_network/multilayer_perceptron.py:562: ConvergenceWarning: Stochastic Optimizer: Maximum iterations (200) reached and the optimization hasn't converged yet.\n",
      "  % self.max_iter, ConvergenceWarning)\n",
      "/Users/ssesha/anaconda3/envs/nlu/lib/python3.7/site-packages/sklearn/neural_network/multilayer_perceptron.py:562: ConvergenceWarning: Stochastic Optimizer: Maximum iterations (200) reached and the optimization hasn't converged yet.\n",
      "  % self.max_iter, ConvergenceWarning)\n"
     ]
    }
   ],
   "source": [
    "training_dataset = make_regression_dataset(train_dict, glove_and_vsm_mul_featurizer)\n",
    "nn_small_ensemble = EnsembleWithEval(small_neural_net_factory, 5)\n",
    "nn_small_ensemble.train(training_dataset)\n",
    "\n",
    "metric = run_metrics_ml(train_dict, nn_small_ensemble, glove_and_vsm_mul_featurizer, \n",
    "                        set_name='train', exp_name='Small NN ensemble on multiplied GloVe and VSM embeddings')\n",
    "all_metrics.append(metric)\n",
    "\n",
    "metric = run_metrics_ml(dev_dict, nn_small_ensemble, glove_and_vsm_mul_featurizer,\n",
    "                        set_name='dev', exp_name='Small NN ensemble on multiplied GloVe and VSM embeddings')\n",
    "all_metrics.append(metric)\n"
   ]
  },
  {
   "cell_type": "markdown",
   "metadata": {},
   "source": [
    "## Same but with both concat + mult"
   ]
  },
  {
   "cell_type": "code",
   "execution_count": 213,
   "metadata": {},
   "outputs": [],
   "source": [
    "glove_both_featurizer =  regression_featurizer_factory(make_glove_embedding, content_type='2th', \n",
    "                                                               combination_type='both')\n",
    "vsm_both_featurizer =  regression_featurizer_factory(make_vsm_embedding, content_type='2th', \n",
    "                                                               combination_type='both')\n",
    "glove_and_vsm_both_featurizer =  regression_featurizer_factory(make_glove_and_vsm_embedding, content_type='2th', \n",
    "                                                               combination_type='both')"
   ]
  },
  {
   "cell_type": "code",
   "execution_count": 214,
   "metadata": {},
   "outputs": [
    {
     "name": "stderr",
     "output_type": "stream",
     "text": [
      "/Users/ssesha/anaconda3/envs/nlu/lib/python3.7/site-packages/sklearn/neural_network/multilayer_perceptron.py:562: ConvergenceWarning: Stochastic Optimizer: Maximum iterations (200) reached and the optimization hasn't converged yet.\n",
      "  % self.max_iter, ConvergenceWarning)\n",
      "/Users/ssesha/anaconda3/envs/nlu/lib/python3.7/site-packages/sklearn/neural_network/multilayer_perceptron.py:562: ConvergenceWarning: Stochastic Optimizer: Maximum iterations (200) reached and the optimization hasn't converged yet.\n",
      "  % self.max_iter, ConvergenceWarning)\n",
      "/Users/ssesha/anaconda3/envs/nlu/lib/python3.7/site-packages/sklearn/neural_network/multilayer_perceptron.py:562: ConvergenceWarning: Stochastic Optimizer: Maximum iterations (200) reached and the optimization hasn't converged yet.\n",
      "  % self.max_iter, ConvergenceWarning)\n",
      "/Users/ssesha/anaconda3/envs/nlu/lib/python3.7/site-packages/sklearn/neural_network/multilayer_perceptron.py:562: ConvergenceWarning: Stochastic Optimizer: Maximum iterations (200) reached and the optimization hasn't converged yet.\n",
      "  % self.max_iter, ConvergenceWarning)\n",
      "/Users/ssesha/anaconda3/envs/nlu/lib/python3.7/site-packages/sklearn/neural_network/multilayer_perceptron.py:562: ConvergenceWarning: Stochastic Optimizer: Maximum iterations (200) reached and the optimization hasn't converged yet.\n",
      "  % self.max_iter, ConvergenceWarning)\n"
     ]
    }
   ],
   "source": [
    "training_dataset = make_regression_dataset(train_dict, glove_both_featurizer)\n",
    "nn_small_ensemble = EnsembleWithEval(small_neural_net_factory, 5)\n",
    "nn_small_ensemble.train(training_dataset)\n",
    "\n",
    "metric = run_metrics_ml(train_dict, nn_small_ensemble, glove_both_featurizer, \n",
    "                        set_name='train', exp_name='Small NN ensemble on concatenated and multiplied GloVe embeddings')\n",
    "all_metrics.append(metric)\n",
    "\n",
    "metric = run_metrics_ml(dev_dict, nn_small_ensemble, glove_both_featurizer,\n",
    "                        set_name='dev', exp_name='Small NN ensemble on concatenated and multiplied GloVe embeddings')\n",
    "all_metrics.append(metric)\n"
   ]
  },
  {
   "cell_type": "code",
   "execution_count": 215,
   "metadata": {},
   "outputs": [
    {
     "name": "stderr",
     "output_type": "stream",
     "text": [
      "/Users/ssesha/anaconda3/envs/nlu/lib/python3.7/site-packages/sklearn/neural_network/multilayer_perceptron.py:562: ConvergenceWarning: Stochastic Optimizer: Maximum iterations (200) reached and the optimization hasn't converged yet.\n",
      "  % self.max_iter, ConvergenceWarning)\n",
      "/Users/ssesha/anaconda3/envs/nlu/lib/python3.7/site-packages/sklearn/neural_network/multilayer_perceptron.py:562: ConvergenceWarning: Stochastic Optimizer: Maximum iterations (200) reached and the optimization hasn't converged yet.\n",
      "  % self.max_iter, ConvergenceWarning)\n",
      "/Users/ssesha/anaconda3/envs/nlu/lib/python3.7/site-packages/sklearn/neural_network/multilayer_perceptron.py:562: ConvergenceWarning: Stochastic Optimizer: Maximum iterations (200) reached and the optimization hasn't converged yet.\n",
      "  % self.max_iter, ConvergenceWarning)\n",
      "/Users/ssesha/anaconda3/envs/nlu/lib/python3.7/site-packages/sklearn/neural_network/multilayer_perceptron.py:562: ConvergenceWarning: Stochastic Optimizer: Maximum iterations (200) reached and the optimization hasn't converged yet.\n",
      "  % self.max_iter, ConvergenceWarning)\n",
      "/Users/ssesha/anaconda3/envs/nlu/lib/python3.7/site-packages/sklearn/neural_network/multilayer_perceptron.py:562: ConvergenceWarning: Stochastic Optimizer: Maximum iterations (200) reached and the optimization hasn't converged yet.\n",
      "  % self.max_iter, ConvergenceWarning)\n"
     ]
    }
   ],
   "source": [
    "training_dataset = make_regression_dataset(train_dict, vsm_both_featurizer)\n",
    "nn_small_ensemble = EnsembleWithEval(small_neural_net_factory, 5)\n",
    "nn_small_ensemble.train(training_dataset)\n",
    "\n",
    "metric = run_metrics_ml(train_dict, nn_small_ensemble, vsm_both_featurizer, \n",
    "                        set_name='train', exp_name='Small NN ensemble on concatenated and multiplied VSM embeddings')\n",
    "all_metrics.append(metric)\n",
    "\n",
    "metric = run_metrics_ml(dev_dict, nn_small_ensemble, vsm_both_featurizer,\n",
    "                        set_name='dev', exp_name='NN ensemble on concatenated and multiplied VSM embeddings')\n",
    "all_metrics.append(metric)\n"
   ]
  },
  {
   "cell_type": "code",
   "execution_count": 216,
   "metadata": {},
   "outputs": [
    {
     "name": "stderr",
     "output_type": "stream",
     "text": [
      "/Users/ssesha/anaconda3/envs/nlu/lib/python3.7/site-packages/sklearn/neural_network/multilayer_perceptron.py:562: ConvergenceWarning: Stochastic Optimizer: Maximum iterations (200) reached and the optimization hasn't converged yet.\n",
      "  % self.max_iter, ConvergenceWarning)\n",
      "/Users/ssesha/anaconda3/envs/nlu/lib/python3.7/site-packages/sklearn/neural_network/multilayer_perceptron.py:562: ConvergenceWarning: Stochastic Optimizer: Maximum iterations (200) reached and the optimization hasn't converged yet.\n",
      "  % self.max_iter, ConvergenceWarning)\n",
      "/Users/ssesha/anaconda3/envs/nlu/lib/python3.7/site-packages/sklearn/neural_network/multilayer_perceptron.py:562: ConvergenceWarning: Stochastic Optimizer: Maximum iterations (200) reached and the optimization hasn't converged yet.\n",
      "  % self.max_iter, ConvergenceWarning)\n",
      "/Users/ssesha/anaconda3/envs/nlu/lib/python3.7/site-packages/sklearn/neural_network/multilayer_perceptron.py:562: ConvergenceWarning: Stochastic Optimizer: Maximum iterations (200) reached and the optimization hasn't converged yet.\n",
      "  % self.max_iter, ConvergenceWarning)\n"
     ]
    }
   ],
   "source": [
    "training_dataset = make_regression_dataset(train_dict, glove_and_vsm_both_featurizer)\n",
    "nn_small_ensemble = EnsembleWithEval(small_neural_net_factory, 5)\n",
    "nn_small_ensemble.train(training_dataset)\n",
    "\n",
    "metric = run_metrics_ml(train_dict, nn_small_ensemble, glove_and_vsm_both_featurizer, \n",
    "                        set_name='train', exp_name='Small NN ensemble on concatenated and multiplied GloVe + VSM embeddings')\n",
    "all_metrics.append(metric)\n",
    "\n",
    "metric = run_metrics_ml(dev_dict, nn_small_ensemble, glove_and_vsm_both_featurizer,\n",
    "                        set_name='dev', exp_name='Small NN ensemble on concatenated and multiplied GloVe + VSM embeddings')\n",
    "all_metrics.append(metric)\n"
   ]
  },
  {
   "cell_type": "code",
   "execution_count": 217,
   "metadata": {},
   "outputs": [],
   "source": [
    "metric_frame = pd.DataFrame(all_metrics)"
   ]
  },
  {
   "cell_type": "code",
   "execution_count": 218,
   "metadata": {},
   "outputs": [],
   "source": [
    "metric_frame = metric_frame[['name', 'type', 'NDCG', 'Alt_NDCG', 'MAP']]"
   ]
  },
  {
   "cell_type": "code",
   "execution_count": 219,
   "metadata": {},
   "outputs": [
    {
     "data": {
      "text/html": [
       "<div>\n",
       "<style scoped>\n",
       "    .dataframe tbody tr th:only-of-type {\n",
       "        vertical-align: middle;\n",
       "    }\n",
       "\n",
       "    .dataframe tbody tr th {\n",
       "        vertical-align: top;\n",
       "    }\n",
       "\n",
       "    .dataframe thead th {\n",
       "        text-align: right;\n",
       "    }\n",
       "</style>\n",
       "<table border=\"1\" class=\"dataframe\">\n",
       "  <thead>\n",
       "    <tr style=\"text-align: right;\">\n",
       "      <th></th>\n",
       "      <th>name</th>\n",
       "      <th>type</th>\n",
       "      <th>NDCG</th>\n",
       "      <th>Alt_NDCG</th>\n",
       "      <th>MAP</th>\n",
       "    </tr>\n",
       "  </thead>\n",
       "  <tbody>\n",
       "    <tr>\n",
       "      <th>0</th>\n",
       "      <td>Random scoring</td>\n",
       "      <td>train</td>\n",
       "      <td>0.810559</td>\n",
       "      <td>0.743259</td>\n",
       "      <td>0.726010</td>\n",
       "    </tr>\n",
       "    <tr>\n",
       "      <th>1</th>\n",
       "      <td>Random scoring</td>\n",
       "      <td>dev</td>\n",
       "      <td>0.809480</td>\n",
       "      <td>0.739594</td>\n",
       "      <td>0.721148</td>\n",
       "    </tr>\n",
       "    <tr>\n",
       "      <th>2</th>\n",
       "      <td>Cosine similarity with GloVE embeddings</td>\n",
       "      <td>train</td>\n",
       "      <td>0.868543</td>\n",
       "      <td>0.819639</td>\n",
       "      <td>0.778713</td>\n",
       "    </tr>\n",
       "    <tr>\n",
       "      <th>3</th>\n",
       "      <td>Cosine similarity with GloVE embeddings</td>\n",
       "      <td>dev</td>\n",
       "      <td>0.870252</td>\n",
       "      <td>0.822143</td>\n",
       "      <td>0.776288</td>\n",
       "    </tr>\n",
       "    <tr>\n",
       "      <th>4</th>\n",
       "      <td>Cosine similarity with VSM embeddings</td>\n",
       "      <td>train</td>\n",
       "      <td>0.807882</td>\n",
       "      <td>0.741058</td>\n",
       "      <td>0.725608</td>\n",
       "    </tr>\n",
       "    <tr>\n",
       "      <th>5</th>\n",
       "      <td>Cosine similarity with VSM embeddings</td>\n",
       "      <td>dev</td>\n",
       "      <td>0.824462</td>\n",
       "      <td>0.753089</td>\n",
       "      <td>0.743511</td>\n",
       "    </tr>\n",
       "    <tr>\n",
       "      <th>6</th>\n",
       "      <td>Cosine similarity with Glove + VSM embeddings</td>\n",
       "      <td>train</td>\n",
       "      <td>0.865965</td>\n",
       "      <td>0.817066</td>\n",
       "      <td>0.777946</td>\n",
       "    </tr>\n",
       "    <tr>\n",
       "      <th>7</th>\n",
       "      <td>Cosine similarity with Glove + VSM embeddings</td>\n",
       "      <td>dev</td>\n",
       "      <td>0.860184</td>\n",
       "      <td>0.809570</td>\n",
       "      <td>0.762028</td>\n",
       "    </tr>\n",
       "    <tr>\n",
       "      <th>8</th>\n",
       "      <td>Small NN ensemble on concatenated GloVe embeddings</td>\n",
       "      <td>train</td>\n",
       "      <td>0.990661</td>\n",
       "      <td>0.984391</td>\n",
       "      <td>0.889707</td>\n",
       "    </tr>\n",
       "    <tr>\n",
       "      <th>9</th>\n",
       "      <td>Small NN ensemble on concatenated GloVe embeddings</td>\n",
       "      <td>dev</td>\n",
       "      <td>0.889265</td>\n",
       "      <td>0.843126</td>\n",
       "      <td>0.791556</td>\n",
       "    </tr>\n",
       "    <tr>\n",
       "      <th>10</th>\n",
       "      <td>Small NN ensemble on concatenated VSM embeddings</td>\n",
       "      <td>train</td>\n",
       "      <td>0.990618</td>\n",
       "      <td>0.984213</td>\n",
       "      <td>0.889555</td>\n",
       "    </tr>\n",
       "    <tr>\n",
       "      <th>11</th>\n",
       "      <td>Small NN ensemble on concatenated VSM embeddings</td>\n",
       "      <td>dev</td>\n",
       "      <td>0.874922</td>\n",
       "      <td>0.825378</td>\n",
       "      <td>0.780052</td>\n",
       "    </tr>\n",
       "    <tr>\n",
       "      <th>12</th>\n",
       "      <td>Small NN ensemble on concatenated GloVe + VSM embeddings</td>\n",
       "      <td>train</td>\n",
       "      <td>0.993877</td>\n",
       "      <td>0.989922</td>\n",
       "      <td>0.890663</td>\n",
       "    </tr>\n",
       "    <tr>\n",
       "      <th>13</th>\n",
       "      <td>Small NN ensemble on concatenated GloVe + VSM embeddings</td>\n",
       "      <td>dev</td>\n",
       "      <td>0.886293</td>\n",
       "      <td>0.839834</td>\n",
       "      <td>0.796335</td>\n",
       "    </tr>\n",
       "    <tr>\n",
       "      <th>14</th>\n",
       "      <td>Small NN ensemble on multiplied GloVe embeddings</td>\n",
       "      <td>train</td>\n",
       "      <td>0.967752</td>\n",
       "      <td>0.950512</td>\n",
       "      <td>0.872499</td>\n",
       "    </tr>\n",
       "    <tr>\n",
       "      <th>15</th>\n",
       "      <td>Small NN ensemble on multiplied GloVe embeddings</td>\n",
       "      <td>dev</td>\n",
       "      <td>0.863304</td>\n",
       "      <td>0.807880</td>\n",
       "      <td>0.777508</td>\n",
       "    </tr>\n",
       "    <tr>\n",
       "      <th>16</th>\n",
       "      <td>Small NN ensemble on multiplied VSM embeddings</td>\n",
       "      <td>train</td>\n",
       "      <td>0.858635</td>\n",
       "      <td>0.803193</td>\n",
       "      <td>0.777806</td>\n",
       "    </tr>\n",
       "    <tr>\n",
       "      <th>17</th>\n",
       "      <td>Small NN ensemble on multiplied VSM embeddings</td>\n",
       "      <td>dev</td>\n",
       "      <td>0.835202</td>\n",
       "      <td>0.772087</td>\n",
       "      <td>0.748177</td>\n",
       "    </tr>\n",
       "    <tr>\n",
       "      <th>18</th>\n",
       "      <td>Small NN ensemble on multiplied GloVe and VSM embeddings</td>\n",
       "      <td>train</td>\n",
       "      <td>0.977206</td>\n",
       "      <td>0.963037</td>\n",
       "      <td>0.879326</td>\n",
       "    </tr>\n",
       "    <tr>\n",
       "      <th>19</th>\n",
       "      <td>Small NN ensemble on multiplied GloVe and VSM embeddings</td>\n",
       "      <td>dev</td>\n",
       "      <td>0.872957</td>\n",
       "      <td>0.818852</td>\n",
       "      <td>0.789035</td>\n",
       "    </tr>\n",
       "    <tr>\n",
       "      <th>20</th>\n",
       "      <td>Small NN ensemble on concatenated and multiplied GloVe embeddings</td>\n",
       "      <td>train</td>\n",
       "      <td>0.992684</td>\n",
       "      <td>0.988200</td>\n",
       "      <td>0.889626</td>\n",
       "    </tr>\n",
       "    <tr>\n",
       "      <th>21</th>\n",
       "      <td>Small NN ensemble on concatenated and multiplied GloVe embeddings</td>\n",
       "      <td>dev</td>\n",
       "      <td>0.881575</td>\n",
       "      <td>0.837911</td>\n",
       "      <td>0.783180</td>\n",
       "    </tr>\n",
       "    <tr>\n",
       "      <th>22</th>\n",
       "      <td>Small NN ensemble on concatenated and multiplied VSM embeddings</td>\n",
       "      <td>train</td>\n",
       "      <td>0.990696</td>\n",
       "      <td>0.984002</td>\n",
       "      <td>0.889851</td>\n",
       "    </tr>\n",
       "    <tr>\n",
       "      <th>23</th>\n",
       "      <td>NN ensemble on concatenated and multiplied VSM embeddings</td>\n",
       "      <td>dev</td>\n",
       "      <td>0.872579</td>\n",
       "      <td>0.820538</td>\n",
       "      <td>0.781442</td>\n",
       "    </tr>\n",
       "    <tr>\n",
       "      <th>24</th>\n",
       "      <td>Small NN ensemble on concatenated and multiplied GloVe + VSM embeddings</td>\n",
       "      <td>train</td>\n",
       "      <td>0.994739</td>\n",
       "      <td>0.990932</td>\n",
       "      <td>0.892467</td>\n",
       "    </tr>\n",
       "    <tr>\n",
       "      <th>25</th>\n",
       "      <td>Small NN ensemble on concatenated and multiplied GloVe + VSM embeddings</td>\n",
       "      <td>dev</td>\n",
       "      <td>0.882973</td>\n",
       "      <td>0.838056</td>\n",
       "      <td>0.793326</td>\n",
       "    </tr>\n",
       "  </tbody>\n",
       "</table>\n",
       "</div>"
      ],
      "text/plain": [
       "                                                                       name  \\\n",
       "0   Random scoring                                                            \n",
       "1   Random scoring                                                            \n",
       "2   Cosine similarity with GloVE embeddings                                   \n",
       "3   Cosine similarity with GloVE embeddings                                   \n",
       "4   Cosine similarity with VSM embeddings                                     \n",
       "5   Cosine similarity with VSM embeddings                                     \n",
       "6   Cosine similarity with Glove + VSM embeddings                             \n",
       "7   Cosine similarity with Glove + VSM embeddings                             \n",
       "8   Small NN ensemble on concatenated GloVe embeddings                        \n",
       "9   Small NN ensemble on concatenated GloVe embeddings                        \n",
       "10  Small NN ensemble on concatenated VSM embeddings                          \n",
       "11  Small NN ensemble on concatenated VSM embeddings                          \n",
       "12  Small NN ensemble on concatenated GloVe + VSM embeddings                  \n",
       "13  Small NN ensemble on concatenated GloVe + VSM embeddings                  \n",
       "14  Small NN ensemble on multiplied GloVe embeddings                          \n",
       "15  Small NN ensemble on multiplied GloVe embeddings                          \n",
       "16  Small NN ensemble on multiplied VSM embeddings                            \n",
       "17  Small NN ensemble on multiplied VSM embeddings                            \n",
       "18  Small NN ensemble on multiplied GloVe and VSM embeddings                  \n",
       "19  Small NN ensemble on multiplied GloVe and VSM embeddings                  \n",
       "20  Small NN ensemble on concatenated and multiplied GloVe embeddings         \n",
       "21  Small NN ensemble on concatenated and multiplied GloVe embeddings         \n",
       "22  Small NN ensemble on concatenated and multiplied VSM embeddings           \n",
       "23  NN ensemble on concatenated and multiplied VSM embeddings                 \n",
       "24  Small NN ensemble on concatenated and multiplied GloVe + VSM embeddings   \n",
       "25  Small NN ensemble on concatenated and multiplied GloVe + VSM embeddings   \n",
       "\n",
       "     type      NDCG  Alt_NDCG       MAP  \n",
       "0   train  0.810559  0.743259  0.726010  \n",
       "1   dev    0.809480  0.739594  0.721148  \n",
       "2   train  0.868543  0.819639  0.778713  \n",
       "3   dev    0.870252  0.822143  0.776288  \n",
       "4   train  0.807882  0.741058  0.725608  \n",
       "5   dev    0.824462  0.753089  0.743511  \n",
       "6   train  0.865965  0.817066  0.777946  \n",
       "7   dev    0.860184  0.809570  0.762028  \n",
       "8   train  0.990661  0.984391  0.889707  \n",
       "9   dev    0.889265  0.843126  0.791556  \n",
       "10  train  0.990618  0.984213  0.889555  \n",
       "11  dev    0.874922  0.825378  0.780052  \n",
       "12  train  0.993877  0.989922  0.890663  \n",
       "13  dev    0.886293  0.839834  0.796335  \n",
       "14  train  0.967752  0.950512  0.872499  \n",
       "15  dev    0.863304  0.807880  0.777508  \n",
       "16  train  0.858635  0.803193  0.777806  \n",
       "17  dev    0.835202  0.772087  0.748177  \n",
       "18  train  0.977206  0.963037  0.879326  \n",
       "19  dev    0.872957  0.818852  0.789035  \n",
       "20  train  0.992684  0.988200  0.889626  \n",
       "21  dev    0.881575  0.837911  0.783180  \n",
       "22  train  0.990696  0.984002  0.889851  \n",
       "23  dev    0.872579  0.820538  0.781442  \n",
       "24  train  0.994739  0.990932  0.892467  \n",
       "25  dev    0.882973  0.838056  0.793326  "
      ]
     },
     "execution_count": 219,
     "metadata": {},
     "output_type": "execute_result"
    }
   ],
   "source": [
    "pd.set_option('display.max_colwidth', -1)\n",
    "metric_frame"
   ]
  },
  {
   "cell_type": "code",
   "execution_count": null,
   "metadata": {},
   "outputs": [],
   "source": []
  }
 ],
 "metadata": {
  "kernelspec": {
   "display_name": "Python 3",
   "language": "python",
   "name": "python3"
  },
  "language_info": {
   "codemirror_mode": {
    "name": "ipython",
    "version": 3
   },
   "file_extension": ".py",
   "mimetype": "text/x-python",
   "name": "python",
   "nbconvert_exporter": "python",
   "pygments_lexer": "ipython3",
   "version": "3.7.1"
  }
 },
 "nbformat": 4,
 "nbformat_minor": 2
}
