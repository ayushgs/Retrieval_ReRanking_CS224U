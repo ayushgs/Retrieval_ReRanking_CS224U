{
 "cells": [
  {
   "cell_type": "code",
   "execution_count": 1,
   "metadata": {},
   "outputs": [],
   "source": [
    "#importing dependencies\n",
    "import numpy as np\n",
    "import os\n",
    "import pickle as pkl\n",
    "import math\n",
    "from math import log2\n",
    "import utils\n",
    "from collections import Counter, defaultdict\n",
    "import copy\n"
   ]
  },
  {
   "cell_type": "code",
   "execution_count": 2,
   "metadata": {},
   "outputs": [],
   "source": [
    "base_dir_name = os.getcwd()\n",
    "data_dir_name = \"project_data\"\n",
    "data_dir = os.path.join(base_dir_name, data_dir_name)"
   ]
  },
  {
   "cell_type": "markdown",
   "metadata": {},
   "source": [
    "### Analyzing data"
   ]
  },
  {
   "cell_type": "code",
   "execution_count": 3,
   "metadata": {},
   "outputs": [
    {
     "name": "stdout",
     "output_type": "stream",
     "text": [
      "Printing signal and relevance train files...\n",
      "\n",
      "Signal File\n",
      "749\n",
      "749\n",
      "749\n",
      "\n",
      "--------------------\n",
      "\n",
      "\n",
      "Relevance File\n",
      "749\n",
      "749\n"
     ]
    }
   ],
   "source": [
    "print(\"Printing signal and relevance train files...\")\n",
    "\n",
    "query_dict = {} #maps queries to query id (Assuming distinct queries)\n",
    "doc_dict = {}  #maps docs to doc id\n",
    "query_doc_dict = {} #maps query ids to list of doc ids\n",
    "\n",
    "query_id_list = [] #list\n",
    "doc_id_list = []\n",
    "\n",
    "doc_list_for_query = []\n",
    "\n",
    "query_repetitions = {} #dict mapping queries to number of repetitions\n",
    "query_counter = 0\n",
    "doc_repetitions = 0\n",
    "\n",
    "with open(os.path.join(data_dir, \"pa3.signal.train\"), \"r\", encoding='utf8') as f:\n",
    "    last_query_id = 0 \n",
    "    for line in f:\n",
    "        line_list = line.split()\n",
    "        if line_list[0] == 'query:':\n",
    "            query_counter += 1\n",
    "            if query_counter >= 2:\n",
    "                query_doc_dict[last_query_id] = doc_list_for_query\n",
    "                \n",
    "            query = \" \".join(line_list[1:])\n",
    "            \n",
    "            if query_dict.get(query, None) != None:\n",
    "                query_repetitions[query] = query_repetitions.get(query, 0) + 1\n",
    "                query = query + \"_\" + str(query_repetitions[query])\n",
    "            \n",
    "            query_id_list.append(query)\n",
    "            query_dict[query] = len(query_id_list) - 1\n",
    "            \n",
    "            last_query_id = len(query_id_list) - 1 #update the last query whenever a new query starts\n",
    "            doc_list_for_query = [] #reinitialize the doc list whenever a new query starts\n",
    "        \n",
    "        elif line_list[0] == 'url:':\n",
    "            assert len(line_list) == 2, \"line_list for url has more than 2 entries. Please check!\"\n",
    "            doc = line_list[1]\n",
    "            if doc_dict.get(doc, None) == None:\n",
    "                doc_id_list.append(doc)\n",
    "                doc_id = len(doc_id_list) -1\n",
    "                doc_dict[doc] = doc_id\n",
    "            else:\n",
    "                doc_id = doc_dict[doc]\n",
    "            if doc_id not in doc_list_for_query: \n",
    "                doc_list_for_query.append(doc_id)\n",
    "        \n",
    "        else:\n",
    "            continue\n",
    "    \n",
    "    query_doc_dict[last_query_id] = doc_list_for_query\n",
    "            \n",
    "print(query_counter)\n",
    "print(len(query_dict))\n",
    "print(len(query_doc_dict))\n",
    "    \n",
    "print(\"\\n\" + \"--\"*10 + \"\\n\")\n",
    "\n",
    "query_total_repetitions = copy.deepcopy(query_repetitions)\n",
    "query_doc_relevance = {}\n",
    "doc_relevance_dict = {}\n",
    "query_counter = 0\n",
    "print(\"\\nRelevance File\")\n",
    "with open(os.path.join(data_dir, \"pa3.rel.train\"), \"r\", encoding='utf8') as f:\n",
    "    for line in f:\n",
    "        line_list = line.split()\n",
    "        if line_list[0] == 'query:':\n",
    "            query_counter += 1\n",
    "            query = \" \".join(line_list[1:])\n",
    "            if query_repetitions.get(query, None) != None:\n",
    "                query_repetition_number = query_total_repetitions[query] - query_repetitions[query]\n",
    "                query_repetitions[query] -= 1\n",
    "                if query_repetition_number != 0:\n",
    "                    query = query + \"_\" + str(query_repetition_number)\n",
    "            \n",
    "            if query_counter >= 2:\n",
    "                assert query_doc_relevance.get(last_query_id, None) == None, \"Query already existed in the relevance dict\"\n",
    "                query_doc_relevance[last_query_id] = doc_relevance_dict\n",
    "            \n",
    "            last_query_id = query_dict[query]\n",
    "            doc_relevance_dict = {}\n",
    "            \n",
    "        elif line_list[0] == \"url:\":\n",
    "            doc = line_list[1]\n",
    "            docID = doc_dict[doc]\n",
    "            \n",
    "            doc_relevance_dict[docID] = float(line_list[-1].strip())\n",
    "    \n",
    "    query_doc_relevance[last_query_id] = doc_relevance_dict\n",
    "\n",
    "print(query_counter)\n",
    "print(len(query_doc_relevance))"
   ]
  },
  {
   "cell_type": "markdown",
   "metadata": {},
   "source": [
    "## Data Distribution Analysis"
   ]
  },
  {
   "cell_type": "code",
   "execution_count": 4,
   "metadata": {},
   "outputs": [
    {
     "name": "stdout",
     "output_type": "stream",
     "text": [
      "7490\n"
     ]
    }
   ],
   "source": [
    "#number of unique queries\n",
    "n_queries = len(query_dict)\n",
    "n_unique_queries = len(query_dict)\n",
    "for repeated_query in query_total_repetitions:\n",
    "    n_unique_queries -= query_total_repetitions[repeated_query]\n",
    "\n",
    "total_docs = len(doc_list_for_query) * n_queries\n",
    "print(total_docs)"
   ]
  },
  {
   "cell_type": "markdown",
   "metadata": {},
   "source": [
    "## Comparing query and document embeddings\n",
    "\n",
    "Document embeddings are obtained from the given title or header information without any weight normalization. Loop through the files and collect doc words by looking in the title and header (one idea can be to give more weight to title than to header). Lookup for each word in the glove embedding. Choose and fix a random combination of word if a word in query does not exist (maybe a combination from the words university and around because the corpus relates to stanford). Ignore otherwise. Finally, find cosine similarity and rank and compute NDCG score. \n",
    "\n",
    "#### Other ideas:\n",
    "1. Treat upper case and start of line word different than end of line word, etc\n",
    "2. Can add word correction, etc\n",
    "3. How scraping documents and adding more words to document effect performance\n",
    "4. Modeling item-item dependency by seq2slate architecture\n",
    "5. Creating embedding for words in the query but not in the embedding vocab as a distinct combination for \n",
    "6. Training word2vec on this and then trying different ideas with the center and context matrices obtained\n",
    "7. DESM type ideas with the embeddings of words in the document weighted by the similarity of words (W_out * q_emb)\n",
    "8. Treating re-ranking task as an NLI task where document entails query\n",
    "9. regressing score for each query-doc pair using nlp inspired regression by predicting score through RNN for instance\n",
    "10. experimenting with listwise and pairwise approaches"
   ]
  },
  {
   "cell_type": "code",
   "execution_count": 5,
   "metadata": {},
   "outputs": [],
   "source": [
    "#building word corpus for each document\n",
    "doc_counter = 0\n",
    "last_doc_content = defaultdict(list)\n",
    "docId_to_content = {} #dict maps from doc id to the contents in the doc. The content is saved as a list of vocab_ids\n",
    "queryID_to_content = {}\n",
    "\n",
    "#vocab includes words from both, query and docs\n",
    "vocab_dict = {} #mapping from vocab term to id \n",
    "vocab_id_list = [] #list where id maps to the vocab term (0 indexed)\n",
    "vocab_frequency = {} #number of times each vocab term appears in the vocab of documents (included query words)\n",
    "\n",
    "with open(os.path.join(data_dir, \"pa3.signal.train\"), \"r\", encoding='utf8') as f:\n",
    "    for line in f:\n",
    "        line_list = line.split()\n",
    "        \n",
    "        if line_list[0] == 'query:':\n",
    "            query = \" \".join(line_list[1:])\n",
    "            queryID = query_dict[query]\n",
    "            word_id_list = []\n",
    "            for word in line_list[1:]:\n",
    "                word = word.strip().lower()\n",
    "                vocab_frequency[word] = vocab_frequency.get(word, 0) + 1\n",
    "\n",
    "                if vocab_dict.get(word, None) == None:\n",
    "                    vocab_id_list.append(word)\n",
    "                    vocab_dict[word] = len(vocab_id_list) - 1\n",
    "\n",
    "                word_id = vocab_dict[word]\n",
    "                word_id_list.append(word_id)\n",
    "            \n",
    "            queryID_to_content[queryID] = word_id_list \n",
    "            \n",
    "        elif line_list[0] == 'url:':\n",
    "            doc_counter += 1\n",
    "                \n",
    "            doc = line_list[1]\n",
    "            docID = doc_dict[doc]\n",
    "\n",
    "            if doc_counter >= 2:\n",
    "                docId_to_content[last_docID] = last_doc_content\n",
    "                \n",
    "            last_doc_content = defaultdict(list)\n",
    "            last_docID = docID\n",
    "                \n",
    "        elif line_list[0] == 'title:':\n",
    "            for word in line_list[1:]:\n",
    "                word = word.strip().lower()\n",
    "                vocab_frequency[word] = vocab_frequency.get(word, 0) + 1\n",
    "\n",
    "                if vocab_dict.get(word, None) == None:\n",
    "                    vocab_id_list.append(word)\n",
    "                    vocab_dict[word] = len(vocab_id_list) - 1\n",
    "\n",
    "                word_id = vocab_dict[word]\n",
    "                last_doc_content['title'].append(word_id)\n",
    "                \n",
    "        elif line_list[0] == 'header:':\n",
    "            for word in line_list[1:]:\n",
    "                word = word.strip().lower()\n",
    "                vocab_frequency[word] = vocab_frequency.get(word, 0) + 1\n",
    "\n",
    "                if vocab_dict.get(word, None) == None:\n",
    "                    vocab_id_list.append(word)\n",
    "                    vocab_dict[word] = len(vocab_id_list) - 1\n",
    "\n",
    "                word_id = vocab_dict[word]\n",
    "                last_doc_content['header'].append(word_id)\n",
    "        \n",
    "        else:\n",
    "            continue\n",
    "    \n",
    "    docId_to_content[last_docID] = last_doc_content"
   ]
  },
  {
   "cell_type": "markdown",
   "metadata": {},
   "source": [
    "## Abstracting away data structures\n"
   ]
  },
  {
   "cell_type": "code",
   "execution_count": 6,
   "metadata": {
    "scrolled": false
   },
   "outputs": [],
   "source": [
    "\"\"\"\n",
    "data structures we need:\n",
    "    query_dict = {} #maps queries to query id (Assuming distinct queries)\n",
    "    query_id_list = [] #list of queries\n",
    "\n",
    "    doc_dict = {}  #maps urls to doc id\n",
    "    doc_id_list = [] # list of urls\n",
    "\n",
    "    query_doc_dict = {} #maps query ids to list of doc ids\n",
    "    \n",
    "    docId_to_content = {} #dict maps from doc id to the contents in the doc. The content is saved as a list of vocab_ids\n",
    "    queryID_to_content = {}\n",
    "\n",
    "    #vocab includes words from both, query and docs\n",
    "    vocab_dict = {} #mapping from vocab term to id \n",
    "    vocab_id_list = [] #list where id maps to the vocab term (0 indexed)\n",
    "    vocab_frequency = {} \n",
    "\"\"\"   \n",
    "\n",
    "def get_query_string(query):\n",
    "    if type(query) == int:\n",
    "        query = query_id_list[query]\n",
    "    assert type(query) == str, query\n",
    "    return query\n",
    "\n",
    "def get_query_id(query):\n",
    "    if type(query) == str:\n",
    "        query = query_dict[query]\n",
    "    assert type(query) == int, query\n",
    "    return query\n",
    " \n",
    "def get_doc_url(doc):\n",
    "    if type(doc) == int:\n",
    "        doc = doc_id_list[doc]\n",
    "    assert type(doc) == str, doc\n",
    "    return doc\n",
    "\n",
    "def get_doc_id(doc):\n",
    "    if type(doc) == str:\n",
    "        doc = doc_dict[doc]\n",
    "    assert type(doc) == int, doc\n",
    "    return doc\n",
    "\n",
    "def ids_to_words(content):\n",
    "    # convert ids to words\n",
    "    return [vocab_id_list[i] if type(i) == int else i for i in content]\n",
    "    #return [vocab_id_list[i] for i in content]\n",
    "    \n",
    "def words_to_ids(words):\n",
    "    return [vocab_dict[w] if type(w) == str else w for w in words]\n",
    "    #return [vocab_dict[w] for w in words]\n",
    "\n",
    "def register_words(words):\n",
    "    for word in words:\n",
    "        if word not in vocab_dict:\n",
    "            vocab_dict[word] = len(vocab_id_list)\n",
    "            vocab_id_list.append(word)\n",
    "\n",
    "def get_query_words(query):\n",
    "    # return a list of words corresponding to the query (either string query or query_id)\n",
    "    # could use queryID_to_content, but this has issues with duplicates!\n",
    "    query = get_query_string(query)\n",
    "    return query.split('_')[0].split(' ')\n",
    "    \n",
    "def get_doc_words(document, content_type):\n",
    "    # given either url or doc_id\n",
    "    document = get_doc_id(document)\n",
    "    # all documents have a title at least\n",
    "    title_content = docId_to_content[document]['title']\n",
    "    if content_type == 'title':\n",
    "        content = title_content\n",
    "    \n",
    "    elif content_type == 'header':\n",
    "        if docId_to_content[document]['header']:\n",
    "            content = docId_to_content[document]['header']\n",
    "        else:\n",
    "            content = title_content\n",
    "    \n",
    "    elif content_type == '2th':\n",
    "        content = 2*title_content\n",
    "        content += docId_to_content[document]['header']\n",
    "    \n",
    "    elif content_type == 'body':\n",
    "        #if docId_to_content[document]['body']:\n",
    "        #    content = docId_to_content[document]['body']\n",
    "        #else:\n",
    "        #    content = title_content\n",
    "         content = docId_to_content[document]['body']\n",
    "        \n",
    "    else:\n",
    "        raise ValueError(\"Invalid content type: {}\".format(content_type))\n",
    "    return ids_to_words(content)\n",
    "\n",
    "def get_all_doc_words(query, content_type):\n",
    "    # return tuples of (url, content) corresponding \n",
    "    query = get_query_id(query)\n",
    "    documents = [get_doc_url(doc) for doc in query_doc_dict[query]]\n",
    "    return [(doc, get_doc_words(doc, content_type)) for doc in documents]\n",
    "\n",
    "def get_relevance_dict(query):\n",
    "    query = get_query_id(query)\n",
    "    return {get_doc_url(k): v for k, v in query_doc_relevance[query].items()}\n",
    "\n",
    "def query_iter():\n",
    "    for query in query_dict:\n",
    "        yield query\n",
    "\n",
    "def url_iter(query):\n",
    "    for doc in query_doc_dict[get_query_id(query)]:\n",
    "        yield get_doc_url(doc)\n",
    "        \n",
    "# Note: from here on out, you NEVER have to touch a datastructure, just use the functions above"
   ]
  },
  {
   "cell_type": "markdown",
   "metadata": {},
   "source": [
    "## Inject the body content (by url) into docId_to_content when available"
   ]
  },
  {
   "cell_type": "code",
   "execution_count": 7,
   "metadata": {},
   "outputs": [
    {
     "name": "stdout",
     "output_type": "stream",
     "text": [
      "Loading dictionary\n"
     ]
    }
   ],
   "source": [
    "if not os.path.exists(\"web_url_to_body.p\"):\n",
    "    print(\"Making dictionary\")\n",
    "    web_vocab_id_list = pkl.load(open('vocab_id_list.p', 'rb'))\n",
    "    web_vocab_dict = pkl.load(open('vocab_dict.p', 'rb'))\n",
    "    web_docId_to_content = pkl.load(open('doc_id_content.p', 'rb'))\n",
    "    web_doc_id_list = pkl.load(open(\"doc_id_list.p\", \"rb\"))\n",
    "    web_doc_dict = pkl.load(open(\"doc_dict.p\", \"rb\"))\n",
    "    web_url_to_words = {}\n",
    "\n",
    "    for url, doc in web_doc_dict.items():\n",
    "        body_content = []\n",
    "        if doc in web_docId_to_content:\n",
    "            _, body_content = web_docId_to_content[doc]\n",
    "\n",
    "        body_content = [web_vocab_id_list[w] for w in body_content]\n",
    "        web_url_to_words[url] = body_content\n",
    "    \n",
    "    pkl.dump(web_url_to_words, open(\"web_url_to_body.p\", \"wb\"))\n",
    "\n",
    "else:\n",
    "    print(\"Loading dictionary\")\n",
    "    web_url_to_words = pkl.load(open(\"web_url_to_body.p\", \"rb\"))"
   ]
  },
  {
   "cell_type": "code",
   "execution_count": 8,
   "metadata": {},
   "outputs": [
    {
     "data": {
      "text/plain": [
       "(7201, 0)"
      ]
     },
     "execution_count": 8,
     "metadata": {},
     "output_type": "execute_result"
    }
   ],
   "source": [
    "present, missing = 0, 0\n",
    "for query in query_iter():\n",
    "    for url in url_iter(query):\n",
    "        if url in web_url_to_words:\n",
    "            content = web_url_to_words[url]\n",
    "            doc_id = get_doc_id(url)\n",
    "            register_words(content)\n",
    "            content = words_to_ids(content)\n",
    "            docId_to_content[doc_id]['body'] = content\n",
    "            present += 1\n",
    "        else:\n",
    "            missing += 1\n",
    "present, missing"
   ]
  },
  {
   "cell_type": "code",
   "execution_count": 9,
   "metadata": {},
   "outputs": [
    {
     "name": "stdout",
     "output_type": "stream",
     "text": [
      "['stanford', 'aoerc', 'pool', 'hours']\n",
      "\n",
      "[('http://events.stanford.edu/2014/February/18/', ['skip', 'to', 'main', 'content', 'stanford', 'university', 'stanford', 'event', 'calendar', 'search', 'for', 'events', 'search', 'button', 'menu', 'featured', 'today', 'by', 'date', 'current', 'month', 'su', 'mo', 'tu', 'we', 'th', 'fr', 'sa', 'javascript', 'must', 'be', 'enabled', 'by', 'type', 'class', 'conference', 'symposium', 'exhibition', 'information', 'session', 'lecture', 'reading', 'talk', 'meeting', 'performance', 'oral', 'recreation', 'sport', 'religious', 'screening', 'seminar', 'social', 'tour', 'university', 'event', 'by', 'subject', 'all', 'arts', 'dance', 'drama', 'theater', 'film', 'literary', 'arts', 'music', 'visual', 'arts', 'careers', 'diversity', 'education', 'engineering', 'environment', 'sustainability', 'health', 'wellness', 'humanities', 'international', 'public', 'service', 'science', 'women', 'gender', 'by', 'organization', 'search', 'for', 'events', 'search', 'button', 'february', '2014', 'rss', 'ical', 'lecture', 'reading', 'the', 'ges', 'department', 'seminar', 'series', 'andrew', 'university', 'of', 'bristol', 'february', 'pm', 'of', 'the', 'biological', 'pump', 'info', 'session', 'interviewing', 'tips', 'and', 'tricks', 'for', 'the', 'summer', 'search', 'february', 'pm', 'wilbur', 'trancos', 'side', 'info', 'session', 'interviewing', 'tips', 'and', 'tricks', 'for', 'the', 'summer', 'search', 'february', 'pm', 'lagunita', 'in', 'the', 'bug', 'room', 'info', 'session', 'how', 'to', 'ace', 'the', 'interview', 'february', 'pm', 'cdc', '1st', 'floor', 'conference', 'room', 'class', 'in', 'the', 'getting', 'journals', 'on', 'your', 'ipad', 'february', 'pm', 'branner', 'library', 'teaching', 'mitchell', 'earth', 'sciences', '2nd', 'floor', 'arts', 'playwrights', 'young', 'jean', 'lee', 'on', 'theater', 'in', 'the', 'real', 'february', 'pm', 'prosser', 'studio', 'arts', 'carnegie', 'institution', 'for', 'science', 'global', 'ecology', 'marion', 'february', 'pm', 'turing', 'polya', 'hall', 'lecture', 'reading', 'corporal', 'punishment', 'in', 'anthropological', 'notes', 'on', 'the', 'striking', 'of', 'a', 'child', 'february', 'pm', 'old', 'knight', 'room', '521', 'memorial', 'way', 'lecture', 'reading', 'should', 'students', 'what', 'do', 'students', 'and', 'what', 'do', 'they', 'learn', 'it', 'february', 'pm', 'hewlett', 'teaching', '201', 'lecture', 'reading', 'teaching', 'sex', 'at', 'stanford', 'february', 'pm', 'oak', 'tresidder', 'union', 'seminar', 'panel', 'on', 'and', 'stereotype', 'threat', 'february', 'pm', 'ceras', 'learning', 'stanford', 'arts', 'annual', 'webster', 'graduate', 'student', 'lecture', 'by', 'carla', 'antonaccio', 'on', 'artifacts', 'and', 'transculturation', 'in', 'february', 'pm', 'building', 'room', '112', 'lecture', 'reading', 'google', 'narrative', 'and', 'the', 'human', 'o', 'qué', 'hacemos', 'con', 'la', 'february', 'pm', 'pigott', 'hall', 'room', 'arts', 'and', 'medicine', 'at', 'end', 'a', 'conversation', 'with', 'sunita', 'puri', 'and', 'alvan', 'february', 'pm', 'stanford', 'humanities', 'levinthal', 'hall', 'ongoing', 'arts', 'the', 'complete', 'stanford', 'collection', 'ongoing', 'from', 'december', '2013', 'january', '2015', 'cantor', 'arts', 'just', 'off', 'palm', 'at', 'museum', 'way', 'and', 'lomita', 'drive', 'arts', 'school', 'of', 'medicine', 'fall', 'art', 'exhibit', 'at', 'lksc', 'ongoing', 'from', 'november', '2013', 'june', '2014', 'li', 'ka', 'shing', 'center', '291', 'campus', 'drive', 'ca', '94305', 'class', 'stanford', 'trx', 'suspension', 'training', 'ongoing', 'from', 'january', '2014', 'march', '2014', 'arrillaga', 'center', 'for', 'sports', 'recreation', 'fitness', 'center', 'arrillaga', 'outdoor', 'education', 'recreation', 'center', 'fitness', 'center', 'lecture', 'reading', 'rip', 'training', 'new', 'ongoing', 'from', 'january', '2014', 'march', '2014', 'arrillaga', 'center', 'for', 'sports', 'recreation', 'fitness', 'center', 'class', 'boxing', 'ongoing', 'from', 'january', '2014', 'march', '2014', 'arrillaga', 'center', 'for', 'sports', 'recreation', 'fitness', 'center', 'arrillaga', 'outdoor', 'education', 'recreation', 'center', 'fitness', 'center', 'class', 'indoor', 'cycling', 'ongoing', 'from', 'january', '2014', 'march', '2014', 'arrillaga', 'center', 'for', 'sports', 'recreation', 'fitness', 'center', 'arrillaga', 'outdoor', 'education', 'recreation', 'center', 'fitness', 'center', 'class', 'golf', 'ongoing', 'from', 'january', '2014', 'march', '2014', 'golf', 'driving', 'range', 'west', 'campus', 'juniper', 'serra', 'boulevard', 'ca', '94305', 'class', 'prevent', 'online', 'program', 'for', 'diabetes', 'prevention', 'ongoing', 'from', 'january', '2014', 'april', '2014', 'your', 'computer', 'class', 'boot', 'camp', 'ongoing', 'from', 'january', '2014', 'march', '2014', 'arrillaga', 'center', 'for', 'sports', 'recreation', 'class', 'ashtanga', 'yoga', 'ongoing', 'from', 'january', '2014', 'march', '2014', 'arrillaga', 'racquetball', 'courts', 'class', 'aqua', 'boot', 'camp', 'ongoing', 'from', 'january', '2014', 'march', '2014', 'avery', 'recreational', 'pool', 'at', 'the', 'arrillaga', 'outdoor', 'education', 'recreation', 'center', 'class', 'jungle', 'gym', 'new', 'ongoing', 'from', 'january', '2014', 'march', '2014', 'arrillaga', 'outdoor', 'education', 'recreation', 'center', 'fitness', 'center', 'class', 'rock', 'climbing', 'ongoing', 'from', 'january', '2014', 'march', '2014', 'arrillaga', 'center', 'for', 'sports', 'recreation', 'arrillaga', 'outdoor', 'education', 'recreation', 'center', 'class', 'outdoor', 'education', 'wilderness', 'medicine', 'ongoing', 'from', 'january', '2014', 'march', '2014', 'arrillaga', 'outdoor', 'education', 'recreation', 'center', 'class', 'fit', '2', 'run', 'ongoing', 'from', 'july', '2013', 'february', 'am', 'cobb', 'located', 'between', 'stanford', 'stadium', 'and', 'the', 'arrillaga', 'center', 'for', 'sports', 'and', 'rec', 'arts', 'memorial', 'church', 'open', 'visiting', 'hours', 'ongoing', 'from', 'january', '2014', 'december', 'am', 'stanford', 'memorial', 'church', 'arts', 'hi', '5', 'ongoing', 'from', 'january', '2014', 'february', 'am', 'thomas', 'welton', 'stanford', 'art', 'gallery', '419', 'lasuen', 'mall', 'arts', 'flesh', 'and', 'body', 'and', 'machine', 'in', 'early', 'art', 'ongoing', 'from', 'november', '2013', 'march', 'am', 'cantor', 'arts', 'just', 'off', 'palm', 'at', 'museum', 'way', 'and', 'lomita', 'drive', 'arts', 'modernism', 'and', 'its', 'discontents', 'ongoing', 'from', 'october', '2013', 'february', 'am', 'cantor', 'arts', 'just', 'off', 'palm', 'at', 'museum', 'way', 'and', 'lomita', 'drive', 'arts', 'the', 'honest', 'photographs', 'by', 'peter', 'emerson', 'ongoing', 'from', 'november', '2013', 'may', 'am', 'cantor', 'arts', 'just', 'off', 'palm', 'at', 'museum', 'way', 'and', 'lomita', 'drive', 'arts', 'the', 'royal', 'and', 'life', 'at', 'court', 'ongoing', 'from', 'november', '2013', 'may', 'am', 'cantor', 'arts', 'just', 'off', 'palm', 'at', 'museum', 'way', 'and', 'lomita', 'drive', 'arts', 'jim', 'dine', 'and', 'claes', 'transformation', 'of', 'the', 'ordinary', 'ongoing', 'from', 'december', '2013', 'april', 'am', 'cantor', 'arts', 'just', 'off', 'palm', 'at', 'museum', 'way', 'and', 'lomita', 'drive', 'arts', 'prints', 'by', 'elizabeth', 'ongoing', 'from', 'january', '2014', 'march', 'am', 'cantor', 'arts', 'just', 'off', 'palm', 'at', 'museum', 'way', 'and', 'lomita', 'drive', 'arts', 'silents', 'in', 'the', 'roaring', 'and', 'on', 'film', 'ongoing', 'from', 'november', '2013', 'march', 'am', 'cantor', 'arts', 'just', 'off', 'palm', 'at', 'museum', 'way', 'and', 'lomita', 'drive', 'arts', 'conversation', 'pieces', 'ongoing', 'from', 'december', '2013', 'may', 'am', 'cantor', 'arts', 'just', 'off', 'palm', 'at', 'museum', 'way', 'and', 'lomita', 'drive', 'class', 'alternative', 'transportation', 'counseling', 'tm', '3', 'hour', 'shc', 'family', 'ongoing', 'from', 'january', '2014', 'march', 'pm', 'the', 'instructor', 'will', 'contact', 'you', 'once', 'you', 'register', 'to', 'arrange', 'a', 'date', 'and', 'location', 'for', 'this', 'class', 'eating', 'with', 'how', 'to', 'eat', 'mindfully', 'ongoing', 'from', 'february', '2014', 'march', 'pm', 'studio', '15', 'about', 'the', 'event', 'calendar', 'the', 'stanford', 'event', 'calendar', 'is', 'the', 'central', 'source', 'for', 'information', 'about', 'upcoming', 'campus', 'contact', 'us', 'subscribe', 'via', 'ical', 'or', 'rss', 'stanford', 'for', 'you', 'sign', 'up', 'to', 'receive', 'a', 'monthly', 'email', 'highlighting', 'upcoming', 'campus', 'subscribe', 'to', 'stanford', 'for', 'you', 'post', 'and', 'manage', 'events', 'campus', 'organizations', 'are', 'invited', 'to', 'add', 'their', 'events', 'to', 'the', 'log', 'in', 'request', 'an', 'account', 'policies', 'procedures', 'stanforduniversity', 'stanford', 'home', 'maps', 'directions', 'search', 'stanford', 'emergency', 'info', 'terms', 'of', 'use', 'privacy', 'copyright', 'trademarks', 'accessibility', 'stanford', 'california', 'var', 'dp2', 'new']), ('http://events.stanford.edu/2014/February/6/', ['skip', 'to', 'main', 'content', 'stanford', 'university', 'stanford', 'event', 'calendar', 'search', 'for', 'events', 'search', 'button', 'menu', 'featured', 'today', 'by', 'date', 'current', 'month', 'su', 'mo', 'tu', 'we', 'th', 'fr', 'sa', 'javascript', 'must', 'be', 'enabled', 'by', 'type', 'class', 'conference', 'symposium', 'exhibition', 'information', 'session', 'lecture', 'reading', 'talk', 'meeting', 'performance', 'oral', 'recreation', 'sport', 'religious', 'screening', 'seminar', 'social', 'tour', 'university', 'event', 'by', 'subject', 'all', 'arts', 'dance', 'drama', 'theater', 'film', 'literary', 'arts', 'music', 'visual', 'arts', 'careers', 'diversity', 'education', 'engineering', 'environment', 'sustainability', 'health', 'wellness', 'humanities', 'international', 'public', 'service', 'science', 'women', 'gender', 'by', 'organization', 'search', 'for', 'events', 'search', 'button', 'february', '2014', 'rss', 'ical', 'lecture', 'reading', 'hester', 'getting', 'creative', 'february', 'pm', 'hartley', 'conference', 'mitchell', 'earth', 'sciences', 'building', 'international', 'courts', 'and', 'the', 'performance', 'of', 'international', 'evidence', 'from', 'the', 'european', 'union', 'february', 'pm', 'cisac', 'conference', 'encina', 'hall', 'central', 'lecture', 'reading', 'fundamental', 'themes', 'in', 'neuroscience', 'seminar', 'kamil', 'ugurbil', 'february', 'pm', 'clark', 'center', 'auditorium', 'class', 'program', 'for', 'advanced', 'language', 'japanese', 'ongoing', 'from', 'february', '2014', 'march', 'pm', 'old', 'knight', 'room', '111', '521', 'memorial', 'way', 'lecture', 'reading', 'geophysics', 'department', 'venkat', 'lakshmi', 'of', 'south', 'downscaling', 'satellite', 'soil', 'moisture', 'for', 'catchment', 'hydrology', 'applications', 'february', 'pm', 'mitchell', 'building', 'room', 'info', 'session', 'the', 'art', 'of', 'composing', 'a', 'cover', 'for', 'the', 'summer', 'search', 'february', 'pm', 'cdc', 'library', 'lecture', 'reading', 'burcu', 'and', 'neglected', 'figures', 'of', 'constitutional', 'era', 'ottoman', 'february', 'pm', 'encina', 'hall', 'room', '208', 'serra', 'environment', 'stanford', 'woods', 'environmental', 'forum', 'featuring', 'roz', 'naylor', 'february', 'pm', 'bechtel', 'conference', 'y2e2', 'room', '299', 'info', 'session', 'give', 'yourself', 'a', 'gift', 'of', 'mentoring', 'february', 'pm', 'cdc', '1st', 'floor', 'conference', 'room', 'arts', 'art', 'focus', 'femmes', 'fatales', 'of', 'the', 'and', 'klimt', 'ongoing', 'from', 'february', '2014', 'february', 'pm', 'cantor', 'arts', 'center', '328', 'lomita', 'drive', 'at', 'museum', 'way', 'ca', 'engineering', 'issues', 'of', 'human', 'interface', 'design', 'gary', 'faaop', 'february', 'pm', 'thornton', 'center', 'classroom', '110', 'info', 'session', 'the', 'art', 'of', 'composing', 'a', 'cover', 'for', 'the', 'summer', 'search', 'february', 'pm', 'arrillaga', 'dining', 'study', 'rm', '105', 'social', 'event', 'stanford', 'school', 'of', 'earth', 'sciences', 'alumni', 'reception', 'at', 'nape', 'february', 'pm', 'hilton', 'americas', '1600', 'lamar', 'street', 'texas', 'room', '336', 'note', 'that', 'this', 'is', 'different', 'room', 'from', 'previous', 'nape', 'alumni', 'lecture', 'reading', 'the', 'quotidian', 'and', 'gender', 'in', 'the', 'cultural', 'politics', 'of', 'vernacularization', 'in', 'india', 'february', 'pm', 'bldg', 'rm', '300', 'arts', 'does', 'reading', 'literature', 'make', 'you', 'more', 'february', 'pm', '130', '366', 'galvez', 'ca', 'arts', 'studio', 'lecture', 'series', 'with', 'ji', 'february', 'pm', 'cummings', 'art', 'ar2', 'health', 'wellness', 'student', 'grief', 'and', 'loss', 'gathering', 'february', 'pm', 'vaden', 'health', '2nd', 'floor', 'group', 'room', 'lecture', 'reading', 'meet', 'the', 'makers', 'expert', 'sports', 'february', 'pm', 'the', 'peterson', 'building', '416', 'escondido', 'stanford', 'university', 'info', 'session', 'an', 'evening', 'with', 'stanford', 'and', 'pandora', 'tim', 'westergren', 'february', 'pm', 'ccrma', '3rd', 'floor', 'stage', 'arts', 'author', 'edward', 'inventor', 'and', 'the', 'february', 'pm', 'clark', 'center', 'auditorium', 'campus', 'intersection', 'of', 'roth', 'and', 'campus', 'one', 'block', 'from', 'rodin', 'sculpture', 'lecture', 'reading', 'getting', 'to', 'the', 'root', 'of', 'the', 'complex', 'diagnosis', 'february', 'pm', 'stanford', 'hospital', 'health', 'library', 'hoover', 'suite', '201', '211', 'quarry', 'palo', 'alto', '94304', 'arts', 'by', 'anthony', 'neilson', 'ongoing', 'from', 'february', '2014', 'february', 'pm', 'nitery', 'theater', 'in', 'the', 'old', 'union', 'arts', 'this', 'time', 'we', 'been', 'ongoing', 'from', 'february', '2014', 'february', 'pm', 'nitery', 'theater', 'in', 'the', 'old', 'union', 'ongoing', 'arts', 'the', 'complete', 'stanford', 'collection', 'ongoing', 'from', 'december', '2013', 'january', '2015', 'cantor', 'arts', 'just', 'off', 'palm', 'at', 'museum', 'way', 'and', 'lomita', 'drive', 'arts', 'school', 'of', 'medicine', 'fall', 'art', 'exhibit', 'at', 'lksc', 'ongoing', 'from', 'november', '2013', 'june', '2014', 'li', 'ka', 'shing', 'center', '291', 'campus', 'drive', 'ca', '94305', 'class', 'stanford', 'trx', 'suspension', 'training', 'ongoing', 'from', 'january', '2014', 'march', '2014', 'arrillaga', 'center', 'for', 'sports', 'recreation', 'fitness', 'center', 'arrillaga', 'outdoor', 'education', 'recreation', 'center', 'fitness', 'center', 'lecture', 'reading', 'rip', 'training', 'new', 'ongoing', 'from', 'january', '2014', 'march', '2014', 'arrillaga', 'center', 'for', 'sports', 'recreation', 'fitness', 'center', 'class', 'boxing', 'ongoing', 'from', 'january', '2014', 'march', '2014', 'arrillaga', 'center', 'for', 'sports', 'recreation', 'fitness', 'center', 'arrillaga', 'outdoor', 'education', 'recreation', 'center', 'fitness', 'center', 'class', 'indoor', 'cycling', 'ongoing', 'from', 'january', '2014', 'march', '2014', 'arrillaga', 'center', 'for', 'sports', 'recreation', 'fitness', 'center', 'arrillaga', 'outdoor', 'education', 'recreation', 'center', 'fitness', 'center', 'class', 'golf', 'ongoing', 'from', 'january', '2014', 'march', '2014', 'golf', 'driving', 'range', 'west', 'campus', 'juniper', 'serra', 'boulevard', 'ca', '94305', 'class', 'boot', 'camp', 'ongoing', 'from', 'january', '2014', 'march', '2014', 'arrillaga', 'center', 'for', 'sports', 'recreation', 'class', 'ashtanga', 'yoga', 'ongoing', 'from', 'january', '2014', 'march', '2014', 'arrillaga', 'racquetball', 'courts', 'class', 'aqua', 'boot', 'camp', 'ongoing', 'from', 'january', '2014', 'march', '2014', 'avery', 'recreational', 'pool', 'at', 'the', 'arrillaga', 'outdoor', 'education', 'recreation', 'center', 'class', 'jungle', 'gym', 'new', 'ongoing', 'from', 'january', '2014', 'march', '2014', 'arrillaga', 'outdoor', 'education', 'recreation', 'center', 'fitness', 'center', 'class', 'rock', 'climbing', 'ongoing', 'from', 'january', '2014', 'march', '2014', 'arrillaga', 'center', 'for', 'sports', 'recreation', 'arrillaga', 'outdoor', 'education', 'recreation', 'center', 'class', 'outdoor', 'education', 'wilderness', 'medicine', 'ongoing', 'from', 'january', '2014', 'march', '2014', 'arrillaga', 'outdoor', 'education', 'recreation', 'center', 'arts', 'memorial', 'church', 'open', 'visiting', 'hours', 'ongoing', 'from', 'january', '2014', 'december', 'am', 'stanford', 'memorial', 'church', 'arts', 'hi', '5', 'ongoing', 'from', 'january', '2014', 'february', 'am', 'thomas', 'welton', 'stanford', 'art', 'gallery', '419', 'lasuen', 'mall', 'arts', 'flesh', 'and', 'body', 'and', 'machine', 'in', 'early', 'art', 'ongoing', 'from', 'november', '2013', 'march', 'am', 'cantor', 'arts', 'just', 'off', 'palm', 'at', 'museum', 'way', 'and', 'lomita', 'drive', 'arts', 'modernism', 'and', 'its', 'discontents', 'ongoing', 'from', 'october', '2013', 'february', 'am', 'cantor', 'arts', 'just', 'off', 'palm', 'at', 'museum', 'way', 'and', 'lomita', 'drive', 'arts', 'the', 'honest', 'photographs', 'by', 'peter', 'emerson', 'ongoing', 'from', 'november', '2013', 'may', 'am', 'cantor', 'arts', 'just', 'off', 'palm', 'at', 'museum', 'way', 'and', 'lomita', 'drive', 'arts', 'the', 'royal', 'and', 'life', 'at', 'court', 'ongoing', 'from', 'november', '2013', 'may', 'am', 'cantor', 'arts', 'just', 'off', 'palm', 'at', 'museum', 'way', 'and', 'lomita', 'drive', 'arts', 'jim', 'dine', 'and', 'claes', 'transformation', 'of', 'the', 'ordinary', 'ongoing', 'from', 'december', '2013', 'april', 'am', 'cantor', 'arts', 'just', 'off', 'palm', 'at', 'museum', 'way', 'and', 'lomita', 'drive', 'arts', 'prints', 'by', 'elizabeth', 'ongoing', 'from', 'january', '2014', 'march', 'am', 'cantor', 'arts', 'just', 'off', 'palm', 'at', 'museum', 'way', 'and', 'lomita', 'drive', 'arts', 'silents', 'in', 'the', 'roaring', 'and', 'on', 'film', 'ongoing', 'from', 'november', '2013', 'march', 'am', 'cantor', 'arts', 'just', 'off', 'palm', 'at', 'museum', 'way', 'and', 'lomita', 'drive', 'arts', 'conversation', 'pieces', 'ongoing', 'from', 'december', '2013', 'may', 'am', 'cantor', 'arts', 'just', 'off', 'palm', 'at', 'museum', 'way', 'and', 'lomita', 'drive', 'public', 'service', 'challah', 'for', 'hunger', 'bake', 'ongoing', 'from', 'january', '2014', 'march', 'pm', 'hillel', 'about', 'the', 'event', 'calendar', 'the', 'stanford', 'event', 'calendar', 'is', 'the', 'central', 'source', 'for', 'information', 'about', 'upcoming', 'campus', 'contact', 'us', 'subscribe', 'via', 'ical', 'or', 'rss', 'stanford', 'for', 'you', 'sign', 'up', 'to', 'receive', 'a', 'monthly', 'email', 'highlighting', 'upcoming', 'campus', 'subscribe', 'to', 'stanford', 'for', 'you', 'post', 'and', 'manage', 'events', 'campus', 'organizations', 'are', 'invited', 'to', 'add', 'their', 'events', 'to', 'the', 'log', 'in', 'request', 'an', 'account', 'policies', 'procedures', 'stanforduniversity', 'stanford', 'home', 'maps', 'directions', 'search', 'stanford', 'emergency', 'info', 'terms', 'of', 'use', 'privacy', 'copyright', 'trademarks', 'accessibility', 'stanford', 'california', 'var', 'dp2', 'new']), ('http://events.stanford.edu/2014/March/13/', ['skip', 'to', 'main', 'content', 'stanford', 'university', 'stanford', 'event', 'calendar', 'search', 'for', 'events', 'search', 'button', 'menu', 'featured', 'today', 'by', 'date', 'current', 'month', 'su', 'mo', 'tu', 'we', 'th', 'fr', 'sa', 'javascript', 'must', 'be', 'enabled', 'by', 'type', 'class', 'conference', 'symposium', 'exhibition', 'information', 'session', 'lecture', 'reading', 'talk', 'meeting', 'performance', 'oral', 'recreation', 'sport', 'religious', 'screening', 'seminar', 'social', 'tour', 'university', 'event', 'by', 'subject', 'all', 'arts', 'dance', 'drama', 'theater', 'film', 'literary', 'arts', 'music', 'visual', 'arts', 'careers', 'diversity', 'education', 'engineering', 'environment', 'sustainability', 'health', 'wellness', 'humanities', 'international', 'public', 'service', 'science', 'women', 'gender', 'by', 'organization', 'search', 'for', 'events', 'search', 'button', 'march', '2014', 'rss', 'ical', 'international', 'mixed', 'crisis', 'lending', 'and', 'capital', 'markets', 'march', 'pm', 'cisac', 'conference', 'encina', 'hall', 'central', 'seminar', 'fundamental', 'themes', 'in', 'neuroscience', 'seminar', 'chenghua', 'gu', 'march', 'pm', 'clark', 'center', 'auditorium', 'arts', 'narration', 'and', 'the', 'necessity', 'of', 'telling', 'stories', 'march', 'pm', 'li', 'ka', 'shing', 'room', 'canceled', 'weekly', 'seminar', 'march', 'pm', 'y2e2', '335', 'lecture', 'reading', 'transportation', '2025', 'and', 'beyond', 'march', 'pm', 'stanford', 'law', 'room', '190', 'lecture', 'reading', 'cortical', 'interneuron', 'more', 'nurture', 'than', 'nature', 'march', 'pm', 'clark', 'center', 'auditorium', 'arts', 'open', 'studios', 'march', 'pm', 'cummings', 'art', 'building', '435', 'lasuen', 'ca', 'lecture', 'reading', 'history', 'philosophy', 'of', 'science', 'michael', 'weisberg', 'march', 'pm', 'lane', 'history', 'room', '107', 'lecture', 'reading', 'michael', 'the', 'teaching', 'of', 'character', 'and', 'the', 'character', 'of', 'teaching', 'march', 'pm', 'levinthal', 'hall', 'lecture', 'reading', 'the', 'winds', 'of', 'addressing', 'challenges', 'to', 'the', 'university', 'march', 'pm', 'clark', 'auditorium', 'can', 'enter', 'the', 'auditorium', 'via', 'the', 'entrance', 'in', 'the', 'atrium', 'of', 'the', 'clark', 'you', 'can', 'take', 'the', 'east', 'wing', 'elevators', 'located', 'right', 'by', 'the', 'campus', 'drive', 'entrance', 'to', 'the', 'clark', 'there', 'is', 'a', 'door', 'labeled', 'lecture', 'reading', 'invited', 'kory', 'march', 'pm', 'jordan', 'rm', '41', 'building', '420', 'california', '94305', 'arts', 'wars', 'and', 'dual', 'society', 'in', 'march', 'pm', 'pigott', 'building', 'room', '113', 'lecture', 'reading', 'chronic', 'sinusitis', 'march', 'pm', 'stanford', 'hospital', 'health', 'library', 'hoover', 'suite', '201', '211', 'quarry', 'palo', 'alto', '94304', 'lecture', 'reading', 'recent', 'excavations', 'at', 'bamiyan', 'march', 'pm', 'hartley', 'conference', 'mitchell', 'earth', 'sciences', 'building', 'ongoing', 'arts', 'the', 'complete', 'stanford', 'collection', 'ongoing', 'from', 'december', '2013', 'january', '2015', 'cantor', 'arts', 'just', 'off', 'palm', 'at', 'museum', 'way', 'and', 'lomita', 'drive', 'arts', 'school', 'of', 'medicine', 'fall', 'art', 'exhibit', 'at', 'lksc', 'ongoing', 'from', 'november', '2013', 'june', '2014', 'li', 'ka', 'shing', 'center', '291', 'campus', 'drive', 'ca', '94305', 'class', 'stanford', 'trx', 'suspension', 'training', 'ongoing', 'from', 'january', '2014', 'march', '2014', 'arrillaga', 'center', 'for', 'sports', 'recreation', 'fitness', 'center', 'arrillaga', 'outdoor', 'education', 'recreation', 'center', 'fitness', 'center', 'lecture', 'reading', 'rip', 'training', 'new', 'ongoing', 'from', 'january', '2014', 'march', '2014', 'arrillaga', 'center', 'for', 'sports', 'recreation', 'fitness', 'center', 'class', 'boxing', 'ongoing', 'from', 'january', '2014', 'march', '2014', 'arrillaga', 'center', 'for', 'sports', 'recreation', 'fitness', 'center', 'arrillaga', 'outdoor', 'education', 'recreation', 'center', 'fitness', 'center', 'class', 'indoor', 'cycling', 'ongoing', 'from', 'january', '2014', 'march', '2014', 'arrillaga', 'center', 'for', 'sports', 'recreation', 'fitness', 'center', 'arrillaga', 'outdoor', 'education', 'recreation', 'center', 'fitness', 'center', 'class', 'golf', 'ongoing', 'from', 'january', '2014', 'march', '2014', 'golf', 'driving', 'range', 'west', 'campus', 'juniper', 'serra', 'boulevard', 'ca', '94305', 'class', 'boot', 'camp', 'ongoing', 'from', 'january', '2014', 'march', '2014', 'arrillaga', 'center', 'for', 'sports', 'recreation', 'class', 'ashtanga', 'yoga', 'ongoing', 'from', 'january', '2014', 'march', '2014', 'arrillaga', 'racquetball', 'courts', 'class', 'aqua', 'boot', 'camp', 'ongoing', 'from', 'january', '2014', 'march', '2014', 'avery', 'recreational', 'pool', 'at', 'the', 'arrillaga', 'outdoor', 'education', 'recreation', 'center', 'class', 'jungle', 'gym', 'new', 'ongoing', 'from', 'january', '2014', 'march', '2014', 'arrillaga', 'outdoor', 'education', 'recreation', 'center', 'fitness', 'center', 'class', 'outdoor', 'education', 'wilderness', 'medicine', 'ongoing', 'from', 'january', '2014', 'march', '2014', 'arrillaga', 'outdoor', 'education', 'recreation', 'center', 'arts', 'the', 'circle', 'of', 'the', 'secular', 'medieval', 'and', 'early', 'modern', 'manuscripts', 'ongoing', 'from', 'february', '2014', 'june', '2014', 'peterson', 'green', 'library', 'bing', 'wing', 'arts', 'the', 'art', 'of', 'incision', 'ongoing', 'from', 'march', '2014', 'may', '2014', 'art', 'architecture', 'library', 'arts', 'memorial', 'church', 'open', 'visiting', 'hours', 'ongoing', 'from', 'january', '2014', 'december', 'am', 'stanford', 'memorial', 'church', 'arts', 'materialists', 'ongoing', 'from', 'march', '2014', 'april', 'am', 'thomas', 'welton', 'stanford', 'art', 'gallery', '419', 'lasuen', 'ca', '94305', 'arts', 'flesh', 'and', 'body', 'and', 'machine', 'in', 'early', 'art', 'ongoing', 'from', 'november', '2013', 'march', 'am', 'cantor', 'arts', 'just', 'off', 'palm', 'at', 'museum', 'way', 'and', 'lomita', 'drive', 'arts', 'the', 'honest', 'photographs', 'by', 'peter', 'emerson', 'ongoing', 'from', 'november', '2013', 'may', 'am', 'cantor', 'arts', 'just', 'off', 'palm', 'at', 'museum', 'way', 'and', 'lomita', 'drive', 'arts', 'the', 'royal', 'and', 'life', 'at', 'court', 'ongoing', 'from', 'november', '2013', 'may', 'am', 'cantor', 'arts', 'just', 'off', 'palm', 'at', 'museum', 'way', 'and', 'lomita', 'drive', 'arts', 'jim', 'dine', 'and', 'claes', 'transformation', 'of', 'the', 'ordinary', 'ongoing', 'from', 'december', '2013', 'april', 'am', 'cantor', 'arts', 'just', 'off', 'palm', 'at', 'museum', 'way', 'and', 'lomita', 'drive', 'arts', 'prints', 'by', 'elizabeth', 'ongoing', 'from', 'january', '2014', 'march', 'am', 'cantor', 'arts', 'just', 'off', 'palm', 'at', 'museum', 'way', 'and', 'lomita', 'drive', 'arts', 'silents', 'in', 'the', 'roaring', 'and', 'on', 'film', 'ongoing', 'from', 'november', '2013', 'march', 'am', 'cantor', 'arts', 'just', 'off', 'palm', 'at', 'museum', 'way', 'and', 'lomita', 'drive', 'arts', 'conversation', 'pieces', 'ongoing', 'from', 'december', '2013', 'may', 'am', 'cantor', 'arts', 'just', 'off', 'palm', 'at', 'museum', 'way', 'and', 'lomita', 'drive', 'arts', 'within', 'and', 'transformations', 'in', 'chinese', 'landscapes', 'ongoing', 'from', 'february', '2014', 'january', 'am', 'cantor', 'arts', 'just', 'off', 'palm', 'at', 'museum', 'way', 'and', 'lomita', 'drive', 'international', 'revolutions', 'in', 'eastern', 'the', 'rise', 'of', 'ongoing', 'from', 'march', '2014', 'august', 'am', 'herbert', 'hoover', 'memorial', 'exhibit', 'located', 'next', 'to', 'hoover', 'stanford', 'university', 'class', 'program', 'for', 'advanced', 'language', 'japanese', 'ongoing', 'from', 'february', '2014', 'march', 'pm', 'old', 'knight', 'room', '111', '521', 'memorial', 'way', 'about', 'the', 'event', 'calendar', 'the', 'stanford', 'event', 'calendar', 'is', 'the', 'central', 'source', 'for', 'information', 'about', 'upcoming', 'campus', 'contact', 'us', 'subscribe', 'via', 'ical', 'or', 'rss', 'stanford', 'for', 'you', 'sign', 'up', 'to', 'receive', 'a', 'monthly', 'email', 'highlighting', 'upcoming', 'campus', 'subscribe', 'to', 'stanford', 'for', 'you', 'post', 'and', 'manage', 'events', 'campus', 'organizations', 'are', 'invited', 'to', 'add', 'their', 'events', 'to', 'the', 'log', 'in', 'request', 'an', 'account', 'policies', 'procedures', 'stanforduniversity', 'stanford', 'home', 'maps', 'directions', 'search', 'stanford', 'emergency', 'info', 'terms', 'of', 'use', 'privacy', 'copyright', 'trademarks', 'accessibility', 'stanford', 'california', 'var', 'dp2', 'new']), ('http://events.stanford.edu/2014/March/3/', ['skip', 'to', 'main', 'content', 'stanford', 'university', 'stanford', 'event', 'calendar', 'search', 'for', 'events', 'search', 'button', 'menu', 'featured', 'today', 'by', 'date', 'current', 'month', 'su', 'mo', 'tu', 'we', 'th', 'fr', 'sa', 'javascript', 'must', 'be', 'enabled', 'by', 'type', 'class', 'conference', 'symposium', 'exhibition', 'information', 'session', 'lecture', 'reading', 'talk', 'meeting', 'performance', 'oral', 'recreation', 'sport', 'religious', 'screening', 'seminar', 'social', 'tour', 'university', 'event', 'by', 'subject', 'all', 'arts', 'dance', 'drama', 'theater', 'film', 'literary', 'arts', 'music', 'visual', 'arts', 'careers', 'diversity', 'education', 'engineering', 'environment', 'sustainability', 'health', 'wellness', 'humanities', 'international', 'public', 'service', 'science', 'women', 'gender', 'by', 'organization', 'search', 'for', 'events', 'search', 'button', 'march', '2014', 'rss', 'ical', 'arts', 'the', 'art', 'of', 'incision', 'ongoing', 'from', 'march', '2014', 'may', '2014', 'art', 'architecture', 'library', 'class', 'the', 'new', 'cholesterol', 'guidelines', 'do', 'they', 'apply', 'to', 'march', 'pm', 'your', 'computer', 'class', 'mendeley', 'basics', 'for', 'geoscientists', 'march', 'pm', 'branner', 'library', 'teaching', 'mitchell', 'earth', 'sciences', 'building', '2nd', 'floor', 'info', 'session', 'open', 'forum', 'march', 'pm', 'arrillaga', 'dining', 'study', 'rm', '105', 'info', 'session', 'are', 'you', 'interested', 'in', 'the', 'field', 'of', 'public', 'corporate', 'investigative', 'career', 'experts', 'meetup', 'will', 'arm', 'you', 'with', 'information', 'needed', 'to', 'pursue', 'these', 'career', 'paths', 'march', 'pm', 'building', 'mendenhall', 'conference', 'room', '101a', 'engineering', 'ere', 'tiziana', 'vanorio', 'of', 'and', 'approach', 'for', 'the', 'characterization', 'of', 'march', 'pm', 'room', 'green', 'earth', 'sciences', '367', 'panama', 'street', 'stanford', 'lecture', 'reading', 'legal', 'mechanisms', 'and', 'ethical', 'concerns', 'in', 'protracted', 'conflict', 'march', 'pm', 'stanford', 'law', 'crown', 'room', '185', 'lecture', 'reading', 'optics', 'and', 'electronics', 'seminar', 'march', 'pm', 'spilker', '232', 'lecture', 'reading', 'energy', 'seminar', 'with', 'mike', 'emerging', 'solar', 'cell', 'technologies', 'march', 'pm', 'nvidia', 'huang', 'basement', 'class', 'sustainable', 'weight', 'loss', 'with', 'homemade', 'ongoing', 'from', 'march', '2014', 'march', 'pm', '700', 'alma', 'menlo', 'ca', 'lecture', 'reading', 'chicana', 'catholic', 'subjectivities', 'and', 'the', 'paradox', 'of', 'religious', 'communities', 'a', 'lecture', 'by', 'susana', 'gallardo', 'march', 'pm', 'wallenberg', 'hall', 'room', '124', 'arts', 'charles', 'de', 'graduate', 'piano', 'recital', 'march', 'pm', 'campbell', 'recital', 'hall', 'lecture', 'reading', 'the', 'ethics', 'of', 'in', 'implications', 'of', 'an', 'image', 'with', 'professor', 'peter', 'brown', 'march', 'pm', 'cemex', 'knight', 'management', 'center', 'arts', 'organ', 'studio', 'of', 'robert', 'huw', 'morgan', 'march', 'pm', 'memorial', 'church', 'arts', 'a', 'reading', 'by', 'nikky', 'part', 'of', 'the', 'lane', 'lecture', 'series', 'march', 'pm', 'bechtel', 'conference', 'encina', '616', 'serra', 'lecture', 'reading', 'the', '2014', 'robert', 'hofstadter', 'memorial', 'lecture', 'march', 'pm', 'hewlett', 'teaching', '370', 'serra', '200', 'arts', 'ki', 'a', 'performance', 'by', 'rangmanch', 'march', 'pm', 'roble', 'hall', '374', 'santa', 'teresa', 'stanford', 'university', 'ongoing', 'arts', 'the', 'complete', 'stanford', 'collection', 'ongoing', 'from', 'december', '2013', 'january', '2015', 'cantor', 'arts', 'just', 'off', 'palm', 'at', 'museum', 'way', 'and', 'lomita', 'drive', 'arts', 'school', 'of', 'medicine', 'fall', 'art', 'exhibit', 'at', 'lksc', 'ongoing', 'from', 'november', '2013', 'june', '2014', 'li', 'ka', 'shing', 'center', '291', 'campus', 'drive', 'ca', '94305', 'class', 'stanford', 'trx', 'suspension', 'training', 'ongoing', 'from', 'january', '2014', 'march', '2014', 'arrillaga', 'center', 'for', 'sports', 'recreation', 'fitness', 'center', 'arrillaga', 'outdoor', 'education', 'recreation', 'center', 'fitness', 'center', 'lecture', 'reading', 'rip', 'training', 'new', 'ongoing', 'from', 'january', '2014', 'march', '2014', 'arrillaga', 'center', 'for', 'sports', 'recreation', 'fitness', 'center', 'class', 'boxing', 'ongoing', 'from', 'january', '2014', 'march', '2014', 'arrillaga', 'center', 'for', 'sports', 'recreation', 'fitness', 'center', 'arrillaga', 'outdoor', 'education', 'recreation', 'center', 'fitness', 'center', 'class', 'indoor', 'cycling', 'ongoing', 'from', 'january', '2014', 'march', '2014', 'arrillaga', 'center', 'for', 'sports', 'recreation', 'fitness', 'center', 'arrillaga', 'outdoor', 'education', 'recreation', 'center', 'fitness', 'center', 'class', 'golf', 'ongoing', 'from', 'january', '2014', 'march', '2014', 'golf', 'driving', 'range', 'west', 'campus', 'juniper', 'serra', 'boulevard', 'ca', '94305', 'class', 'boot', 'camp', 'ongoing', 'from', 'january', '2014', 'march', '2014', 'arrillaga', 'center', 'for', 'sports', 'recreation', 'class', 'ashtanga', 'yoga', 'ongoing', 'from', 'january', '2014', 'march', '2014', 'arrillaga', 'racquetball', 'courts', 'class', 'aqua', 'boot', 'camp', 'ongoing', 'from', 'january', '2014', 'march', '2014', 'avery', 'recreational', 'pool', 'at', 'the', 'arrillaga', 'outdoor', 'education', 'recreation', 'center', 'class', 'jungle', 'gym', 'new', 'ongoing', 'from', 'january', '2014', 'march', '2014', 'arrillaga', 'outdoor', 'education', 'recreation', 'center', 'fitness', 'center', 'class', 'rock', 'climbing', 'ongoing', 'from', 'january', '2014', 'march', '2014', 'arrillaga', 'center', 'for', 'sports', 'recreation', 'arrillaga', 'outdoor', 'education', 'recreation', 'center', 'class', 'outdoor', 'education', 'wilderness', 'medicine', 'ongoing', 'from', 'january', '2014', 'march', '2014', 'arrillaga', 'outdoor', 'education', 'recreation', 'center', 'arts', 'the', 'circle', 'of', 'the', 'secular', 'medieval', 'and', 'early', 'modern', 'manuscripts', 'ongoing', 'from', 'february', '2014', 'june', '2014', 'peterson', 'green', 'library', 'bing', 'wing', 'arts', 'memorial', 'church', 'open', 'visiting', 'hours', 'ongoing', 'from', 'january', '2014', 'december', 'am', 'stanford', 'memorial', 'church', 'arts', 'flesh', 'and', 'body', 'and', 'machine', 'in', 'early', 'art', 'ongoing', 'from', 'november', '2013', 'march', 'am', 'cantor', 'arts', 'just', 'off', 'palm', 'at', 'museum', 'way', 'and', 'lomita', 'drive', 'arts', 'the', 'honest', 'photographs', 'by', 'peter', 'emerson', 'ongoing', 'from', 'november', '2013', 'may', 'am', 'cantor', 'arts', 'just', 'off', 'palm', 'at', 'museum', 'way', 'and', 'lomita', 'drive', 'arts', 'the', 'royal', 'and', 'life', 'at', 'court', 'ongoing', 'from', 'november', '2013', 'may', 'am', 'cantor', 'arts', 'just', 'off', 'palm', 'at', 'museum', 'way', 'and', 'lomita', 'drive', 'arts', 'jim', 'dine', 'and', 'claes', 'transformation', 'of', 'the', 'ordinary', 'ongoing', 'from', 'december', '2013', 'april', 'am', 'cantor', 'arts', 'just', 'off', 'palm', 'at', 'museum', 'way', 'and', 'lomita', 'drive', 'arts', 'prints', 'by', 'elizabeth', 'ongoing', 'from', 'january', '2014', 'march', 'am', 'cantor', 'arts', 'just', 'off', 'palm', 'at', 'museum', 'way', 'and', 'lomita', 'drive', 'arts', 'silents', 'in', 'the', 'roaring', 'and', 'on', 'film', 'ongoing', 'from', 'november', '2013', 'march', 'am', 'cantor', 'arts', 'just', 'off', 'palm', 'at', 'museum', 'way', 'and', 'lomita', 'drive', 'arts', 'conversation', 'pieces', 'ongoing', 'from', 'december', '2013', 'may', 'am', 'cantor', 'arts', 'just', 'off', 'palm', 'at', 'museum', 'way', 'and', 'lomita', 'drive', 'arts', 'within', 'and', 'transformations', 'in', 'chinese', 'landscapes', 'ongoing', 'from', 'february', '2014', 'january', 'am', 'cantor', 'arts', 'just', 'off', 'palm', 'at', 'museum', 'way', 'and', 'lomita', 'drive', 'class', 'get', 'moving', '3', 'part', 'series', 'ongoing', 'from', 'february', '2014', 'march', 'pm', 'sycamore', 'conference', 'room', 'class', 'revitalize', 'online', 'program', 'to', 'make', 'your', 'worklife', 'work', 'ongoing', 'from', 'february', '2014', 'march', 'pm', 'this', 'is', 'an', 'course', 'your', 'there', 'is', 'no', 'specific', 'class', 'personalized', 'stress', 'reduction', 'practices', '4', 'sessions', 'ongoing', 'from', 'january', '2014', 'march', 'pm', 'instructor', 'will', 'contact', 'you', 'upon', 'registration', 'for', 'class', 'quit', 'finally', 'free', 'ongoing', 'from', 'january', '2014', 'march', 'pm', 'instructor', 'will', 'contact', 'you', 'to', 'arrange', 'upon', 'class', 'sitting', 'comfortably', 'at', 'your', 'computer', 'station', 'individual', 'session', 'ongoing', 'from', 'january', '2014', 'march', 'pm', 'your', 'computer', 'class', 'weight', 'management', 'starting', 'the', 'journey', 'ongoing', 'from', 'february', '2014', 'march', 'pm', 'rm', '138b', 'class', 'program', 'for', 'advanced', 'language', 'korean', 'ongoing', 'from', 'january', '2014', 'march', 'pm', '521', 'memorial', 'old', 'knight', 'room', '111', 'class', 'wellness', 'coaching', '5', 'weeks', 'ongoing', 'from', 'january', '2014', 'march', 'pm', 'instructor', 'will', 'contact', 'you', 'upon', 'registration', 'to', 'determine', 'about', 'the', 'event', 'calendar', 'the', 'stanford', 'event', 'calendar', 'is', 'the', 'central', 'source', 'for', 'information', 'about', 'upcoming', 'campus', 'contact', 'us', 'subscribe', 'via', 'ical', 'or', 'rss', 'stanford', 'for', 'you', 'sign', 'up', 'to', 'receive', 'a', 'monthly', 'email', 'highlighting', 'upcoming', 'campus', 'subscribe', 'to', 'stanford', 'for', 'you', 'post', 'and', 'manage', 'events', 'campus', 'organizations', 'are', 'invited', 'to', 'add', 'their', 'events', 'to', 'the', 'log', 'in', 'request', 'an', 'account', 'policies', 'procedures', 'stanforduniversity', 'stanford', 'home', 'maps', 'directions', 'search', 'stanford', 'emergency', 'info', 'terms', 'of', 'use', 'privacy', 'copyright', 'trademarks', 'accessibility', 'stanford', 'california', 'var', 'dp2', 'new']), ('http://med.stanford.edu/content/dam/sm/hip/documents/FreeFitnessWeek.pdf', []), ('http://web.stanford.edu/group/masters/pool.html', ['workout', 'schedule', 'announcements', 'people', 'membership', 'dues', 'lists', 'pool', 'parking', 'info', 'lane', 'etiquette', 'links', 'equipment', 'swim', 'away', 'from', 'home', 'contact', 'us', 'our', 'the', 'gorgeous', 'avery', 'aquatic', 'center', 'at', 'open', 'in', 'google', 'maps', 'from', 'highway', 'take', 'the', 'embarcadero', 'road', 'west', 'exit', 'cross', 'el', 'camino', 'real', 'continue', 'on', 'galvez', 'street', 'turn', 'left', 'on', 'nelson', 'road', 'continue', 'to', 'the', 'parking', 'lot', 'at', 'the', 'end', 'from', 'highway', 'take', 'the', 'sandhill', 'road', 'east', 'exit', 'turn', 'right', 'on', 'arboretum', 'road', 'the', 'turn', 'right', 'on', 'galvez', 'street', 'turn', 'left', 'on', 'nelson', 'road', 'continue', 'to', 'the', 'parking', 'lot', 'at', 'the', 'end', 'from', 'el', 'camino', 'turn', 'west', 'on', 'galvez', 'street', 'turn', 'left', 'on', 'nelson', 'road', 'continue', 'to', 'the', 'parking', 'lot', 'at', 'the', 'end']), ('https://alumni.stanford.edu/get/page/perks/PoolAndGyms', ['skip', 'to', 'content', 'we', 'are', 'unable', 'to', 'supply', 'content', 'for', 'this', 'web', 'either', 'because', 'the', 'internet', 'security', 'on', 'your', 'browser', 'is', 'set', 'to', 'or', 'because', 'you', 'have', 'disabled', 'for', 'information', 'on', 'how', 'to', 'change', 'these', 'settings', 'in', 'your', 'please', 'see', 'the', 'help', 'page', 'welcome', 'register', 'log', 'in', 'entire', 'site', 'discussions', 'groups', 'trips', 'magazine', 'events', 'var', 'searchtypess', 'new', '1px', 'solid', '1px', 'solid', 'stanford', 'alumni', 'var', 'imagehtmlstring', 'saaheaderimagefortemplate', 'community', 'groups', 'alumni', 'directory', 'discussions', 'book', 'salon', 'undergrad', 'students', 'grad', 'students', 'young', 'alumni', 'activities', 'reunions', 'events', 'where', 'i', 'live', 'sierra', 'camp', 'on', 'campus', 'resources', 'alumni', 'career', 'services', 'alumni', 'directory', 'perks', 'membership', 'your', 'alumni', 'center', 'alumni', 'center', 'event', 'planning', 'news', 'views', 'magazine', 'learn', 'subscriptions', 'stanford', 'links', 'volunteering', 'stanford', 'associates', 'leadership', 'beyond', 'the', 'farm', 'trustee', 'nominations', 'dashboard', 'my', 'profile', 'my', 'messages', 'my', 'friends', 'my', 'events', 'my', 'groups', 'my', 'gallery', 'home', 'var', 'event', 'dom', 'var', 'browsebtn', 'var', 'panelanchor', 'browsepanel', 'new', 'if', 'else', 'if', 'else', 'var', 'el', 'var', 'browsepanelel', 'if', 'browsepanelel', 'el', 'browsebtn', 'community', 'activities', 'resources', 'alumni', 'career', 'services', 'alumni', 'email', 'directory', 'perks', 'membership', 'your', 'alumni', 'center', 'alumni', 'center', 'event', 'planning', 'alumni', 'shop', 'news', 'views', 'volunteering', 'my', 'stanford', 'a', 'print', 'share', 'sharedatasource', 'new', 'var', 'sharedatasource', 'new', 'new', 'var', 'newvalues', 'for', 'value', 'var', 'matches', 'if', 'else', 'if', 'value', 'return', 'true', 'new', 'var', 'subjectele', 'if', 'var', 'panel', 'new', 'enter', 'a', 'var', 'button', 'pool', 'gyms', 'all', 'alumni', 'may', 'access', 'the', 'following', 'athletic', 'arrillaga', 'center', 'for', 'sports', 'recreation', 'avery', 'aquatic', 'center', 'ford', 'center', 'arrillaga', 'outdoor', 'education', 'and', 'recreation', 'center', 'daily', 'passes', 'are', 'each', 'and', 'can', 'be', 'purchased', 'only', 'at', 'the', 'frances', 'arrillaga', 'alumni', 'center', 'front', 'once', 'your', 'pass', 'is', 'valid', 'for', 'the', 'entire', 'day', 'on', 'which', 'it', 'is', 'you', 'may', 'visit', 'more', 'than', 'one', 'facility', 'in', 'a', 'given', 'day', 'using', 'the', 'same', 'pass', 'as', 'long', 'as', 'the', 'date', 'punched', 'on', 'the', 'card', 'is', 'there', 'is', 'no', 'expiration', 'date', 'on', 'the', 'pass', 'users', 'over', 'the', 'age', 'of', '18yrs', 'old', 'are', 'required', 'to', 'show', 'a', 'government', 'issued', 'photo', 'id', 'card', 'at', 'all', 'times', 'while', 'using', 'the', 'recreation', 'you', 'may', 'purchase', 'your', 'during', 'regular', 'alumni', 'center', 'business', '8', '5', 'monday', 'through', 'friday', 'for', 'more', 'information', 'on', 'operating', 'guest', 'policies', 'and', 'please', 'visit', 'cardinal', 'see', 'all', 'perks', 'home', 'about', 'us', 'university', 'homepage', 'giving', 'to', 'stanford', 'contact', 'us', 'help', 'accessibility', 'privacy', 'policy', 'terms', 'of', 'use', 'var', 'gajshost', 'gajshost', 'try', 'var', 'pagetracker', 'var', 'element', 'return']), ('https://cardinalrec.stanford.edu/facilities/aoerc/', []), ('https://explorecourses.stanford.edu/search?view=catalog&filter-coursestatus-Active=on&page=0&catalog=&q=PE+128%3A+Swimming%3A+Beginning+I&collapse=', ['about', 'explore', 'degrees', 'sign', 'in', 'bulletinexplorecourses', 'input', 'var', 'defaulttext', 'or', 'searchfocus', 'if', 'searchblur', 'if', 'addcollapsed', 'browseby', '1', '0', 'of', '0', 'results', 'pe', 'beginning', 'i', 'printer', 'friendly', 'page', 'filter', 'term', 'offered', 'autumn', 'winter', 'spring', 'summer', 'updating', 'number', 'of', 'units', '1', 'unit', '2', 'units', '3', 'units', '4', 'units', '5', 'units', 'units', 'updating', 'time', 'offered', 'early', 'morning', 'morning', 'lunchtime', 'afternoon', 'evening', 'updating', 'days', 'monday', 'tuesday', 'wednesday', 'thursday', 'friday', 'saturday', 'sunday', 'updating', 'ug', 'requirements', 'language', 'writing', '1', 'writing', '2', 'writing', 'sle', 'ihum1', 'ihum2', 'ihum3', 'updating', 'component', 'lecture', 'seminar', 'discussion', 'section', 'laboratory', 'lab', 'section', 'activity', 'case', 'study', 'colloquium', 'workshop', 'independent', 'study', 'intro', 'sophomore', 'intro', 'freshman', 'intro', 'sophomore', 'internship', 'arts', 'intensive', 'program', 'language', 'practicum', 'practicum', 'research', 'sophomore', 'college', 'updating', 'career', 'undergraduate', 'graduate', 'graduate', 'school', 'of', 'business', 'law', 'school', 'medical', 'school', 'updating', 'else', 'var', 'newinput', 'var', 'collapsed', 'showfilter', 'hidefilter', 'var', 'animating', 'changestatus', 'animating', 'return', 'else', 'animating', 'return', 'id', 'collapsed', 'id', 'id', 'else', 'collapsed', 'collapsed', 'collapsed', 'submitfilterform', '1', 'changepage', 'link', 'stanford', 'university', 'terms', 'of', 'use', 'copyright', 'complaints', 'var', 'gajshost', 'gajshost', 'try', 'var', 'pagetracker', 'var', 'scheduleanimating', 'hideschedule', 'return', 'scheduleanimating', 'scheduleanimating', 'var', 'link', 'return', 'return', 'showschedule', 'return', 'scheduleanimating', 'scheduleanimating', 'var', 'link', 'return', 'return', 'hidefull', 'showfull', 'hidefullinstr', 'showfullinstr']), ('https://glo.stanford.edu/events/stanford-rec-open-house', ['skip', 'to', 'content', 'skip', 'to', 'navigation', 'sunetid', 'login', 'sunetid', 'login', 'graduate', 'life', 'office', 'student', 'affairs', 'search', 'form', 'search', 'navigation', 'menu', 'main', 'menu', 'home', 'glo', 'services', 'resources', 'concerned', 'about', 'a', 'events', 'who', 'we', 'are', 'students', 'with', 'children', 'events', 'upcoming', 'events', 'past', 'events', 'stanford', 'rec', 'open', 'house', 'september', '2016', 'am', 'to', '285', 'santa', 'teresa', 'remember', 'to', 'bring', 'your', 'stanford', 'id', 'to', 'scan', 'for', 'entry', 'yoga', 'mats', 'for', 'our', 'pilaties', 'wear', 'shoes', 'for', 'all', 'fitness', 'locker', 'rooms', 'and', 'lockers', 'are', 'available', 'for', 'those', 'who', 'are', 'attending', 'free', 'swimstanford', 'recreation', 'wellness', 'is', 'your', 'shop', 'for', 'fitness', 'and', 'health', 'on', 'the', 'we', 'offer', 'a', 'variety', 'of', 'programs', 'and', 'resources', 'geared', 'to', 'help', 'you', 'achieve', 'your', 'best', 'try', 'one', 'or', 'more', 'of', 'our', 'free', 'class', 'demos', 'at', 'the', 'arrillaga', 'outdoor', 'education', 'and', 'recreation', 'center', 'to', 'get', 'your', 'heart', 'rate', 'and', 'ngso', 'week', 'cardio', 'cardio', 'dance', 'combines', 'traditional', 'aerobic', 'routines', 'with', 'choreography', 'including', 'african', 'and', 'no', 'experience', 'just', 'a', 'love', 'of', 'movement', 'and', 'upbeat', 'class', '1', 'minute', 'aoerc', 'studio', '203', 'class', '2', 'minute', 'aoerc', 'studio', '203', 'trx', 'suspension', 'training', 'is', 'a', 'workout', 'utilizing', 'a', 'system', 'of', 'suspended', 'straps', 'with', 'allowing', 'the', 'user', 'to', 'leverage', 'their', 'body', 'weight', 'as', 'they', 'this', 'class', 'will', 'keep', 'the', 'heart', 'rate', 'elevated', 'while', 'transitioning', 'between', 'cardio', 'and', 'strength', 'intervals', 'to', 'develop', 'and', 'core', 'class', '1', 'minute', 'aoerc', 'fitness', 'center', 'class', '2', 'minute', 'aoerc', 'fitness', 'center', 'this', 'workout', 'is', 'designed', 'to', 'help', 'participants', 'develop', 'lean', 'gain', 'core', 'strength', 'and', 'and', 'increase', 'various', 'props', 'may', 'be', 'class', '1', 'minute', 'aoerc', 'studio', '111', 'class', '2', 'minute', 'aoerc', 'studio', '111', 'jungle', 'the', 'adult', 'fitness', 'playground', 'using', 'the', 'life', 'fitness', 'synrgy', 'this', 'ultimate', 'equipment', 'lets', 'you', 'have', 'it', 'this', 'class', 'utilizes', 'a', 'variety', 'of', 'equipment', 'including', 'monkey', 'kettle', 'bells', 'and', 'you', 'can', 'increase', 'and', 'all', 'with', 'a', 'fun', 'cardio', 'class', '1', 'minute', 'aoerc', 'fitness', 'center', 'burn', 'build', 'this', 'is', 'class', 'that', 'alternates', 'intervals', 'of', 'cardio', 'and', 'strength', 'training', 'in', 'choreographed', 'routines', 'set', 'to', 'no', 'equipment', 'is', 'of', 'the', 'nature', 'of', 'the', 'athletic', 'shoes', 'are', 'required', 'and', 'it', 'is', 'strongly', 'advised', 'that', 'you', 'arrive', 'promptly', 'for', 'the', 'full', 'warm', 'class', '1', 'minute', 'aoerc', 'studio', '203', 'class', '2', 'minute', 'aoerc', 'studio', '203', 'indoor', 'indoor', 'cycling', 'classes', 'welcome', 'all', 'levels', 'and', 'instructors', 'motivate', 'participants', 'through', 'hill', 'intervals', 'and', 'flat', 'roads', 'for', 'a', 'fantastic', 'cardio', 'upbeat', 'music', 'keeps', 'you', 'motivated', 'and', 'makes', 'class', 'class', '1', 'minute', 'aoerc', 'cycling', 'studio', 'class', '2', 'minute', 'aoerc', 'cycling', 'studio', 'bring', 'your', 'a', 'game', 'to', 'the', 'court', 'and', 'shoot', 'some', 'hoops', 'with', 'your', 'join', 'us', 'for', 'shooting', 'contests', 'and', 'drills', 'including', 'a', 'basketball', 'to', 'aoerc', 'basketball', 'courts', 'free', 'whether', 'swimming', 'laps', 'or', 'ready', 'to', 'splash', 'come', 'relax', 'at', 'the', 'avery', 'recreation', 'pool', 'and', 'catch', 'some', 'to', 'avery', 'recreation', 'pool', 'at', 'aoerc', 'event', 'graduate', 'life', 'officecontact', 'student', 'affairs', 'the', 'graduate', 'life', 'office', 'is', 'proud', 'to', 'be', 'part', 'of', 'student', 'which', 'advances', 'student', 'development', 'and', 'fosters', 'community', 'promotes', 'inclusion', 'and', 'and', 'empowers', 'students', 'to', 'helpful', 'links', 'get', 'emergency', 'assistance', 'or', 'find', 'helpview', 'the', 'stanford', 'policystudent', 'affairs', 'supports', 'accessibilityreport', 'a', 'website', 'problem', 'contact', 'us', '750', 'escondido', 'suite', 'ca', 'map', 'stanford', 'home', 'maps', 'directions', 'search', 'stanford', 'emergency', 'info', 'terms', 'of', 'use', 'privacy', 'copyright', 'trademarks', 'accessibility', 'stanford', 'california'])]\n",
      "\n",
      "{'http://events.stanford.edu/2014/February/18/': 0.0, 'http://events.stanford.edu/2014/February/6/': 0.0, 'http://events.stanford.edu/2014/March/13/': 0.0, 'http://events.stanford.edu/2014/March/3/': 0.0, 'http://med.stanford.edu/content/dam/sm/hip/documents/FreeFitnessWeek.pdf': 0.0, 'http://web.stanford.edu/group/masters/pool.html': 1.0, 'https://alumni.stanford.edu/get/page/perks/PoolAndGyms': 1.5, 'https://cardinalrec.stanford.edu/facilities/aoerc/': 2.0, 'https://explorecourses.stanford.edu/search?view=catalog&filter-coursestatus-Active=on&page=0&catalog=&q=PE+128%3A+Swimming%3A+Beginning+I&collapse=': 0.5, 'https://glo.stanford.edu/events/stanford-rec-open-house': 0.5}\n",
      "\n",
      "http://events.stanford.edu/2014/February/18/\n",
      "http://events.stanford.edu/2014/February/6/\n",
      "http://events.stanford.edu/2014/March/13/\n",
      "http://events.stanford.edu/2014/March/3/\n",
      "http://med.stanford.edu/content/dam/sm/hip/documents/FreeFitnessWeek.pdf\n",
      "http://web.stanford.edu/group/masters/pool.html\n",
      "https://alumni.stanford.edu/get/page/perks/PoolAndGyms\n",
      "https://cardinalrec.stanford.edu/facilities/aoerc/\n",
      "https://explorecourses.stanford.edu/search?view=catalog&filter-coursestatus-Active=on&page=0&catalog=&q=PE+128%3A+Swimming%3A+Beginning+I&collapse=\n",
      "https://glo.stanford.edu/events/stanford-rec-open-house\n"
     ]
    }
   ],
   "source": [
    "# some sanity checks\n",
    "for query in query_iter():\n",
    "    print(get_query_words(query))\n",
    "    print()\n",
    "    print(get_all_doc_words(query, 'title'))\n",
    "    print()\n",
    "    print(get_relevance_dict(query))\n",
    "    print()\n",
    "    for url in url_iter(query):\n",
    "        print(url)\n",
    "    break\n"
   ]
  },
  {
   "cell_type": "markdown",
   "metadata": {},
   "source": [
    "## Set up GloVe embedding"
   ]
  },
  {
   "cell_type": "code",
   "execution_count": 10,
   "metadata": {},
   "outputs": [],
   "source": [
    "'''having generated query content and doc content, lets try ranking by cosine similarity between query and document \n",
    "embedding\n",
    "'''\n",
    "#iteration 1: ignore words not there in the embedding\n",
    "\n",
    "#lookup function\n",
    "glove_dim = 50\n",
    "GLOVE_HOME = os.path.join('data', 'glove.6B')\n",
    "glove_lookup = utils.glove2dict(os.path.join(GLOVE_HOME, 'glove.6B.{}d.txt'.format(glove_dim)))"
   ]
  },
  {
   "cell_type": "code",
   "execution_count": 11,
   "metadata": {},
   "outputs": [],
   "source": [
    "def make_glove_embedding(words, combine_func=None):\n",
    "    for word in words:\n",
    "        assert isinstance(word, str), (type(word), word)\n",
    "\n",
    "    all_vecs = np.array([glove_lookup[w] for w in words if w in glove_lookup]) \n",
    "\n",
    "    if len(all_vecs) == 0:\n",
    "        feats = np.zeros(glove_dim)    \n",
    "    else:       \n",
    "        if combine_func:\n",
    "            print(combine_func)\n",
    "            feats = combine_func(all_vecs)\n",
    "        else: # take the elemnetwise mean by default\n",
    "            feats = np.mean(all_vecs, axis=0) \n",
    "    return feats\n",
    "\n",
    "def query_and_document_embeddings(query, query_combine_func=None, doc_combine_func=None, content_type='title'):\n",
    "    \"\"\"\n",
    "    query: Either query text, or id\n",
    "    query_combine_func: How to combine query GloVe embeddings (default is mean)\n",
    "    doc_combine_func: How to combine document GloVe embeddings (default is mean)\n",
    "    doc_content_type: How to select document content. TODO: make this do something\n",
    "    \"\"\"\n",
    "    query_words = get_query_words(query)\n",
    "    query_embedding = make_glove_embedding(query_words, query_combine_func)\n",
    "        \n",
    "    document_embeddings = [(url, make_glove_embedding(words, doc_combine_func)) \n",
    "                               for url, words in get_all_doc_words(query, content_type)]\n",
    "    return query_embedding, document_embeddings"
   ]
  },
  {
   "cell_type": "markdown",
   "metadata": {},
   "source": [
    "### Metric - NDCG, MAP\n",
    "\n",
    "can also incorporate Precision, MAP, etc. after binary conversion with decay rates"
   ]
  },
  {
   "cell_type": "code",
   "execution_count": 12,
   "metadata": {},
   "outputs": [],
   "source": [
    "def DCG(ranked_docs, relevance_dict):\n",
    "    '''This function takes an ordered/ranked document list with the ground truth relevance labels from the \n",
    "    relevance_dict and returns a DCG score for the retrieval/ranking.\n",
    "    Input -- \n",
    "        ranked_docs = list of doc IDs ordered by rank. First element in the list is the highest ranked\n",
    "        relevance_dict = dict with keys as the doc_IDs and relevance score as the element\n",
    "    Output -- \n",
    "        DCG [float]'''\n",
    "    return np.sum([(relevance_dict[doc]) / (math.log2(i+2)) \\\n",
    "                  for i, doc in enumerate(ranked_docs)])\n",
    "\n",
    "def DCG_alt(ranked_docs, relevance_dict):\n",
    "    return np.sum([(2**relevance_dict[doc] - 1) / (math.log2(i+2)) \\\n",
    "                   for i, doc in enumerate(ranked_docs)])\n",
    "\n",
    "def NDCG(ranked_docs, relevance_dict, use_alt=False):\n",
    "    '''This function takes an ordered/ranked document list with the ground truth relevance labels from the \n",
    "    relevance_dict and returns a NDCG score for the ranking. \n",
    "    Input -- \n",
    "        ranked_docs = list of doc IDs ordered by rank. First element in the list is the highest ranked\n",
    "        relevance_dict = dict with keys as the doc_IDs and relevance score as the element\n",
    "    Output -- \n",
    "        NDCG [float]'''\n",
    "    assert len(ranked_docs) == len(relevance_dict)\n",
    "    ideal_ordering, _ = zip(*sorted(relevance_dict.items(), key = lambda x: (-x[1])))\n",
    "    ideal_ordering = list(ideal_ordering)\n",
    "    \n",
    "    dcg_func = DCG_alt if use_alt else DCG\n",
    "    DCG_oracle = dcg_func(ideal_ordering, relevance_dict)\n",
    "    DCG_case = dcg_func(ranked_docs, relevance_dict)\n",
    "    assert DCG_oracle >= DCG_case\n",
    "    \n",
    "    #return 0 if DCG_ideal is 0 (happens when all the retrieved docs are rated 0)\n",
    "    if DCG_oracle == 0:\n",
    "        return 1.0\n",
    "\n",
    "    return DCG_case/DCG_oracle\n",
    "\n",
    "#sanity check\n",
    "ranked_docs = [0,1,2,3,4]\n",
    "relevance_dict = {0: 2, 1: 3, 2: 0, 3: 0, 4: 1}\n",
    "DCG_score = 2 + 3/log2(3) + 1/log2(6)\n",
    "Ideal_score = 3 + 2/log2(3) + 1/log2(4)\n",
    "NDCG_score = DCG_score/Ideal_score\n",
    "assert DCG(ranked_docs, relevance_dict) == DCG_score, \"DCG error\"\n",
    "assert NDCG(ranked_docs, relevance_dict) == NDCG_score, \"NDCG error\""
   ]
  },
  {
   "cell_type": "code",
   "execution_count": 13,
   "metadata": {},
   "outputs": [],
   "source": [
    "def average_precision_helper(relevance_list):\n",
    "    precision = 0.0\n",
    "    relevant_so_far = 0.0\n",
    "    for i, val in enumerate(relevance_list):\n",
    "        relevant_so_far += val\n",
    "        precision += relevant_so_far / (i+1)\n",
    "    return precision / len(relevance_list)\n",
    "\n",
    "def average_precision(ranked_doc_list, query_relevance_dict):\n",
    "    relevance_list = [1 if query_relevance_dict[doc] >= 1.0 else 0 for doc in ranked_doc_list]\n",
    "    return average_precision_helper(relevance_list)\n",
    "\n",
    "expected = (1 + 1 + 2/3 + 2/4 + 3/5 + 3/6 + 4/7)/ 7\n",
    "actual = average_precision_helper([1, 1, 0, 0, 1, 0, 1])\n",
    "assert expected == actual, actual\n"
   ]
  },
  {
   "cell_type": "code",
   "execution_count": 14,
   "metadata": {},
   "outputs": [],
   "source": [
    "def random_similarity(doc_embedding, query_embedding):\n",
    "    return np.random.uniform()\n",
    "\n",
    "def cosine_similarity(doc_embedding, query_embedding):\n",
    "    norm = np.linalg.norm(doc_embedding)\n",
    "    if norm > 0:\n",
    "        doc_embedding /= norm\n",
    "    return np.dot(doc_embedding, query_embedding)\n"
   ]
  },
  {
   "cell_type": "code",
   "execution_count": 15,
   "metadata": {},
   "outputs": [],
   "source": [
    "def run_metrics(scoring_func=cosine_similarity, content_type='title'):\n",
    "    ndcg_sum = 0.0\n",
    "    alt_ndcg_sum = 0.0\n",
    "    precision_sum = 0.0\n",
    "    for query in query_iter():\n",
    "        query_relevance_dict = get_relevance_dict(query)\n",
    "        query_embedding, document_embeddings = query_and_document_embeddings(query, content_type=content_type)\n",
    "        \n",
    "        scores = [(url, scoring_func(doc_emb, query_embedding)) for url, doc_emb in document_embeddings]\n",
    "        scores = sorted(scores, key = lambda x: x[1], reverse=True)\n",
    "        ranked_doc_list, _ = zip(*scores)\n",
    "        ranked_doc_list = list(ranked_doc_list)\n",
    "\n",
    "        ndcg_sum += NDCG(ranked_doc_list, query_relevance_dict)\n",
    "        alt_ndcg_sum += NDCG(ranked_doc_list, query_relevance_dict, use_alt=True)\n",
    "        precision_sum += average_precision(ranked_doc_list, query_relevance_dict)\n",
    "        \n",
    "    ndcg_sum /= len(query_dict)\n",
    "    alt_ndcg_sum  /= len(query_dict)\n",
    "    precision_sum /= len(query_dict)\n",
    "    return {'NDCG': ndcg_sum,\n",
    "            'Alt_NDCG': alt_ndcg_sum,\n",
    "            'MAP': precision_sum,}"
   ]
  },
  {
   "cell_type": "markdown",
   "metadata": {},
   "source": [
    "## Random ordering accuracy\n",
    "\n",
    "For every query, arrange the docs in random order and check the NDCG value"
   ]
  },
  {
   "cell_type": "code",
   "execution_count": 16,
   "metadata": {},
   "outputs": [
    {
     "data": {
      "text/plain": [
       "{'NDCG': 0.8105896211335066,\n",
       " 'Alt_NDCG': 0.7436074341489898,\n",
       " 'MAP': 0.7258456069417832}"
      ]
     },
     "execution_count": 16,
     "metadata": {},
     "output_type": "execute_result"
    }
   ],
   "source": [
    "n = 10\n",
    "sum_metric = {}\n",
    "for _ in range(n):\n",
    "    for m, v in run_metrics(scoring_func=random_similarity).items():\n",
    "        sum_metric[m] = sum_metric.get(m, 0) + v / n\n",
    "sum_metric"
   ]
  },
  {
   "cell_type": "code",
   "execution_count": 17,
   "metadata": {},
   "outputs": [
    {
     "data": {
      "text/plain": [
       "{'NDCG': 0.8647397159664021,\n",
       " 'Alt_NDCG': 0.815829927971894,\n",
       " 'MAP': 0.776858360277802}"
      ]
     },
     "execution_count": 17,
     "metadata": {},
     "output_type": "execute_result"
    }
   ],
   "source": [
    "run_metrics(scoring_func=cosine_similarity, content_type='title')"
   ]
  },
  {
   "cell_type": "code",
   "execution_count": 18,
   "metadata": {},
   "outputs": [
    {
     "data": {
      "text/plain": [
       "{'NDCG': 0.8552298809465102,\n",
       " 'Alt_NDCG': 0.8019164999021395,\n",
       " 'MAP': 0.7652650542118645}"
      ]
     },
     "execution_count": 18,
     "metadata": {},
     "output_type": "execute_result"
    }
   ],
   "source": [
    "run_metrics(scoring_func=cosine_similarity, content_type='header')"
   ]
  },
  {
   "cell_type": "code",
   "execution_count": 19,
   "metadata": {},
   "outputs": [
    {
     "data": {
      "text/plain": [
       "{'NDCG': 0.8667825897043977,\n",
       " 'Alt_NDCG': 0.8177130743614507,\n",
       " 'MAP': 0.7774704992143731}"
      ]
     },
     "execution_count": 19,
     "metadata": {},
     "output_type": "execute_result"
    }
   ],
   "source": [
    "run_metrics(scoring_func=cosine_similarity, content_type='2th')"
   ]
  },
  {
   "cell_type": "code",
   "execution_count": 20,
   "metadata": {},
   "outputs": [
    {
     "data": {
      "text/plain": [
       "{'NDCG': 0.84877473860534,\n",
       " 'Alt_NDCG': 0.7917931581210282,\n",
       " 'MAP': 0.7621328885730236}"
      ]
     },
     "execution_count": 20,
     "metadata": {},
     "output_type": "execute_result"
    }
   ],
   "source": [
    "run_metrics(scoring_func=cosine_similarity, content_type='body')"
   ]
  },
  {
   "cell_type": "code",
   "execution_count": null,
   "metadata": {},
   "outputs": [],
   "source": []
  }
 ],
 "metadata": {
  "kernelspec": {
   "display_name": "Python 3",
   "language": "python",
   "name": "python3"
  },
  "language_info": {
   "codemirror_mode": {
    "name": "ipython",
    "version": 3
   },
   "file_extension": ".py",
   "mimetype": "text/x-python",
   "name": "python",
   "nbconvert_exporter": "python",
   "pygments_lexer": "ipython3",
   "version": "3.7.1"
  }
 },
 "nbformat": 4,
 "nbformat_minor": 2
}
